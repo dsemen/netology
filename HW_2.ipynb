{
 "cells": [
  {
   "cell_type": "code",
   "execution_count": 74,
   "metadata": {},
   "outputs": [],
   "source": [
    "import pandas as pd\n",
    "import numpy as np\n",
    "import matplotlib.pyplot as plt\n",
    "%matplotlib inline\n",
    "import seaborn as sns"
   ]
  },
  {
   "cell_type": "markdown",
   "metadata": {},
   "source": [
    "## Kobe Bryant  shot selection"
   ]
  },
  {
   "cell_type": "markdown",
   "metadata": {},
   "source": [
    "Cсылка на соревнование: https://www.kaggle.com/c/kobe-bryant-shot-selection"
   ]
  },
  {
   "cell_type": "markdown",
   "metadata": {},
   "source": [
    "Goal: Fun and education"
   ]
  },
  {
   "cell_type": "markdown",
   "metadata": {},
   "source": [
    "Using 20 years of data on Kobe's swishes and misses, can you predict which shots will find the bottom of the net? This competition is well suited for practicing classification basics, feature engineering, and time series analysis. Practice got Kobe an eight-figure contract and 5 championship rings. What will it get you?"
   ]
  },
  {
   "cell_type": "markdown",
   "metadata": {},
   "source": [
    "This data contains the location and circumstances of every field goal attempted by Kobe Bryant took during his 20-year career. Your task is to predict whether the basket went in (shot_made_flag).\n",
    "\n",
    "We have removed 5000 of the shot_made_flags (represented as missing values in the csv file). These are the test set shots for which you must submit a prediction. You are provided a sample submission file with the correct shot_ids needed for a valid prediction."
   ]
  },
  {
   "cell_type": "code",
   "execution_count": 199,
   "metadata": {},
   "outputs": [],
   "source": [
    "data = pd.read_csv('data/Kobe.csv')"
   ]
  },
  {
   "cell_type": "markdown",
   "metadata": {},
   "source": [
    "Посмотрим общую информацию о данных"
   ]
  },
  {
   "cell_type": "code",
   "execution_count": 200,
   "metadata": {},
   "outputs": [
    {
     "data": {
      "text/plain": [
       "(30697, 25)"
      ]
     },
     "execution_count": 200,
     "metadata": {},
     "output_type": "execute_result"
    }
   ],
   "source": [
    "data.shape"
   ]
  },
  {
   "cell_type": "code",
   "execution_count": 201,
   "metadata": {},
   "outputs": [
    {
     "name": "stdout",
     "output_type": "stream",
     "text": [
      "<class 'pandas.core.frame.DataFrame'>\n",
      "RangeIndex: 30697 entries, 0 to 30696\n",
      "Data columns (total 25 columns):\n",
      "action_type           30697 non-null object\n",
      "combined_shot_type    30697 non-null object\n",
      "game_event_id         30697 non-null int64\n",
      "game_id               30697 non-null int64\n",
      "lat                   30697 non-null float64\n",
      "loc_x                 30697 non-null int64\n",
      "loc_y                 30697 non-null int64\n",
      "lon                   30697 non-null float64\n",
      "minutes_remaining     30697 non-null int64\n",
      "period                30697 non-null int64\n",
      "playoffs              30697 non-null int64\n",
      "season                30697 non-null object\n",
      "seconds_remaining     30697 non-null int64\n",
      "shot_distance         30697 non-null int64\n",
      "shot_made_flag        25697 non-null float64\n",
      "shot_type             30697 non-null object\n",
      "shot_zone_area        30697 non-null object\n",
      "shot_zone_basic       30697 non-null object\n",
      "shot_zone_range       30697 non-null object\n",
      "team_id               30697 non-null int64\n",
      "team_name             30697 non-null object\n",
      "game_date             30697 non-null object\n",
      "matchup               30697 non-null object\n",
      "opponent              30697 non-null object\n",
      "shot_id               30697 non-null int64\n",
      "dtypes: float64(3), int64(11), object(11)\n",
      "memory usage: 5.9+ MB\n"
     ]
    }
   ],
   "source": [
    "data.info()"
   ]
  },
  {
   "cell_type": "code",
   "execution_count": 202,
   "metadata": {},
   "outputs": [
    {
     "data": {
      "text/html": [
       "<div>\n",
       "<style scoped>\n",
       "    .dataframe tbody tr th:only-of-type {\n",
       "        vertical-align: middle;\n",
       "    }\n",
       "\n",
       "    .dataframe tbody tr th {\n",
       "        vertical-align: top;\n",
       "    }\n",
       "\n",
       "    .dataframe thead th {\n",
       "        text-align: right;\n",
       "    }\n",
       "</style>\n",
       "<table border=\"1\" class=\"dataframe\">\n",
       "  <thead>\n",
       "    <tr style=\"text-align: right;\">\n",
       "      <th></th>\n",
       "      <th>action_type</th>\n",
       "      <th>combined_shot_type</th>\n",
       "      <th>game_event_id</th>\n",
       "      <th>game_id</th>\n",
       "      <th>lat</th>\n",
       "      <th>loc_x</th>\n",
       "      <th>loc_y</th>\n",
       "      <th>lon</th>\n",
       "      <th>minutes_remaining</th>\n",
       "      <th>period</th>\n",
       "      <th>...</th>\n",
       "      <th>shot_type</th>\n",
       "      <th>shot_zone_area</th>\n",
       "      <th>shot_zone_basic</th>\n",
       "      <th>shot_zone_range</th>\n",
       "      <th>team_id</th>\n",
       "      <th>team_name</th>\n",
       "      <th>game_date</th>\n",
       "      <th>matchup</th>\n",
       "      <th>opponent</th>\n",
       "      <th>shot_id</th>\n",
       "    </tr>\n",
       "  </thead>\n",
       "  <tbody>\n",
       "    <tr>\n",
       "      <th>0</th>\n",
       "      <td>Jump Shot</td>\n",
       "      <td>Jump Shot</td>\n",
       "      <td>10</td>\n",
       "      <td>20000012</td>\n",
       "      <td>33.9723</td>\n",
       "      <td>167</td>\n",
       "      <td>72</td>\n",
       "      <td>-118.1028</td>\n",
       "      <td>10</td>\n",
       "      <td>1</td>\n",
       "      <td>...</td>\n",
       "      <td>2PT Field Goal</td>\n",
       "      <td>Right Side(R)</td>\n",
       "      <td>Mid-Range</td>\n",
       "      <td>16-24 ft.</td>\n",
       "      <td>1610612747</td>\n",
       "      <td>Los Angeles Lakers</td>\n",
       "      <td>2000-10-31</td>\n",
       "      <td>LAL @ POR</td>\n",
       "      <td>POR</td>\n",
       "      <td>1</td>\n",
       "    </tr>\n",
       "    <tr>\n",
       "      <th>1</th>\n",
       "      <td>Jump Shot</td>\n",
       "      <td>Jump Shot</td>\n",
       "      <td>12</td>\n",
       "      <td>20000012</td>\n",
       "      <td>34.0443</td>\n",
       "      <td>-157</td>\n",
       "      <td>0</td>\n",
       "      <td>-118.4268</td>\n",
       "      <td>10</td>\n",
       "      <td>1</td>\n",
       "      <td>...</td>\n",
       "      <td>2PT Field Goal</td>\n",
       "      <td>Left Side(L)</td>\n",
       "      <td>Mid-Range</td>\n",
       "      <td>8-16 ft.</td>\n",
       "      <td>1610612747</td>\n",
       "      <td>Los Angeles Lakers</td>\n",
       "      <td>2000-10-31</td>\n",
       "      <td>LAL @ POR</td>\n",
       "      <td>POR</td>\n",
       "      <td>2</td>\n",
       "    </tr>\n",
       "    <tr>\n",
       "      <th>2</th>\n",
       "      <td>Jump Shot</td>\n",
       "      <td>Jump Shot</td>\n",
       "      <td>35</td>\n",
       "      <td>20000012</td>\n",
       "      <td>33.9093</td>\n",
       "      <td>-101</td>\n",
       "      <td>135</td>\n",
       "      <td>-118.3708</td>\n",
       "      <td>7</td>\n",
       "      <td>1</td>\n",
       "      <td>...</td>\n",
       "      <td>2PT Field Goal</td>\n",
       "      <td>Left Side Center(LC)</td>\n",
       "      <td>Mid-Range</td>\n",
       "      <td>16-24 ft.</td>\n",
       "      <td>1610612747</td>\n",
       "      <td>Los Angeles Lakers</td>\n",
       "      <td>2000-10-31</td>\n",
       "      <td>LAL @ POR</td>\n",
       "      <td>POR</td>\n",
       "      <td>3</td>\n",
       "    </tr>\n",
       "    <tr>\n",
       "      <th>3</th>\n",
       "      <td>Jump Shot</td>\n",
       "      <td>Jump Shot</td>\n",
       "      <td>43</td>\n",
       "      <td>20000012</td>\n",
       "      <td>33.8693</td>\n",
       "      <td>138</td>\n",
       "      <td>175</td>\n",
       "      <td>-118.1318</td>\n",
       "      <td>6</td>\n",
       "      <td>1</td>\n",
       "      <td>...</td>\n",
       "      <td>2PT Field Goal</td>\n",
       "      <td>Right Side Center(RC)</td>\n",
       "      <td>Mid-Range</td>\n",
       "      <td>16-24 ft.</td>\n",
       "      <td>1610612747</td>\n",
       "      <td>Los Angeles Lakers</td>\n",
       "      <td>2000-10-31</td>\n",
       "      <td>LAL @ POR</td>\n",
       "      <td>POR</td>\n",
       "      <td>4</td>\n",
       "    </tr>\n",
       "    <tr>\n",
       "      <th>4</th>\n",
       "      <td>Driving Dunk Shot</td>\n",
       "      <td>Dunk</td>\n",
       "      <td>155</td>\n",
       "      <td>20000012</td>\n",
       "      <td>34.0443</td>\n",
       "      <td>0</td>\n",
       "      <td>0</td>\n",
       "      <td>-118.2698</td>\n",
       "      <td>6</td>\n",
       "      <td>2</td>\n",
       "      <td>...</td>\n",
       "      <td>2PT Field Goal</td>\n",
       "      <td>Center(C)</td>\n",
       "      <td>Restricted Area</td>\n",
       "      <td>Less Than 8 ft.</td>\n",
       "      <td>1610612747</td>\n",
       "      <td>Los Angeles Lakers</td>\n",
       "      <td>2000-10-31</td>\n",
       "      <td>LAL @ POR</td>\n",
       "      <td>POR</td>\n",
       "      <td>5</td>\n",
       "    </tr>\n",
       "  </tbody>\n",
       "</table>\n",
       "<p>5 rows × 25 columns</p>\n",
       "</div>"
      ],
      "text/plain": [
       "         action_type combined_shot_type  game_event_id   game_id      lat  \\\n",
       "0          Jump Shot          Jump Shot             10  20000012  33.9723   \n",
       "1          Jump Shot          Jump Shot             12  20000012  34.0443   \n",
       "2          Jump Shot          Jump Shot             35  20000012  33.9093   \n",
       "3          Jump Shot          Jump Shot             43  20000012  33.8693   \n",
       "4  Driving Dunk Shot               Dunk            155  20000012  34.0443   \n",
       "\n",
       "   loc_x  loc_y       lon  minutes_remaining  period   ...          shot_type  \\\n",
       "0    167     72 -118.1028                 10       1   ...     2PT Field Goal   \n",
       "1   -157      0 -118.4268                 10       1   ...     2PT Field Goal   \n",
       "2   -101    135 -118.3708                  7       1   ...     2PT Field Goal   \n",
       "3    138    175 -118.1318                  6       1   ...     2PT Field Goal   \n",
       "4      0      0 -118.2698                  6       2   ...     2PT Field Goal   \n",
       "\n",
       "          shot_zone_area  shot_zone_basic  shot_zone_range     team_id  \\\n",
       "0          Right Side(R)        Mid-Range        16-24 ft.  1610612747   \n",
       "1           Left Side(L)        Mid-Range         8-16 ft.  1610612747   \n",
       "2   Left Side Center(LC)        Mid-Range        16-24 ft.  1610612747   \n",
       "3  Right Side Center(RC)        Mid-Range        16-24 ft.  1610612747   \n",
       "4              Center(C)  Restricted Area  Less Than 8 ft.  1610612747   \n",
       "\n",
       "            team_name   game_date    matchup opponent  shot_id  \n",
       "0  Los Angeles Lakers  2000-10-31  LAL @ POR      POR        1  \n",
       "1  Los Angeles Lakers  2000-10-31  LAL @ POR      POR        2  \n",
       "2  Los Angeles Lakers  2000-10-31  LAL @ POR      POR        3  \n",
       "3  Los Angeles Lakers  2000-10-31  LAL @ POR      POR        4  \n",
       "4  Los Angeles Lakers  2000-10-31  LAL @ POR      POR        5  \n",
       "\n",
       "[5 rows x 25 columns]"
      ]
     },
     "execution_count": 202,
     "metadata": {},
     "output_type": "execute_result"
    }
   ],
   "source": [
    "data.head()"
   ]
  },
  {
   "cell_type": "code",
   "execution_count": 203,
   "metadata": {},
   "outputs": [
    {
     "data": {
      "text/html": [
       "<div>\n",
       "<style scoped>\n",
       "    .dataframe tbody tr th:only-of-type {\n",
       "        vertical-align: middle;\n",
       "    }\n",
       "\n",
       "    .dataframe tbody tr th {\n",
       "        vertical-align: top;\n",
       "    }\n",
       "\n",
       "    .dataframe thead th {\n",
       "        text-align: right;\n",
       "    }\n",
       "</style>\n",
       "<table border=\"1\" class=\"dataframe\">\n",
       "  <thead>\n",
       "    <tr style=\"text-align: right;\">\n",
       "      <th></th>\n",
       "      <th>game_event_id</th>\n",
       "      <th>game_id</th>\n",
       "      <th>lat</th>\n",
       "      <th>loc_x</th>\n",
       "      <th>loc_y</th>\n",
       "      <th>lon</th>\n",
       "      <th>minutes_remaining</th>\n",
       "      <th>period</th>\n",
       "      <th>playoffs</th>\n",
       "      <th>seconds_remaining</th>\n",
       "      <th>shot_distance</th>\n",
       "      <th>shot_made_flag</th>\n",
       "      <th>team_id</th>\n",
       "      <th>shot_id</th>\n",
       "    </tr>\n",
       "  </thead>\n",
       "  <tbody>\n",
       "    <tr>\n",
       "      <th>count</th>\n",
       "      <td>30697.000000</td>\n",
       "      <td>3.069700e+04</td>\n",
       "      <td>30697.000000</td>\n",
       "      <td>30697.000000</td>\n",
       "      <td>30697.000000</td>\n",
       "      <td>30697.000000</td>\n",
       "      <td>30697.000000</td>\n",
       "      <td>30697.000000</td>\n",
       "      <td>30697.000000</td>\n",
       "      <td>30697.000000</td>\n",
       "      <td>30697.000000</td>\n",
       "      <td>25697.000000</td>\n",
       "      <td>3.069700e+04</td>\n",
       "      <td>30697.000000</td>\n",
       "    </tr>\n",
       "    <tr>\n",
       "      <th>mean</th>\n",
       "      <td>249.190800</td>\n",
       "      <td>2.476407e+07</td>\n",
       "      <td>33.953192</td>\n",
       "      <td>7.110499</td>\n",
       "      <td>91.107535</td>\n",
       "      <td>-118.262690</td>\n",
       "      <td>4.885624</td>\n",
       "      <td>2.519432</td>\n",
       "      <td>0.146562</td>\n",
       "      <td>28.365085</td>\n",
       "      <td>13.437437</td>\n",
       "      <td>0.446161</td>\n",
       "      <td>1.610613e+09</td>\n",
       "      <td>15349.000000</td>\n",
       "    </tr>\n",
       "    <tr>\n",
       "      <th>std</th>\n",
       "      <td>150.003712</td>\n",
       "      <td>7.755175e+06</td>\n",
       "      <td>0.087791</td>\n",
       "      <td>110.124578</td>\n",
       "      <td>87.791361</td>\n",
       "      <td>0.110125</td>\n",
       "      <td>3.449897</td>\n",
       "      <td>1.153665</td>\n",
       "      <td>0.353674</td>\n",
       "      <td>17.478949</td>\n",
       "      <td>9.374189</td>\n",
       "      <td>0.497103</td>\n",
       "      <td>0.000000e+00</td>\n",
       "      <td>8861.604943</td>\n",
       "    </tr>\n",
       "    <tr>\n",
       "      <th>min</th>\n",
       "      <td>2.000000</td>\n",
       "      <td>2.000001e+07</td>\n",
       "      <td>33.253300</td>\n",
       "      <td>-250.000000</td>\n",
       "      <td>-44.000000</td>\n",
       "      <td>-118.519800</td>\n",
       "      <td>0.000000</td>\n",
       "      <td>1.000000</td>\n",
       "      <td>0.000000</td>\n",
       "      <td>0.000000</td>\n",
       "      <td>0.000000</td>\n",
       "      <td>0.000000</td>\n",
       "      <td>1.610613e+09</td>\n",
       "      <td>1.000000</td>\n",
       "    </tr>\n",
       "    <tr>\n",
       "      <th>25%</th>\n",
       "      <td>110.000000</td>\n",
       "      <td>2.050008e+07</td>\n",
       "      <td>33.884300</td>\n",
       "      <td>-68.000000</td>\n",
       "      <td>4.000000</td>\n",
       "      <td>-118.337800</td>\n",
       "      <td>2.000000</td>\n",
       "      <td>1.000000</td>\n",
       "      <td>0.000000</td>\n",
       "      <td>13.000000</td>\n",
       "      <td>5.000000</td>\n",
       "      <td>0.000000</td>\n",
       "      <td>1.610613e+09</td>\n",
       "      <td>7675.000000</td>\n",
       "    </tr>\n",
       "    <tr>\n",
       "      <th>50%</th>\n",
       "      <td>253.000000</td>\n",
       "      <td>2.090035e+07</td>\n",
       "      <td>33.970300</td>\n",
       "      <td>0.000000</td>\n",
       "      <td>74.000000</td>\n",
       "      <td>-118.269800</td>\n",
       "      <td>5.000000</td>\n",
       "      <td>3.000000</td>\n",
       "      <td>0.000000</td>\n",
       "      <td>28.000000</td>\n",
       "      <td>15.000000</td>\n",
       "      <td>0.000000</td>\n",
       "      <td>1.610613e+09</td>\n",
       "      <td>15349.000000</td>\n",
       "    </tr>\n",
       "    <tr>\n",
       "      <th>75%</th>\n",
       "      <td>368.000000</td>\n",
       "      <td>2.960047e+07</td>\n",
       "      <td>34.040300</td>\n",
       "      <td>95.000000</td>\n",
       "      <td>160.000000</td>\n",
       "      <td>-118.174800</td>\n",
       "      <td>8.000000</td>\n",
       "      <td>3.000000</td>\n",
       "      <td>0.000000</td>\n",
       "      <td>43.000000</td>\n",
       "      <td>21.000000</td>\n",
       "      <td>1.000000</td>\n",
       "      <td>1.610613e+09</td>\n",
       "      <td>23023.000000</td>\n",
       "    </tr>\n",
       "    <tr>\n",
       "      <th>max</th>\n",
       "      <td>659.000000</td>\n",
       "      <td>4.990009e+07</td>\n",
       "      <td>34.088300</td>\n",
       "      <td>248.000000</td>\n",
       "      <td>791.000000</td>\n",
       "      <td>-118.021800</td>\n",
       "      <td>11.000000</td>\n",
       "      <td>7.000000</td>\n",
       "      <td>1.000000</td>\n",
       "      <td>59.000000</td>\n",
       "      <td>79.000000</td>\n",
       "      <td>1.000000</td>\n",
       "      <td>1.610613e+09</td>\n",
       "      <td>30697.000000</td>\n",
       "    </tr>\n",
       "  </tbody>\n",
       "</table>\n",
       "</div>"
      ],
      "text/plain": [
       "       game_event_id       game_id           lat         loc_x         loc_y  \\\n",
       "count   30697.000000  3.069700e+04  30697.000000  30697.000000  30697.000000   \n",
       "mean      249.190800  2.476407e+07     33.953192      7.110499     91.107535   \n",
       "std       150.003712  7.755175e+06      0.087791    110.124578     87.791361   \n",
       "min         2.000000  2.000001e+07     33.253300   -250.000000    -44.000000   \n",
       "25%       110.000000  2.050008e+07     33.884300    -68.000000      4.000000   \n",
       "50%       253.000000  2.090035e+07     33.970300      0.000000     74.000000   \n",
       "75%       368.000000  2.960047e+07     34.040300     95.000000    160.000000   \n",
       "max       659.000000  4.990009e+07     34.088300    248.000000    791.000000   \n",
       "\n",
       "                lon  minutes_remaining        period      playoffs  \\\n",
       "count  30697.000000       30697.000000  30697.000000  30697.000000   \n",
       "mean    -118.262690           4.885624      2.519432      0.146562   \n",
       "std        0.110125           3.449897      1.153665      0.353674   \n",
       "min     -118.519800           0.000000      1.000000      0.000000   \n",
       "25%     -118.337800           2.000000      1.000000      0.000000   \n",
       "50%     -118.269800           5.000000      3.000000      0.000000   \n",
       "75%     -118.174800           8.000000      3.000000      0.000000   \n",
       "max     -118.021800          11.000000      7.000000      1.000000   \n",
       "\n",
       "       seconds_remaining  shot_distance  shot_made_flag       team_id  \\\n",
       "count       30697.000000   30697.000000    25697.000000  3.069700e+04   \n",
       "mean           28.365085      13.437437        0.446161  1.610613e+09   \n",
       "std            17.478949       9.374189        0.497103  0.000000e+00   \n",
       "min             0.000000       0.000000        0.000000  1.610613e+09   \n",
       "25%            13.000000       5.000000        0.000000  1.610613e+09   \n",
       "50%            28.000000      15.000000        0.000000  1.610613e+09   \n",
       "75%            43.000000      21.000000        1.000000  1.610613e+09   \n",
       "max            59.000000      79.000000        1.000000  1.610613e+09   \n",
       "\n",
       "            shot_id  \n",
       "count  30697.000000  \n",
       "mean   15349.000000  \n",
       "std     8861.604943  \n",
       "min        1.000000  \n",
       "25%     7675.000000  \n",
       "50%    15349.000000  \n",
       "75%    23023.000000  \n",
       "max    30697.000000  "
      ]
     },
     "execution_count": 203,
     "metadata": {},
     "output_type": "execute_result"
    }
   ],
   "source": [
    "data.describe()"
   ]
  },
  {
   "cell_type": "code",
   "execution_count": 204,
   "metadata": {},
   "outputs": [
    {
     "data": {
      "text/html": [
       "<div>\n",
       "<style scoped>\n",
       "    .dataframe tbody tr th:only-of-type {\n",
       "        vertical-align: middle;\n",
       "    }\n",
       "\n",
       "    .dataframe tbody tr th {\n",
       "        vertical-align: top;\n",
       "    }\n",
       "\n",
       "    .dataframe thead th {\n",
       "        text-align: right;\n",
       "    }\n",
       "</style>\n",
       "<table border=\"1\" class=\"dataframe\">\n",
       "  <thead>\n",
       "    <tr style=\"text-align: right;\">\n",
       "      <th></th>\n",
       "      <th>27349</th>\n",
       "      <th>5121</th>\n",
       "      <th>9693</th>\n",
       "      <th>15692</th>\n",
       "      <th>3606</th>\n",
       "      <th>6834</th>\n",
       "      <th>23586</th>\n",
       "    </tr>\n",
       "  </thead>\n",
       "  <tbody>\n",
       "    <tr>\n",
       "      <th>action_type</th>\n",
       "      <td>Jump Shot</td>\n",
       "      <td>Jump Shot</td>\n",
       "      <td>Driving Layup Shot</td>\n",
       "      <td>Jump Shot</td>\n",
       "      <td>Jump Shot</td>\n",
       "      <td>Slam Dunk Shot</td>\n",
       "      <td>Jump Shot</td>\n",
       "    </tr>\n",
       "    <tr>\n",
       "      <th>combined_shot_type</th>\n",
       "      <td>Jump Shot</td>\n",
       "      <td>Jump Shot</td>\n",
       "      <td>Layup</td>\n",
       "      <td>Jump Shot</td>\n",
       "      <td>Jump Shot</td>\n",
       "      <td>Dunk</td>\n",
       "      <td>Jump Shot</td>\n",
       "    </tr>\n",
       "    <tr>\n",
       "      <th>game_event_id</th>\n",
       "      <td>178</td>\n",
       "      <td>17</td>\n",
       "      <td>213</td>\n",
       "      <td>231</td>\n",
       "      <td>490</td>\n",
       "      <td>143</td>\n",
       "      <td>336</td>\n",
       "    </tr>\n",
       "    <tr>\n",
       "      <th>game_id</th>\n",
       "      <td>40300153</td>\n",
       "      <td>20300091</td>\n",
       "      <td>20501229</td>\n",
       "      <td>20900527</td>\n",
       "      <td>20200292</td>\n",
       "      <td>20400461</td>\n",
       "      <td>29700322</td>\n",
       "    </tr>\n",
       "    <tr>\n",
       "      <th>lat</th>\n",
       "      <td>33.9583</td>\n",
       "      <td>33.8633</td>\n",
       "      <td>34.0443</td>\n",
       "      <td>33.8363</td>\n",
       "      <td>34.0223</td>\n",
       "      <td>34.0443</td>\n",
       "      <td>33.9743</td>\n",
       "    </tr>\n",
       "    <tr>\n",
       "      <th>loc_x</th>\n",
       "      <td>-107</td>\n",
       "      <td>-21</td>\n",
       "      <td>0</td>\n",
       "      <td>-119</td>\n",
       "      <td>34</td>\n",
       "      <td>0</td>\n",
       "      <td>229</td>\n",
       "    </tr>\n",
       "    <tr>\n",
       "      <th>loc_y</th>\n",
       "      <td>86</td>\n",
       "      <td>181</td>\n",
       "      <td>0</td>\n",
       "      <td>208</td>\n",
       "      <td>22</td>\n",
       "      <td>0</td>\n",
       "      <td>70</td>\n",
       "    </tr>\n",
       "    <tr>\n",
       "      <th>lon</th>\n",
       "      <td>-118.377</td>\n",
       "      <td>-118.291</td>\n",
       "      <td>-118.27</td>\n",
       "      <td>-118.389</td>\n",
       "      <td>-118.236</td>\n",
       "      <td>-118.27</td>\n",
       "      <td>-118.041</td>\n",
       "    </tr>\n",
       "    <tr>\n",
       "      <th>minutes_remaining</th>\n",
       "      <td>3</td>\n",
       "      <td>9</td>\n",
       "      <td>2</td>\n",
       "      <td>11</td>\n",
       "      <td>1</td>\n",
       "      <td>9</td>\n",
       "      <td>2</td>\n",
       "    </tr>\n",
       "    <tr>\n",
       "      <th>period</th>\n",
       "      <td>2</td>\n",
       "      <td>1</td>\n",
       "      <td>2</td>\n",
       "      <td>3</td>\n",
       "      <td>4</td>\n",
       "      <td>2</td>\n",
       "      <td>3</td>\n",
       "    </tr>\n",
       "    <tr>\n",
       "      <th>playoffs</th>\n",
       "      <td>1</td>\n",
       "      <td>0</td>\n",
       "      <td>0</td>\n",
       "      <td>0</td>\n",
       "      <td>0</td>\n",
       "      <td>0</td>\n",
       "      <td>0</td>\n",
       "    </tr>\n",
       "    <tr>\n",
       "      <th>season</th>\n",
       "      <td>2003-04</td>\n",
       "      <td>2003-04</td>\n",
       "      <td>2005-06</td>\n",
       "      <td>2009-10</td>\n",
       "      <td>2002-03</td>\n",
       "      <td>2004-05</td>\n",
       "      <td>1997-98</td>\n",
       "    </tr>\n",
       "    <tr>\n",
       "      <th>seconds_remaining</th>\n",
       "      <td>44</td>\n",
       "      <td>51</td>\n",
       "      <td>46</td>\n",
       "      <td>41</td>\n",
       "      <td>42</td>\n",
       "      <td>35</td>\n",
       "      <td>45</td>\n",
       "    </tr>\n",
       "    <tr>\n",
       "      <th>shot_distance</th>\n",
       "      <td>13</td>\n",
       "      <td>18</td>\n",
       "      <td>0</td>\n",
       "      <td>23</td>\n",
       "      <td>4</td>\n",
       "      <td>0</td>\n",
       "      <td>23</td>\n",
       "    </tr>\n",
       "    <tr>\n",
       "      <th>shot_made_flag</th>\n",
       "      <td>1</td>\n",
       "      <td>0</td>\n",
       "      <td>1</td>\n",
       "      <td>0</td>\n",
       "      <td>0</td>\n",
       "      <td>1</td>\n",
       "      <td>0</td>\n",
       "    </tr>\n",
       "    <tr>\n",
       "      <th>shot_type</th>\n",
       "      <td>2PT Field Goal</td>\n",
       "      <td>2PT Field Goal</td>\n",
       "      <td>2PT Field Goal</td>\n",
       "      <td>3PT Field Goal</td>\n",
       "      <td>2PT Field Goal</td>\n",
       "      <td>2PT Field Goal</td>\n",
       "      <td>3PT Field Goal</td>\n",
       "    </tr>\n",
       "    <tr>\n",
       "      <th>shot_zone_area</th>\n",
       "      <td>Left Side(L)</td>\n",
       "      <td>Center(C)</td>\n",
       "      <td>Center(C)</td>\n",
       "      <td>Left Side Center(LC)</td>\n",
       "      <td>Center(C)</td>\n",
       "      <td>Center(C)</td>\n",
       "      <td>Right Side(R)</td>\n",
       "    </tr>\n",
       "    <tr>\n",
       "      <th>shot_zone_basic</th>\n",
       "      <td>Mid-Range</td>\n",
       "      <td>Mid-Range</td>\n",
       "      <td>Restricted Area</td>\n",
       "      <td>Above the Break 3</td>\n",
       "      <td>In The Paint (Non-RA)</td>\n",
       "      <td>Restricted Area</td>\n",
       "      <td>Right Corner 3</td>\n",
       "    </tr>\n",
       "    <tr>\n",
       "      <th>shot_zone_range</th>\n",
       "      <td>8-16 ft.</td>\n",
       "      <td>16-24 ft.</td>\n",
       "      <td>Less Than 8 ft.</td>\n",
       "      <td>24+ ft.</td>\n",
       "      <td>Less Than 8 ft.</td>\n",
       "      <td>Less Than 8 ft.</td>\n",
       "      <td>24+ ft.</td>\n",
       "    </tr>\n",
       "    <tr>\n",
       "      <th>team_id</th>\n",
       "      <td>1610612747</td>\n",
       "      <td>1610612747</td>\n",
       "      <td>1610612747</td>\n",
       "      <td>1610612747</td>\n",
       "      <td>1610612747</td>\n",
       "      <td>1610612747</td>\n",
       "      <td>1610612747</td>\n",
       "    </tr>\n",
       "    <tr>\n",
       "      <th>team_name</th>\n",
       "      <td>Los Angeles Lakers</td>\n",
       "      <td>Los Angeles Lakers</td>\n",
       "      <td>Los Angeles Lakers</td>\n",
       "      <td>Los Angeles Lakers</td>\n",
       "      <td>Los Angeles Lakers</td>\n",
       "      <td>Los Angeles Lakers</td>\n",
       "      <td>Los Angeles Lakers</td>\n",
       "    </tr>\n",
       "    <tr>\n",
       "      <th>game_date</th>\n",
       "      <td>2004-04-23</td>\n",
       "      <td>2003-11-10</td>\n",
       "      <td>2006-04-19</td>\n",
       "      <td>2010-01-08</td>\n",
       "      <td>2002-12-08</td>\n",
       "      <td>2005-01-05</td>\n",
       "      <td>1997-12-16</td>\n",
       "    </tr>\n",
       "    <tr>\n",
       "      <th>matchup</th>\n",
       "      <td>LAL @ HOU</td>\n",
       "      <td>LAL @ MEM</td>\n",
       "      <td>LAL vs. NOK</td>\n",
       "      <td>LAL @ POR</td>\n",
       "      <td>LAL vs. UTA</td>\n",
       "      <td>LAL @ DAL</td>\n",
       "      <td>LAL @ MIN</td>\n",
       "    </tr>\n",
       "    <tr>\n",
       "      <th>opponent</th>\n",
       "      <td>HOU</td>\n",
       "      <td>MEM</td>\n",
       "      <td>NOP</td>\n",
       "      <td>POR</td>\n",
       "      <td>UTA</td>\n",
       "      <td>DAL</td>\n",
       "      <td>MIN</td>\n",
       "    </tr>\n",
       "    <tr>\n",
       "      <th>shot_id</th>\n",
       "      <td>27350</td>\n",
       "      <td>5122</td>\n",
       "      <td>9694</td>\n",
       "      <td>15693</td>\n",
       "      <td>3607</td>\n",
       "      <td>6835</td>\n",
       "      <td>23587</td>\n",
       "    </tr>\n",
       "  </tbody>\n",
       "</table>\n",
       "</div>"
      ],
      "text/plain": [
       "                                 27349               5121   \\\n",
       "action_type                  Jump Shot           Jump Shot   \n",
       "combined_shot_type           Jump Shot           Jump Shot   \n",
       "game_event_id                      178                  17   \n",
       "game_id                       40300153            20300091   \n",
       "lat                            33.9583             33.8633   \n",
       "loc_x                             -107                 -21   \n",
       "loc_y                               86                 181   \n",
       "lon                           -118.377            -118.291   \n",
       "minutes_remaining                    3                   9   \n",
       "period                               2                   1   \n",
       "playoffs                             1                   0   \n",
       "season                         2003-04             2003-04   \n",
       "seconds_remaining                   44                  51   \n",
       "shot_distance                       13                  18   \n",
       "shot_made_flag                       1                   0   \n",
       "shot_type               2PT Field Goal      2PT Field Goal   \n",
       "shot_zone_area            Left Side(L)           Center(C)   \n",
       "shot_zone_basic              Mid-Range           Mid-Range   \n",
       "shot_zone_range               8-16 ft.           16-24 ft.   \n",
       "team_id                     1610612747          1610612747   \n",
       "team_name           Los Angeles Lakers  Los Angeles Lakers   \n",
       "game_date                   2004-04-23          2003-11-10   \n",
       "matchup                      LAL @ HOU           LAL @ MEM   \n",
       "opponent                           HOU                 MEM   \n",
       "shot_id                          27350                5122   \n",
       "\n",
       "                                 9693                  15692  \\\n",
       "action_type         Driving Layup Shot             Jump Shot   \n",
       "combined_shot_type               Layup             Jump Shot   \n",
       "game_event_id                      213                   231   \n",
       "game_id                       20501229              20900527   \n",
       "lat                            34.0443               33.8363   \n",
       "loc_x                                0                  -119   \n",
       "loc_y                                0                   208   \n",
       "lon                            -118.27              -118.389   \n",
       "minutes_remaining                    2                    11   \n",
       "period                               2                     3   \n",
       "playoffs                             0                     0   \n",
       "season                         2005-06               2009-10   \n",
       "seconds_remaining                   46                    41   \n",
       "shot_distance                        0                    23   \n",
       "shot_made_flag                       1                     0   \n",
       "shot_type               2PT Field Goal        3PT Field Goal   \n",
       "shot_zone_area               Center(C)  Left Side Center(LC)   \n",
       "shot_zone_basic        Restricted Area     Above the Break 3   \n",
       "shot_zone_range        Less Than 8 ft.               24+ ft.   \n",
       "team_id                     1610612747            1610612747   \n",
       "team_name           Los Angeles Lakers    Los Angeles Lakers   \n",
       "game_date                   2006-04-19            2010-01-08   \n",
       "matchup                    LAL vs. NOK             LAL @ POR   \n",
       "opponent                           NOP                   POR   \n",
       "shot_id                           9694                 15693   \n",
       "\n",
       "                                    3606                6834   \\\n",
       "action_type                     Jump Shot      Slam Dunk Shot   \n",
       "combined_shot_type              Jump Shot                Dunk   \n",
       "game_event_id                         490                 143   \n",
       "game_id                          20200292            20400461   \n",
       "lat                               34.0223             34.0443   \n",
       "loc_x                                  34                   0   \n",
       "loc_y                                  22                   0   \n",
       "lon                              -118.236             -118.27   \n",
       "minutes_remaining                       1                   9   \n",
       "period                                  4                   2   \n",
       "playoffs                                0                   0   \n",
       "season                            2002-03             2004-05   \n",
       "seconds_remaining                      42                  35   \n",
       "shot_distance                           4                   0   \n",
       "shot_made_flag                          0                   1   \n",
       "shot_type                  2PT Field Goal      2PT Field Goal   \n",
       "shot_zone_area                  Center(C)           Center(C)   \n",
       "shot_zone_basic     In The Paint (Non-RA)     Restricted Area   \n",
       "shot_zone_range           Less Than 8 ft.     Less Than 8 ft.   \n",
       "team_id                        1610612747          1610612747   \n",
       "team_name              Los Angeles Lakers  Los Angeles Lakers   \n",
       "game_date                      2002-12-08          2005-01-05   \n",
       "matchup                       LAL vs. UTA           LAL @ DAL   \n",
       "opponent                              UTA                 DAL   \n",
       "shot_id                              3607                6835   \n",
       "\n",
       "                                 23586  \n",
       "action_type                  Jump Shot  \n",
       "combined_shot_type           Jump Shot  \n",
       "game_event_id                      336  \n",
       "game_id                       29700322  \n",
       "lat                            33.9743  \n",
       "loc_x                              229  \n",
       "loc_y                               70  \n",
       "lon                           -118.041  \n",
       "minutes_remaining                    2  \n",
       "period                               3  \n",
       "playoffs                             0  \n",
       "season                         1997-98  \n",
       "seconds_remaining                   45  \n",
       "shot_distance                       23  \n",
       "shot_made_flag                       0  \n",
       "shot_type               3PT Field Goal  \n",
       "shot_zone_area           Right Side(R)  \n",
       "shot_zone_basic         Right Corner 3  \n",
       "shot_zone_range                24+ ft.  \n",
       "team_id                     1610612747  \n",
       "team_name           Los Angeles Lakers  \n",
       "game_date                   1997-12-16  \n",
       "matchup                      LAL @ MIN  \n",
       "opponent                           MIN  \n",
       "shot_id                          23587  "
      ]
     },
     "execution_count": 204,
     "metadata": {},
     "output_type": "execute_result"
    }
   ],
   "source": [
    "random = data.take(np.random.permutation(len(data))[:7])\n",
    "random.T"
   ]
  },
  {
   "cell_type": "code",
   "execution_count": 205,
   "metadata": {},
   "outputs": [
    {
     "data": {
      "text/plain": [
       "2PT Field GoalLess Than 8 ft.    9397\n",
       "2PT Field Goal16-24 ft.          8245\n",
       "2PT Field Goal8-16 ft.           6625\n",
       "3PT Field Goal24+ ft.            6272\n",
       "3PT Field GoalBack Court Shot      82\n",
       "3PT Field Goal16-24 ft.            70\n",
       "2PT Field Goal24+ ft.               3\n",
       "3PT Field GoalLess Than 8 ft.       1\n",
       "3PT Field Goal8-16 ft.              1\n",
       "2PT Field GoalBack Court Shot       1\n",
       "Name: unite, dtype: int64"
      ]
     },
     "execution_count": 205,
     "metadata": {},
     "output_type": "execute_result"
    }
   ],
   "source": [
    "data['unite']=data['shot_type']+data['shot_zone_range']\n",
    "data['unite'].value_counts()"
   ]
  },
  {
   "cell_type": "code",
   "execution_count": 206,
   "metadata": {},
   "outputs": [
    {
     "data": {
      "text/plain": [
       "Los Angeles Lakers    30697\n",
       "Name: team_name, dtype: int64"
      ]
     },
     "execution_count": 206,
     "metadata": {},
     "output_type": "execute_result"
    }
   ],
   "source": [
    "data.team_name.value_counts()"
   ]
  },
  {
   "cell_type": "code",
   "execution_count": 207,
   "metadata": {},
   "outputs": [
    {
     "data": {
      "text/plain": [
       "1610612747    30697\n",
       "Name: team_id, dtype: int64"
      ]
     },
     "execution_count": 207,
     "metadata": {},
     "output_type": "execute_result"
    }
   ],
   "source": [
    "data.team_id.value_counts()"
   ]
  },
  {
   "cell_type": "code",
   "execution_count": 208,
   "metadata": {},
   "outputs": [
    {
     "data": {
      "text/plain": [
       "2PT Field Goal    24271\n",
       "3PT Field Goal     6426\n",
       "Name: shot_type, dtype: int64"
      ]
     },
     "execution_count": 208,
     "metadata": {},
     "output_type": "execute_result"
    }
   ],
   "source": [
    "data.shot_type.value_counts()"
   ]
  },
  {
   "cell_type": "markdown",
   "metadata": {},
   "source": [
    "Название и ID команды можно убрать, т.к. значения в них одинаковые))), \n",
    "Matchup и Opponent это дублирующие столбцы, \n",
    "shot_id ни о чем не говорит\n",
    "shot_type тоже дублирующий столбец для shot_zone_range (3 очка дают за бросок с 24+)"
   ]
  },
  {
   "cell_type": "code",
   "execution_count": 209,
   "metadata": {},
   "outputs": [],
   "source": [
    "data=data.drop(['matchup','team_id','team_name','shot_id','shot_type','unite'],axis=1)\n"
   ]
  },
  {
   "cell_type": "markdown",
   "metadata": {},
   "source": [
    "Back Court Shot в shot_zone_range меняем на 24+ ft."
   ]
  },
  {
   "cell_type": "code",
   "execution_count": 210,
   "metadata": {},
   "outputs": [
    {
     "data": {
      "text/plain": [
       "Less Than 8 ft.    9398\n",
       "16-24 ft.          8315\n",
       "8-16 ft.           6626\n",
       "24+ ft.            6358\n",
       "Name: shot_zone_range, dtype: int64"
      ]
     },
     "execution_count": 210,
     "metadata": {},
     "output_type": "execute_result"
    }
   ],
   "source": [
    "data['shot_zone_range'] = data['shot_zone_range'].str.replace('Back Court Shot','24+ ft.')\n",
    "data['shot_zone_range'].value_counts()"
   ]
  },
  {
   "cell_type": "code",
   "execution_count": 211,
   "metadata": {},
   "outputs": [
    {
     "data": {
      "text/plain": [
       " 0.0    14232\n",
       " 1.0    11465\n",
       "NaN      5000\n",
       "Name: shot_made_flag, dtype: int64"
      ]
     },
     "execution_count": 211,
     "metadata": {},
     "output_type": "execute_result"
    }
   ],
   "source": [
    "data['shot_made_flag'].value_counts(dropna=False)"
   ]
  },
  {
   "cell_type": "markdown",
   "metadata": {},
   "source": [
    "Пропущенные значения меняем на нулевые"
   ]
  },
  {
   "cell_type": "code",
   "execution_count": 212,
   "metadata": {},
   "outputs": [
    {
     "data": {
      "text/plain": [
       "0.0    19232\n",
       "1.0    11465\n",
       "Name: shot_made_flag, dtype: int64"
      ]
     },
     "execution_count": 212,
     "metadata": {},
     "output_type": "execute_result"
    }
   ],
   "source": [
    "data.shot_made_flag = data.shot_made_flag.fillna(value = 0)\n",
    "data['shot_made_flag'].value_counts(dropna=False)"
   ]
  },
  {
   "cell_type": "code",
   "execution_count": 213,
   "metadata": {},
   "outputs": [
    {
     "data": {
      "text/html": [
       "<div>\n",
       "<style scoped>\n",
       "    .dataframe tbody tr th:only-of-type {\n",
       "        vertical-align: middle;\n",
       "    }\n",
       "\n",
       "    .dataframe tbody tr th {\n",
       "        vertical-align: top;\n",
       "    }\n",
       "\n",
       "    .dataframe thead th {\n",
       "        text-align: right;\n",
       "    }\n",
       "</style>\n",
       "<table border=\"1\" class=\"dataframe\">\n",
       "  <thead>\n",
       "    <tr style=\"text-align: right;\">\n",
       "      <th></th>\n",
       "      <th>lat</th>\n",
       "      <th>lon</th>\n",
       "      <th>loc_x</th>\n",
       "      <th>loc_y</th>\n",
       "    </tr>\n",
       "  </thead>\n",
       "  <tbody>\n",
       "    <tr>\n",
       "      <th>lat</th>\n",
       "      <td>1.000000</td>\n",
       "      <td>0.016217</td>\n",
       "      <td>0.016217</td>\n",
       "      <td>-1.000000</td>\n",
       "    </tr>\n",
       "    <tr>\n",
       "      <th>lon</th>\n",
       "      <td>0.016217</td>\n",
       "      <td>1.000000</td>\n",
       "      <td>1.000000</td>\n",
       "      <td>-0.016217</td>\n",
       "    </tr>\n",
       "    <tr>\n",
       "      <th>loc_x</th>\n",
       "      <td>0.016217</td>\n",
       "      <td>1.000000</td>\n",
       "      <td>1.000000</td>\n",
       "      <td>-0.016217</td>\n",
       "    </tr>\n",
       "    <tr>\n",
       "      <th>loc_y</th>\n",
       "      <td>-1.000000</td>\n",
       "      <td>-0.016217</td>\n",
       "      <td>-0.016217</td>\n",
       "      <td>1.000000</td>\n",
       "    </tr>\n",
       "  </tbody>\n",
       "</table>\n",
       "</div>"
      ],
      "text/plain": [
       "            lat       lon     loc_x     loc_y\n",
       "lat    1.000000  0.016217  0.016217 -1.000000\n",
       "lon    0.016217  1.000000  1.000000 -0.016217\n",
       "loc_x  0.016217  1.000000  1.000000 -0.016217\n",
       "loc_y -1.000000 -0.016217 -0.016217  1.000000"
      ]
     },
     "execution_count": 213,
     "metadata": {},
     "output_type": "execute_result"
    }
   ],
   "source": [
    "data[['lat','lon','loc_x','loc_y']].corr()"
   ]
  },
  {
   "cell_type": "markdown",
   "metadata": {},
   "source": [
    "Убираем lat и lon, т.к. они полностью коррелируются с loc_x и loc_y\n",
    "убираем game_event_id, game_id т.к. они ни о чем не говорят\n",
    "убираем shot_distance, т.к. значение этого столбца обобщено в shot_zone_range \n",
    "Объединим 2 столбца seconds_remaining и  minutes_remaining в один и разобьем время по 60 сек\n",
    "Убираем season, вместо game_date будет 3 столбца месяц, год и день недели\n",
    "\n"
   ]
  },
  {
   "cell_type": "code",
   "execution_count": 214,
   "metadata": {},
   "outputs": [],
   "source": [
    "data['seconds_remaining'] = data['minutes_remaining'] * 60 + data['seconds_remaining']"
   ]
  },
  {
   "cell_type": "code",
   "execution_count": 215,
   "metadata": {},
   "outputs": [],
   "source": [
    "data['game_date'] = pd.to_datetime(data['game_date'])\n",
    "data['game_year'] = data['game_date'].dt.year\n",
    "data['game_month'] = data['game_date'].dt.month\n",
    "data['game_day'] = data['game_date'].dt.dayofweek"
   ]
  },
  {
   "cell_type": "code",
   "execution_count": 216,
   "metadata": {},
   "outputs": [],
   "source": [
    "data=data.drop(['game_event_id','lat','lon','game_id','shot_distance','minutes_remaining','game_date','game_date'],axis=1)\n"
   ]
  },
  {
   "cell_type": "code",
   "execution_count": 217,
   "metadata": {},
   "outputs": [],
   "source": [
    "del data['season']"
   ]
  },
  {
   "cell_type": "code",
   "execution_count": 218,
   "metadata": {},
   "outputs": [
    {
     "data": {
      "text/html": [
       "<div>\n",
       "<style scoped>\n",
       "    .dataframe tbody tr th:only-of-type {\n",
       "        vertical-align: middle;\n",
       "    }\n",
       "\n",
       "    .dataframe tbody tr th {\n",
       "        vertical-align: top;\n",
       "    }\n",
       "\n",
       "    .dataframe thead th {\n",
       "        text-align: right;\n",
       "    }\n",
       "</style>\n",
       "<table border=\"1\" class=\"dataframe\">\n",
       "  <thead>\n",
       "    <tr style=\"text-align: right;\">\n",
       "      <th></th>\n",
       "      <th>action_type</th>\n",
       "      <th>combined_shot_type</th>\n",
       "      <th>loc_x</th>\n",
       "      <th>loc_y</th>\n",
       "      <th>period</th>\n",
       "      <th>playoffs</th>\n",
       "      <th>seconds_remaining</th>\n",
       "      <th>shot_made_flag</th>\n",
       "      <th>shot_zone_area</th>\n",
       "      <th>shot_zone_basic</th>\n",
       "      <th>shot_zone_range</th>\n",
       "      <th>opponent</th>\n",
       "      <th>game_year</th>\n",
       "      <th>game_month</th>\n",
       "      <th>game_day</th>\n",
       "    </tr>\n",
       "  </thead>\n",
       "  <tbody>\n",
       "    <tr>\n",
       "      <th>0</th>\n",
       "      <td>Jump Shot</td>\n",
       "      <td>Jump Shot</td>\n",
       "      <td>167</td>\n",
       "      <td>72</td>\n",
       "      <td>1</td>\n",
       "      <td>0</td>\n",
       "      <td>627</td>\n",
       "      <td>0.0</td>\n",
       "      <td>Right Side(R)</td>\n",
       "      <td>Mid-Range</td>\n",
       "      <td>16-24 ft.</td>\n",
       "      <td>POR</td>\n",
       "      <td>2000</td>\n",
       "      <td>10</td>\n",
       "      <td>1</td>\n",
       "    </tr>\n",
       "    <tr>\n",
       "      <th>1</th>\n",
       "      <td>Jump Shot</td>\n",
       "      <td>Jump Shot</td>\n",
       "      <td>-157</td>\n",
       "      <td>0</td>\n",
       "      <td>1</td>\n",
       "      <td>0</td>\n",
       "      <td>622</td>\n",
       "      <td>0.0</td>\n",
       "      <td>Left Side(L)</td>\n",
       "      <td>Mid-Range</td>\n",
       "      <td>8-16 ft.</td>\n",
       "      <td>POR</td>\n",
       "      <td>2000</td>\n",
       "      <td>10</td>\n",
       "      <td>1</td>\n",
       "    </tr>\n",
       "    <tr>\n",
       "      <th>2</th>\n",
       "      <td>Jump Shot</td>\n",
       "      <td>Jump Shot</td>\n",
       "      <td>-101</td>\n",
       "      <td>135</td>\n",
       "      <td>1</td>\n",
       "      <td>0</td>\n",
       "      <td>465</td>\n",
       "      <td>1.0</td>\n",
       "      <td>Left Side Center(LC)</td>\n",
       "      <td>Mid-Range</td>\n",
       "      <td>16-24 ft.</td>\n",
       "      <td>POR</td>\n",
       "      <td>2000</td>\n",
       "      <td>10</td>\n",
       "      <td>1</td>\n",
       "    </tr>\n",
       "    <tr>\n",
       "      <th>3</th>\n",
       "      <td>Jump Shot</td>\n",
       "      <td>Jump Shot</td>\n",
       "      <td>138</td>\n",
       "      <td>175</td>\n",
       "      <td>1</td>\n",
       "      <td>0</td>\n",
       "      <td>412</td>\n",
       "      <td>0.0</td>\n",
       "      <td>Right Side Center(RC)</td>\n",
       "      <td>Mid-Range</td>\n",
       "      <td>16-24 ft.</td>\n",
       "      <td>POR</td>\n",
       "      <td>2000</td>\n",
       "      <td>10</td>\n",
       "      <td>1</td>\n",
       "    </tr>\n",
       "    <tr>\n",
       "      <th>4</th>\n",
       "      <td>Driving Dunk Shot</td>\n",
       "      <td>Dunk</td>\n",
       "      <td>0</td>\n",
       "      <td>0</td>\n",
       "      <td>2</td>\n",
       "      <td>0</td>\n",
       "      <td>379</td>\n",
       "      <td>1.0</td>\n",
       "      <td>Center(C)</td>\n",
       "      <td>Restricted Area</td>\n",
       "      <td>Less Than 8 ft.</td>\n",
       "      <td>POR</td>\n",
       "      <td>2000</td>\n",
       "      <td>10</td>\n",
       "      <td>1</td>\n",
       "    </tr>\n",
       "  </tbody>\n",
       "</table>\n",
       "</div>"
      ],
      "text/plain": [
       "         action_type combined_shot_type  loc_x  loc_y  period  playoffs  \\\n",
       "0          Jump Shot          Jump Shot    167     72       1         0   \n",
       "1          Jump Shot          Jump Shot   -157      0       1         0   \n",
       "2          Jump Shot          Jump Shot   -101    135       1         0   \n",
       "3          Jump Shot          Jump Shot    138    175       1         0   \n",
       "4  Driving Dunk Shot               Dunk      0      0       2         0   \n",
       "\n",
       "   seconds_remaining  shot_made_flag         shot_zone_area  shot_zone_basic  \\\n",
       "0                627             0.0          Right Side(R)        Mid-Range   \n",
       "1                622             0.0           Left Side(L)        Mid-Range   \n",
       "2                465             1.0   Left Side Center(LC)        Mid-Range   \n",
       "3                412             0.0  Right Side Center(RC)        Mid-Range   \n",
       "4                379             1.0              Center(C)  Restricted Area   \n",
       "\n",
       "   shot_zone_range opponent  game_year  game_month  game_day  \n",
       "0        16-24 ft.      POR       2000          10         1  \n",
       "1         8-16 ft.      POR       2000          10         1  \n",
       "2        16-24 ft.      POR       2000          10         1  \n",
       "3        16-24 ft.      POR       2000          10         1  \n",
       "4  Less Than 8 ft.      POR       2000          10         1  "
      ]
     },
     "execution_count": 218,
     "metadata": {},
     "output_type": "execute_result"
    }
   ],
   "source": [
    "data.head()"
   ]
  },
  {
   "cell_type": "code",
   "execution_count": 219,
   "metadata": {},
   "outputs": [
    {
     "data": {
      "text/plain": [
       "Center(C)                13455\n",
       "Right Side Center(RC)     4776\n",
       "Right Side(R)             4588\n",
       "Left Side Center(LC)      4044\n",
       "Left Side(L)              3751\n",
       "Back Court(BC)              83\n",
       "Name: shot_zone_area, dtype: int64"
      ]
     },
     "execution_count": 219,
     "metadata": {},
     "output_type": "execute_result"
    }
   ],
   "source": [
    "data['shot_zone_area'].value_counts()\n"
   ]
  },
  {
   "cell_type": "code",
   "execution_count": 220,
   "metadata": {},
   "outputs": [
    {
     "data": {
      "text/plain": [
       "Mid-Range                12625\n",
       "Restricted Area           7136\n",
       "Above the Break 3         5620\n",
       "In The Paint (Non-RA)     4578\n",
       "Right Corner 3             387\n",
       "Left Corner 3              280\n",
       "Backcourt                   71\n",
       "Name: shot_zone_basic, dtype: int64"
      ]
     },
     "execution_count": 220,
     "metadata": {},
     "output_type": "execute_result"
    }
   ],
   "source": [
    "data['shot_zone_basic'].value_counts()"
   ]
  },
  {
   "cell_type": "code",
   "execution_count": 221,
   "metadata": {},
   "outputs": [
    {
     "data": {
      "text/plain": [
       "Jump Shot    23485\n",
       "Layup         5448\n",
       "Dunk          1286\n",
       "Tip Shot       184\n",
       "Hook Shot      153\n",
       "Bank Shot      141\n",
       "Name: combined_shot_type, dtype: int64"
      ]
     },
     "execution_count": 221,
     "metadata": {},
     "output_type": "execute_result"
    }
   ],
   "source": [
    "data['combined_shot_type'].value_counts()"
   ]
  },
  {
   "cell_type": "code",
   "execution_count": 222,
   "metadata": {},
   "outputs": [
    {
     "data": {
      "text/plain": [
       "Jump Shot                             18880\n",
       "Layup Shot                             2567\n",
       "Driving Layup Shot                     1978\n",
       "Turnaround Jump Shot                   1057\n",
       "Fadeaway Jump Shot                     1048\n",
       "Running Jump Shot                       926\n",
       "Pullup Jump shot                        476\n",
       "Turnaround Fadeaway shot                439\n",
       "Slam Dunk Shot                          411\n",
       "Reverse Layup Shot                      395\n",
       "Jump Bank Shot                          333\n",
       "Driving Dunk Shot                       310\n",
       "Dunk Shot                               262\n",
       "Tip Shot                                182\n",
       "Alley Oop Dunk Shot                     122\n",
       "Step Back Jump shot                     118\n",
       "Floating Jump shot                      114\n",
       "Driving Reverse Layup Shot               97\n",
       "Hook Shot                                84\n",
       "Driving Finger Roll Shot                 82\n",
       "Alley Oop Layup shot                     80\n",
       "Reverse Dunk Shot                        75\n",
       "Running Layup Shot                       72\n",
       "Turnaround Bank shot                     71\n",
       "Driving Finger Roll Layup Shot           69\n",
       "Running Bank shot                        48\n",
       "Driving Slam Dunk Shot                   48\n",
       "Running Hook Shot                        41\n",
       "Finger Roll Layup Shot                   33\n",
       "Fadeaway Bank shot                       31\n",
       "Finger Roll Shot                         28\n",
       "Driving Jump shot                        28\n",
       "Jump Hook Shot                           24\n",
       "Running Dunk Shot                        19\n",
       "Reverse Slam Dunk Shot                   16\n",
       "Follow Up Dunk Shot                      15\n",
       "Putback Layup Shot                       15\n",
       "Turnaround Hook Shot                     14\n",
       "Driving Hook Shot                        14\n",
       "Pullup Bank shot                         12\n",
       "Running Reverse Layup Shot               11\n",
       "Cutting Layup Shot                        6\n",
       "Running Finger Roll Layup Shot            6\n",
       "Driving Bank shot                         5\n",
       "Driving Floating Jump Shot                5\n",
       "Hook Bank Shot                            5\n",
       "Putback Dunk Shot                         5\n",
       "Running Pull-Up Jump Shot                 4\n",
       "Running Finger Roll Shot                  4\n",
       "Turnaround Finger Roll Shot               2\n",
       "Running Tip Shot                          2\n",
       "Tip Layup Shot                            2\n",
       "Putback Slam Dunk Shot                    2\n",
       "Turnaround Fadeaway Bank Jump Shot        1\n",
       "Driving Floating Bank Jump Shot           1\n",
       "Cutting Finger Roll Layup Shot            1\n",
       "Running Slam Dunk Shot                    1\n",
       "Name: action_type, dtype: int64"
      ]
     },
     "execution_count": 222,
     "metadata": {},
     "output_type": "execute_result"
    }
   ],
   "source": [
    "data['action_type'].value_counts()"
   ]
  },
  {
   "cell_type": "code",
   "execution_count": 223,
   "metadata": {},
   "outputs": [
    {
     "data": {
      "text/plain": [
       "2009    2357\n",
       "2002    2215\n",
       "2012    2184\n",
       "2008    2141\n",
       "2006    2122\n",
       "2000    2047\n",
       "2010    2009\n",
       "2003    1961\n",
       "2007    1936\n",
       "2004    1779\n",
       "2001    1662\n",
       "2005    1515\n",
       "2011    1275\n",
       "1999    1182\n",
       "2013    1020\n",
       "1997     760\n",
       "2014     626\n",
       "1998     619\n",
       "2016     614\n",
       "2015     586\n",
       "1996      87\n",
       "Name: game_year, dtype: int64"
      ]
     },
     "execution_count": 223,
     "metadata": {},
     "output_type": "execute_result"
    }
   ],
   "source": [
    "data['game_year'].value_counts()"
   ]
  },
  {
   "cell_type": "code",
   "execution_count": 224,
   "metadata": {},
   "outputs": [],
   "source": [
    "data2009=data[data['game_year']==2009]"
   ]
  },
  {
   "cell_type": "code",
   "execution_count": 225,
   "metadata": {},
   "outputs": [
    {
     "data": {
      "image/png": "[encoded data removed]",
      "text/plain": [
       "<Figure size 1080x1080 with 2 Axes>"
      ]
     },
     "metadata": {
      "needs_background": "light"
     },
     "output_type": "display_data"
    }
   ],
   "source": [
    "x=data2009['loc_x']\n",
    "y=data2009['loc_y']\n",
    "plt.figure(figsize=(15,15))\n",
    "plt.scatter(x,y,c=data2009['shot_made_flag'])\n",
    "\n",
    "cbar = plt.colorbar()\n",
    "plt.show()"
   ]
  },
  {
   "cell_type": "markdown",
   "metadata": {},
   "source": [
    "Столбцы loc_x и loc_y дают всю информацию о том откуда произведен бросок. Поэтому shot_zone_range, shot_zone_basic, shot_zone_area можно убрать"
   ]
  },
  {
   "cell_type": "code",
   "execution_count": 226,
   "metadata": {},
   "outputs": [],
   "source": [
    "data=data.drop(['shot_zone_range', 'shot_zone_basic', 'shot_zone_area'],axis=1)\n"
   ]
  },
  {
   "cell_type": "code",
   "execution_count": 227,
   "metadata": {},
   "outputs": [
    {
     "data": {
      "text/html": [
       "<div>\n",
       "<style scoped>\n",
       "    .dataframe tbody tr th:only-of-type {\n",
       "        vertical-align: middle;\n",
       "    }\n",
       "\n",
       "    .dataframe tbody tr th {\n",
       "        vertical-align: top;\n",
       "    }\n",
       "\n",
       "    .dataframe thead th {\n",
       "        text-align: right;\n",
       "    }\n",
       "</style>\n",
       "<table border=\"1\" class=\"dataframe\">\n",
       "  <thead>\n",
       "    <tr style=\"text-align: right;\">\n",
       "      <th></th>\n",
       "      <th>action_type</th>\n",
       "      <th>combined_shot_type</th>\n",
       "      <th>loc_x</th>\n",
       "      <th>loc_y</th>\n",
       "      <th>period</th>\n",
       "      <th>playoffs</th>\n",
       "      <th>seconds_remaining</th>\n",
       "      <th>shot_made_flag</th>\n",
       "      <th>opponent</th>\n",
       "      <th>game_year</th>\n",
       "      <th>game_month</th>\n",
       "      <th>game_day</th>\n",
       "    </tr>\n",
       "  </thead>\n",
       "  <tbody>\n",
       "    <tr>\n",
       "      <th>0</th>\n",
       "      <td>Jump Shot</td>\n",
       "      <td>Jump Shot</td>\n",
       "      <td>167</td>\n",
       "      <td>72</td>\n",
       "      <td>1</td>\n",
       "      <td>0</td>\n",
       "      <td>627</td>\n",
       "      <td>0.0</td>\n",
       "      <td>POR</td>\n",
       "      <td>2000</td>\n",
       "      <td>10</td>\n",
       "      <td>1</td>\n",
       "    </tr>\n",
       "    <tr>\n",
       "      <th>1</th>\n",
       "      <td>Jump Shot</td>\n",
       "      <td>Jump Shot</td>\n",
       "      <td>-157</td>\n",
       "      <td>0</td>\n",
       "      <td>1</td>\n",
       "      <td>0</td>\n",
       "      <td>622</td>\n",
       "      <td>0.0</td>\n",
       "      <td>POR</td>\n",
       "      <td>2000</td>\n",
       "      <td>10</td>\n",
       "      <td>1</td>\n",
       "    </tr>\n",
       "    <tr>\n",
       "      <th>2</th>\n",
       "      <td>Jump Shot</td>\n",
       "      <td>Jump Shot</td>\n",
       "      <td>-101</td>\n",
       "      <td>135</td>\n",
       "      <td>1</td>\n",
       "      <td>0</td>\n",
       "      <td>465</td>\n",
       "      <td>1.0</td>\n",
       "      <td>POR</td>\n",
       "      <td>2000</td>\n",
       "      <td>10</td>\n",
       "      <td>1</td>\n",
       "    </tr>\n",
       "    <tr>\n",
       "      <th>3</th>\n",
       "      <td>Jump Shot</td>\n",
       "      <td>Jump Shot</td>\n",
       "      <td>138</td>\n",
       "      <td>175</td>\n",
       "      <td>1</td>\n",
       "      <td>0</td>\n",
       "      <td>412</td>\n",
       "      <td>0.0</td>\n",
       "      <td>POR</td>\n",
       "      <td>2000</td>\n",
       "      <td>10</td>\n",
       "      <td>1</td>\n",
       "    </tr>\n",
       "    <tr>\n",
       "      <th>4</th>\n",
       "      <td>Driving Dunk Shot</td>\n",
       "      <td>Dunk</td>\n",
       "      <td>0</td>\n",
       "      <td>0</td>\n",
       "      <td>2</td>\n",
       "      <td>0</td>\n",
       "      <td>379</td>\n",
       "      <td>1.0</td>\n",
       "      <td>POR</td>\n",
       "      <td>2000</td>\n",
       "      <td>10</td>\n",
       "      <td>1</td>\n",
       "    </tr>\n",
       "  </tbody>\n",
       "</table>\n",
       "</div>"
      ],
      "text/plain": [
       "         action_type combined_shot_type  loc_x  loc_y  period  playoffs  \\\n",
       "0          Jump Shot          Jump Shot    167     72       1         0   \n",
       "1          Jump Shot          Jump Shot   -157      0       1         0   \n",
       "2          Jump Shot          Jump Shot   -101    135       1         0   \n",
       "3          Jump Shot          Jump Shot    138    175       1         0   \n",
       "4  Driving Dunk Shot               Dunk      0      0       2         0   \n",
       "\n",
       "   seconds_remaining  shot_made_flag opponent  game_year  game_month  game_day  \n",
       "0                627             0.0      POR       2000          10         1  \n",
       "1                622             0.0      POR       2000          10         1  \n",
       "2                465             1.0      POR       2000          10         1  \n",
       "3                412             0.0      POR       2000          10         1  \n",
       "4                379             1.0      POR       2000          10         1  "
      ]
     },
     "execution_count": 227,
     "metadata": {},
     "output_type": "execute_result"
    }
   ],
   "source": [
    "data.head()"
   ]
  },
  {
   "cell_type": "code",
   "execution_count": 228,
   "metadata": {},
   "outputs": [
    {
     "data": {
      "text/plain": [
       "<matplotlib.axes._subplots.AxesSubplot at 0x191ad6a39b0>"
      ]
     },
     "execution_count": 228,
     "metadata": {},
     "output_type": "execute_result"
    },
    {
     "data": {
      "image/png": "[encoded data removed]",
      "text/plain": [
       "<Figure size 864x432 with 1 Axes>"
      ]
     },
     "metadata": {
      "needs_background": "light"
     },
     "output_type": "display_data"
    }
   ],
   "source": [
    "data['shot_made_flag'].groupby(data['playoffs']).mean().plot(kind='bar', figsize=(12, 6))\n"
   ]
  },
  {
   "cell_type": "code",
   "execution_count": 229,
   "metadata": {},
   "outputs": [
    {
     "data": {
      "text/plain": [
       "<matplotlib.axes._subplots.AxesSubplot at 0x191a69ee6d8>"
      ]
     },
     "execution_count": 229,
     "metadata": {},
     "output_type": "execute_result"
    },
    {
     "data": {
      "image/png": "[encoded data removed]",
      "text/plain": [
       "<Figure size 864x432 with 1 Axes>"
      ]
     },
     "metadata": {
      "needs_background": "light"
     },
     "output_type": "display_data"
    }
   ],
   "source": [
    "data['shot_made_flag'].groupby(data['period']).mean().plot(kind='bar', figsize=(12, 6))\n",
    "\n"
   ]
  },
  {
   "cell_type": "code",
   "execution_count": 230,
   "metadata": {},
   "outputs": [
    {
     "data": {
      "text/plain": [
       "<matplotlib.axes._subplots.AxesSubplot at 0x191a69eecf8>"
      ]
     },
     "execution_count": 230,
     "metadata": {},
     "output_type": "execute_result"
    },
    {
     "data": {
      "image/png": "[encoded data removed]",
      "text/plain": [
       "<Figure size 864x432 with 1 Axes>"
      ]
     },
     "metadata": {
      "needs_background": "light"
     },
     "output_type": "display_data"
    }
   ],
   "source": [
    "data['shot_made_flag'].groupby(data['game_year']).mean().plot(kind='bar', figsize=(12, 6))"
   ]
  },
  {
   "cell_type": "code",
   "execution_count": 231,
   "metadata": {},
   "outputs": [
    {
     "data": {
      "text/plain": [
       "<matplotlib.axes._subplots.AxesSubplot at 0x191ad6638d0>"
      ]
     },
     "execution_count": 231,
     "metadata": {},
     "output_type": "execute_result"
    },
    {
     "data": {
      "image/png": "[encoded data removed]",
      "text/plain": [
       "<Figure size 864x432 with 1 Axes>"
      ]
     },
     "metadata": {
      "needs_background": "light"
     },
     "output_type": "display_data"
    }
   ],
   "source": [
    "data['shot_made_flag'].groupby(data['game_month']).mean().plot(kind='bar', figsize=(12, 6))"
   ]
  },
  {
   "cell_type": "code",
   "execution_count": 232,
   "metadata": {},
   "outputs": [
    {
     "data": {
      "text/plain": [
       "<matplotlib.axes._subplots.AxesSubplot at 0x191ad78d320>"
      ]
     },
     "execution_count": 232,
     "metadata": {},
     "output_type": "execute_result"
    },
    {
     "data": {
      "image/png": "[encoded data removed]",
      "text/plain": [
       "<Figure size 864x432 with 1 Axes>"
      ]
     },
     "metadata": {
      "needs_background": "light"
     },
     "output_type": "display_data"
    }
   ],
   "source": [
    "data['shot_made_flag'].groupby(data['game_day']).mean().plot(kind='bar', figsize=(12, 6))"
   ]
  },
  {
   "cell_type": "code",
   "execution_count": 233,
   "metadata": {},
   "outputs": [
    {
     "data": {
      "text/plain": [
       "<matplotlib.axes._subplots.AxesSubplot at 0x191ae4b2c88>"
      ]
     },
     "execution_count": 233,
     "metadata": {},
     "output_type": "execute_result"
    },
    {
     "data": {
      "image/png": "[encoded data removed]",
      "text/plain": [
       "<Figure size 864x432 with 1 Axes>"
      ]
     },
     "metadata": {
      "needs_background": "light"
     },
     "output_type": "display_data"
    }
   ],
   "source": [
    "data['shot_made_flag'].groupby(data['opponent']).mean().plot(kind='bar', figsize=(12, 6))"
   ]
  },
  {
   "cell_type": "code",
   "execution_count": 234,
   "metadata": {},
   "outputs": [
    {
     "data": {
      "text/plain": [
       "<matplotlib.axes._subplots.AxesSubplot at 0x191af7726a0>"
      ]
     },
     "execution_count": 234,
     "metadata": {},
     "output_type": "execute_result"
    },
    {
     "data": {
      "image/png": "[encoded data removed]",
      "text/plain": [
       "<Figure size 864x432 with 1 Axes>"
      ]
     },
     "metadata": {
      "needs_background": "light"
     },
     "output_type": "display_data"
    }
   ],
   "source": [
    "bins = np.append(np.arange(0, 720, 60), 720) \n",
    "dic = pd.cut(data['seconds_remaining'], bins, right=False)\n",
    "time = data.loc[:, ['seconds_remaining', 'shot_made_flag']]\n",
    "time['dic'] = dic\n",
    "dic.value_counts(sort=False).plot(kind='bar', figsize=(12, 6))\n"
   ]
  },
  {
   "cell_type": "code",
   "execution_count": 235,
   "metadata": {},
   "outputs": [
    {
     "data": {
      "text/plain": [
       "<matplotlib.axes._subplots.AxesSubplot at 0x191af7e1f60>"
      ]
     },
     "execution_count": 235,
     "metadata": {},
     "output_type": "execute_result"
    },
    {
     "data": {
      "image/png": "[encoded data removed]",
      "text/plain": [
       "<Figure size 864x432 with 1 Axes>"
      ]
     },
     "metadata": {
      "needs_background": "light"
     },
     "output_type": "display_data"
    }
   ],
   "source": [
    "plt.figure(figsize=(12,6))\n",
    "sns.countplot(x='dic', hue='shot_made_flag', data=time)"
   ]
  },
  {
   "cell_type": "code",
   "execution_count": 236,
   "metadata": {},
   "outputs": [
    {
     "data": {
      "text/plain": [
       "array([[<matplotlib.axes._subplots.AxesSubplot object at 0x00000191AF7F4048>,\n",
       "        <matplotlib.axes._subplots.AxesSubplot object at 0x00000191B021F320>,\n",
       "        <matplotlib.axes._subplots.AxesSubplot object at 0x00000191B0087588>],\n",
       "       [<matplotlib.axes._subplots.AxesSubplot object at 0x00000191B00B17F0>,\n",
       "        <matplotlib.axes._subplots.AxesSubplot object at 0x00000191B00D9A58>,\n",
       "        <matplotlib.axes._subplots.AxesSubplot object at 0x00000191B0105CC0>],\n",
       "       [<matplotlib.axes._subplots.AxesSubplot object at 0x00000191B012EF28>,\n",
       "        <matplotlib.axes._subplots.AxesSubplot object at 0x00000191B015F208>,\n",
       "        <matplotlib.axes._subplots.AxesSubplot object at 0x00000191B015F240>]],\n",
       "      dtype=object)"
      ]
     },
     "execution_count": 236,
     "metadata": {},
     "output_type": "execute_result"
    },
    {
     "data": {
      "image/png": "[encoded data removed]",
      "text/plain": [
       "<Figure size 1440x1080 with 9 Axes>"
      ]
     },
     "metadata": {
      "needs_background": "light"
     },
     "output_type": "display_data"
    }
   ],
   "source": [
    "data.hist(bins = 20, figsize=(20,15))"
   ]
  },
  {
   "cell_type": "markdown",
   "metadata": {},
   "source": [
    "Таким образом лишние столбцы playoffs game_day game_day, т.к. влияния на попадание они не оказывают"
   ]
  },
  {
   "cell_type": "code",
   "execution_count": 237,
   "metadata": {},
   "outputs": [],
   "source": [
    "data=data.drop(['playoffs', 'game_day', 'game_month'],axis=1)"
   ]
  },
  {
   "cell_type": "markdown",
   "metadata": {},
   "source": [
    "combined_shot_type повторяется в action_type, тоже удалим этот столбец, а в action_type сократим количество значений"
   ]
  },
  {
   "cell_type": "code",
   "execution_count": 239,
   "metadata": {},
   "outputs": [
    {
     "data": {
      "text/plain": [
       "Jump Shot                   61.504382\n",
       "Layup Shot                   8.362381\n",
       "Driving Layup Shot           6.443626\n",
       "Other                        6.114604\n",
       "Turnaround Jump Shot         3.443333\n",
       "Fadeaway Jump Shot           3.414014\n",
       "Running Jump Shot            3.016581\n",
       "Pullup Jump shot             1.550640\n",
       "Turnaround Fadeaway shot     1.430107\n",
       "Slam Dunk Shot               1.338893\n",
       "Reverse Layup Shot           1.286771\n",
       "Jump Bank Shot               1.084797\n",
       "Driving Dunk Shot            1.009871\n",
       "Name: action_type, dtype: float64"
      ]
     },
     "execution_count": 239,
     "metadata": {},
     "output_type": "execute_result"
    }
   ],
   "source": [
    "a=(pd.value_counts(data['action_type'])/pd.value_counts(data['action_type']).sum()*100).lt(1)\n",
    "data['action_type'] = np.where(data['action_type'].isin(pd.value_counts(data['action_type'])[a].index),'Other',data['action_type'])\n",
    "(pd.value_counts(data['action_type'])/pd.value_counts(data['action_type']).sum()*100)"
   ]
  },
  {
   "cell_type": "code",
   "execution_count": 240,
   "metadata": {},
   "outputs": [
    {
     "data": {
      "text/plain": [
       "<matplotlib.axes._subplots.AxesSubplot at 0x191acb19da0>"
      ]
     },
     "execution_count": 240,
     "metadata": {},
     "output_type": "execute_result"
    },
    {
     "data": {
      "image/png": "[encoded data removed]",
      "text/plain": [
       "<Figure size 864x432 with 1 Axes>"
      ]
     },
     "metadata": {
      "needs_background": "light"
     },
     "output_type": "display_data"
    }
   ],
   "source": [
    "data['shot_made_flag'].groupby(data['action_type']).mean().plot(kind='bar', figsize=(12, 6))"
   ]
  },
  {
   "cell_type": "code",
   "execution_count": 242,
   "metadata": {},
   "outputs": [],
   "source": [
    "del data['combined_shot_type']"
   ]
  },
  {
   "cell_type": "code",
   "execution_count": 243,
   "metadata": {},
   "outputs": [
    {
     "data": {
      "text/html": [
       "<div>\n",
       "<style scoped>\n",
       "    .dataframe tbody tr th:only-of-type {\n",
       "        vertical-align: middle;\n",
       "    }\n",
       "\n",
       "    .dataframe tbody tr th {\n",
       "        vertical-align: top;\n",
       "    }\n",
       "\n",
       "    .dataframe thead th {\n",
       "        text-align: right;\n",
       "    }\n",
       "</style>\n",
       "<table border=\"1\" class=\"dataframe\">\n",
       "  <thead>\n",
       "    <tr style=\"text-align: right;\">\n",
       "      <th></th>\n",
       "      <th>action_type</th>\n",
       "      <th>loc_x</th>\n",
       "      <th>loc_y</th>\n",
       "      <th>period</th>\n",
       "      <th>seconds_remaining</th>\n",
       "      <th>shot_made_flag</th>\n",
       "      <th>opponent</th>\n",
       "      <th>game_year</th>\n",
       "    </tr>\n",
       "  </thead>\n",
       "  <tbody>\n",
       "    <tr>\n",
       "      <th>0</th>\n",
       "      <td>Jump Shot</td>\n",
       "      <td>167</td>\n",
       "      <td>72</td>\n",
       "      <td>1</td>\n",
       "      <td>627</td>\n",
       "      <td>0.0</td>\n",
       "      <td>POR</td>\n",
       "      <td>2000</td>\n",
       "    </tr>\n",
       "    <tr>\n",
       "      <th>1</th>\n",
       "      <td>Jump Shot</td>\n",
       "      <td>-157</td>\n",
       "      <td>0</td>\n",
       "      <td>1</td>\n",
       "      <td>622</td>\n",
       "      <td>0.0</td>\n",
       "      <td>POR</td>\n",
       "      <td>2000</td>\n",
       "    </tr>\n",
       "    <tr>\n",
       "      <th>2</th>\n",
       "      <td>Jump Shot</td>\n",
       "      <td>-101</td>\n",
       "      <td>135</td>\n",
       "      <td>1</td>\n",
       "      <td>465</td>\n",
       "      <td>1.0</td>\n",
       "      <td>POR</td>\n",
       "      <td>2000</td>\n",
       "    </tr>\n",
       "    <tr>\n",
       "      <th>3</th>\n",
       "      <td>Jump Shot</td>\n",
       "      <td>138</td>\n",
       "      <td>175</td>\n",
       "      <td>1</td>\n",
       "      <td>412</td>\n",
       "      <td>0.0</td>\n",
       "      <td>POR</td>\n",
       "      <td>2000</td>\n",
       "    </tr>\n",
       "    <tr>\n",
       "      <th>4</th>\n",
       "      <td>Driving Dunk Shot</td>\n",
       "      <td>0</td>\n",
       "      <td>0</td>\n",
       "      <td>2</td>\n",
       "      <td>379</td>\n",
       "      <td>1.0</td>\n",
       "      <td>POR</td>\n",
       "      <td>2000</td>\n",
       "    </tr>\n",
       "  </tbody>\n",
       "</table>\n",
       "</div>"
      ],
      "text/plain": [
       "         action_type  loc_x  loc_y  period  seconds_remaining  shot_made_flag  \\\n",
       "0          Jump Shot    167     72       1                627             0.0   \n",
       "1          Jump Shot   -157      0       1                622             0.0   \n",
       "2          Jump Shot   -101    135       1                465             1.0   \n",
       "3          Jump Shot    138    175       1                412             0.0   \n",
       "4  Driving Dunk Shot      0      0       2                379             1.0   \n",
       "\n",
       "  opponent  game_year  \n",
       "0      POR       2000  \n",
       "1      POR       2000  \n",
       "2      POR       2000  \n",
       "3      POR       2000  \n",
       "4      POR       2000  "
      ]
     },
     "execution_count": 243,
     "metadata": {},
     "output_type": "execute_result"
    }
   ],
   "source": [
    "data.head()"
   ]
  },
  {
   "cell_type": "code",
   "execution_count": 244,
   "metadata": {},
   "outputs": [
    {
     "name": "stdout",
     "output_type": "stream",
     "text": [
      "<class 'pandas.core.frame.DataFrame'>\n",
      "RangeIndex: 30697 entries, 0 to 30696\n",
      "Data columns (total 8 columns):\n",
      "action_type          30697 non-null object\n",
      "loc_x                30697 non-null int64\n",
      "loc_y                30697 non-null int64\n",
      "period               30697 non-null int64\n",
      "seconds_remaining    30697 non-null int64\n",
      "shot_made_flag       30697 non-null float64\n",
      "opponent             30697 non-null object\n",
      "game_year            30697 non-null int64\n",
      "dtypes: float64(1), int64(5), object(2)\n",
      "memory usage: 1.9+ MB\n"
     ]
    }
   ],
   "source": [
    "data.info()"
   ]
  },
  {
   "cell_type": "markdown",
   "metadata": {},
   "source": [
    "обрабатываем категориальные признаки"
   ]
  },
  {
   "cell_type": "code",
   "execution_count": 245,
   "metadata": {},
   "outputs": [],
   "source": [
    "def get_one_hot(df, cols):\n",
    "    \"\"\"\n",
    "    @param df pandas DataFrame\n",
    "    @param cols a list of columns to encode \n",
    "    @return a DataFrame with one-hot encoding\n",
    "    \"\"\"\n",
    "    for each in cols:\n",
    "        dummies = pd.get_dummies(df[each], prefix=each, drop_first=False)\n",
    "        df = pd.concat([df, dummies], axis=1)\n",
    "    return df"
   ]
  },
  {
   "cell_type": "code",
   "execution_count": null,
   "metadata": {},
   "outputs": [],
   "source": []
  },
  {
   "cell_type": "code",
   "execution_count": 294,
   "metadata": {},
   "outputs": [],
   "source": [
    "list=data.columns.tolist()\n",
    "cat_cols=[list[0]]+list[-2:]+[list[3]]\n"
   ]
  },
  {
   "cell_type": "code",
   "execution_count": 295,
   "metadata": {},
   "outputs": [],
   "source": [
    "data1=get_one_hot(data,cat_cols)"
   ]
  },
  {
   "cell_type": "code",
   "execution_count": 296,
   "metadata": {},
   "outputs": [],
   "source": [
    "data1=data1.drop(cat_cols,axis=1)"
   ]
  },
  {
   "cell_type": "code",
   "execution_count": null,
   "metadata": {},
   "outputs": [],
   "source": []
  },
  {
   "cell_type": "code",
   "execution_count": 297,
   "metadata": {},
   "outputs": [],
   "source": [
    "from sklearn.linear_model import LinearRegression, Ridge, Lasso\n"
   ]
  },
  {
   "cell_type": "code",
   "execution_count": 298,
   "metadata": {},
   "outputs": [],
   "source": [
    "x = data1.loc[:, data1.columns != 'shot_made_flag'].values\n",
    "y = data1['shot_made_flag']"
   ]
  },
  {
   "cell_type": "code",
   "execution_count": 299,
   "metadata": {},
   "outputs": [
    {
     "name": "stdout",
     "output_type": "stream",
     "text": [
      "573799242.1803215\n",
      "[ 4.59943863e-05  7.84787228e-05  5.69199062e-05 -6.77026180e+08\n",
      " -6.77026180e+08 -6.77026180e+08 -6.77026180e+08 -6.77026180e+08\n",
      " -6.77026180e+08 -6.77026180e+08 -6.77026180e+08 -6.77026180e+08\n",
      " -6.77026180e+08 -6.77026180e+08 -6.77026180e+08 -6.77026180e+08\n",
      " -1.05036640e+07 -1.05036640e+07 -1.05036640e+07 -1.05036640e+07\n",
      " -1.05036640e+07 -1.05036640e+07 -1.05036640e+07 -1.05036640e+07\n",
      " -1.05036640e+07 -1.05036640e+07 -1.05036640e+07 -1.05036640e+07\n",
      " -1.05036640e+07 -1.05036640e+07 -1.05036640e+07 -1.05036640e+07\n",
      " -1.05036640e+07 -1.05036640e+07 -1.05036640e+07 -1.05036640e+07\n",
      " -1.05036639e+07 -1.05036640e+07 -1.05036640e+07 -1.05036640e+07\n",
      " -1.05036639e+07 -1.05036640e+07 -1.05036639e+07 -1.05036640e+07\n",
      " -1.05036640e+07 -1.05036640e+07 -1.05036640e+07 -1.05036639e+07\n",
      " -1.05036640e+07  3.28713998e+07  3.28713998e+07  3.28713998e+07\n",
      "  3.28713998e+07  3.28713998e+07  3.28713998e+07  3.28713998e+07\n",
      "  3.28713998e+07  3.28713998e+07  3.28713998e+07  3.28713998e+07\n",
      "  3.28713998e+07  3.28713998e+07  3.28713998e+07  3.28713998e+07\n",
      "  3.28713998e+07  3.28713998e+07  3.28713998e+07  3.28713998e+07\n",
      "  3.28713997e+07  3.28713997e+07  8.08592026e+07  8.08592026e+07\n",
      "  8.08592026e+07  8.08592026e+07  8.08592026e+07  8.08592026e+07\n",
      "  8.08592026e+07]\n"
     ]
    }
   ],
   "source": [
    "lm = LinearRegression().fit(x, y)\n",
    "print(lm.intercept_)\n",
    "print(lm.coef_)"
   ]
  },
  {
   "cell_type": "code",
   "execution_count": 300,
   "metadata": {},
   "outputs": [
    {
     "name": "stdout",
     "output_type": "stream",
     "text": [
      "0.49514880392914856\n",
      "[ 3.07570411e-05 -5.54734608e-05  5.28453247e-05  6.81722901e-02\n",
      "  6.07113214e-02 -1.65546590e-02  3.91205434e-02 -2.25586071e-01\n",
      " -1.40679555e-01  5.08396804e-02  3.67046981e-02  4.12636662e-03\n",
      "  5.42812224e-02  8.09200354e-02 -5.37860446e-03 -6.67726817e-03\n",
      " -4.25973406e-04 -4.42546929e-03 -1.24998582e-02 -3.47935899e-03\n",
      "  6.93629822e-04 -2.28794743e-03  8.49657899e-03  8.53499747e-04\n",
      " -2.34201374e-03 -2.14553179e-04 -1.02413992e-02 -1.33366018e-02\n",
      "  3.15681415e-03  5.57286566e-04 -5.40613506e-03 -1.45680177e-04\n",
      " -2.21151273e-04 -1.22487946e-02  9.97341942e-04 -1.90355797e-03\n",
      "  1.83302290e-02 -1.66844180e-02 -3.69242714e-03  2.57624709e-03\n",
      "  2.32018112e-02  6.01287410e-03  1.74493483e-02 -3.62561075e-03\n",
      "  8.48332750e-03 -4.68087663e-03  3.00437813e-03  3.79534587e-03\n",
      "  2.53114532e-04 -2.89401336e-03 -4.56731374e-03 -1.37043652e-02\n",
      "  7.70329174e-03  2.01244525e-02  1.10792464e-02  3.38066626e-04\n",
      " -3.55978655e-03 -4.82780208e-03  8.02913516e-03  2.35617751e-02\n",
      "  1.43608244e-02  1.85842693e-02  1.16004241e-02 -1.70269819e-03\n",
      "  3.06359092e-03  1.07987487e-03 -7.74971110e-03 -2.02563178e-02\n",
      " -2.38774131e-02 -3.63855301e-02  9.36436627e-03  3.99873880e-03\n",
      "  4.29430026e-03 -1.91292672e-02  1.28857880e-03  5.60869721e-05\n",
      "  1.27196054e-04]\n"
     ]
    }
   ],
   "source": [
    "rg = Ridge(alpha=1000).fit(x, y)\n",
    "print(rg.intercept_)\n",
    "print(rg.coef_)"
   ]
  },
  {
   "cell_type": "code",
   "execution_count": 301,
   "metadata": {},
   "outputs": [
    {
     "name": "stdout",
     "output_type": "stream",
     "text": [
      "0.41823011780564645\n",
      "[-0.00000000e+00 -5.64026088e-04  2.06722319e-05  0.00000000e+00\n",
      "  0.00000000e+00  0.00000000e+00  0.00000000e+00 -0.00000000e+00\n",
      " -0.00000000e+00  0.00000000e+00  0.00000000e+00  0.00000000e+00\n",
      "  0.00000000e+00  0.00000000e+00  0.00000000e+00  0.00000000e+00\n",
      "  0.00000000e+00 -0.00000000e+00 -0.00000000e+00 -0.00000000e+00\n",
      " -0.00000000e+00 -0.00000000e+00  0.00000000e+00  0.00000000e+00\n",
      " -0.00000000e+00  0.00000000e+00 -0.00000000e+00 -0.00000000e+00\n",
      "  0.00000000e+00  0.00000000e+00 -0.00000000e+00 -0.00000000e+00\n",
      " -0.00000000e+00 -0.00000000e+00 -0.00000000e+00 -0.00000000e+00\n",
      "  0.00000000e+00 -0.00000000e+00 -0.00000000e+00  0.00000000e+00\n",
      "  0.00000000e+00  0.00000000e+00  0.00000000e+00 -0.00000000e+00\n",
      "  0.00000000e+00  0.00000000e+00 -0.00000000e+00  0.00000000e+00\n",
      " -0.00000000e+00 -0.00000000e+00 -0.00000000e+00 -0.00000000e+00\n",
      " -0.00000000e+00  0.00000000e+00  0.00000000e+00 -0.00000000e+00\n",
      " -0.00000000e+00 -0.00000000e+00 -0.00000000e+00  0.00000000e+00\n",
      "  0.00000000e+00  0.00000000e+00  0.00000000e+00  0.00000000e+00\n",
      "  0.00000000e+00  0.00000000e+00  0.00000000e+00 -0.00000000e+00\n",
      " -0.00000000e+00 -0.00000000e+00  0.00000000e+00  0.00000000e+00\n",
      "  0.00000000e+00 -0.00000000e+00  0.00000000e+00  0.00000000e+00\n",
      "  0.00000000e+00]\n"
     ]
    }
   ],
   "source": [
    "rg = Lasso().fit(x, y)\n",
    "print(rg.intercept_)\n",
    "print(rg.coef_)"
   ]
  },
  {
   "cell_type": "code",
   "execution_count": 302,
   "metadata": {},
   "outputs": [],
   "source": [
    "import statsmodels.formula.api as smf\n"
   ]
  },
  {
   "cell_type": "code",
   "execution_count": 309,
   "metadata": {},
   "outputs": [
    {
     "data": {
      "text/html": [
       "<table class=\"simpletable\">\n",
       "<tr>\n",
       "   <td></td>      <th>coef</th>     <th>std err</th>      <th>t</th>      <th>P>|t|</th>  <th>[0.025</th>    <th>0.975]</th>  \n",
       "</tr>\n",
       "<tr>\n",
       "  <th>x1</th>  <td> 4.599e-05</td> <td> 2.39e-05</td> <td>    1.921</td> <td> 0.055</td> <td> -9.4e-07</td> <td> 9.29e-05</td>\n",
       "</tr>\n",
       "<tr>\n",
       "  <th>x2</th>  <td> 7.848e-05</td> <td> 3.74e-05</td> <td>    2.096</td> <td> 0.036</td> <td> 5.08e-06</td> <td>    0.000</td>\n",
       "</tr>\n",
       "<tr>\n",
       "  <th>x3</th>  <td> 5.692e-05</td> <td> 1.29e-05</td> <td>    4.425</td> <td> 0.000</td> <td> 3.17e-05</td> <td> 8.21e-05</td>\n",
       "</tr>\n",
       "<tr>\n",
       "  <th>x4</th>  <td>    0.3776</td> <td>    0.026</td> <td>   14.600</td> <td> 0.000</td> <td>    0.327</td> <td>    0.428</td>\n",
       "</tr>\n",
       "<tr>\n",
       "  <th>x5</th>  <td>    0.1831</td> <td>    0.013</td> <td>   14.395</td> <td> 0.000</td> <td>    0.158</td> <td>    0.208</td>\n",
       "</tr>\n",
       "<tr>\n",
       "  <th>x6</th>  <td>    0.0514</td> <td>    0.016</td> <td>    3.261</td> <td> 0.001</td> <td>    0.021</td> <td>    0.082</td>\n",
       "</tr>\n",
       "<tr>\n",
       "  <th>x7</th>  <td>    0.2395</td> <td>    0.025</td> <td>    9.505</td> <td> 0.000</td> <td>    0.190</td> <td>    0.289</td>\n",
       "</tr>\n",
       "<tr>\n",
       "  <th>x8</th>  <td>   -0.1640</td> <td>    0.009</td> <td>  -17.446</td> <td> 0.000</td> <td>   -0.182</td> <td>   -0.146</td>\n",
       "</tr>\n",
       "<tr>\n",
       "  <th>x9</th>  <td>   -0.1065</td> <td>    0.012</td> <td>   -8.997</td> <td> 0.000</td> <td>   -0.130</td> <td>   -0.083</td>\n",
       "</tr>\n",
       "<tr>\n",
       "  <th>x10</th> <td>    0.1682</td> <td>    0.013</td> <td>   13.236</td> <td> 0.000</td> <td>    0.143</td> <td>    0.193</td>\n",
       "</tr>\n",
       "<tr>\n",
       "  <th>x11</th> <td>    0.2063</td> <td>    0.022</td> <td>    9.353</td> <td> 0.000</td> <td>    0.163</td> <td>    0.250</td>\n",
       "</tr>\n",
       "<tr>\n",
       "  <th>x12</th> <td>    0.1030</td> <td>    0.023</td> <td>    4.413</td> <td> 0.000</td> <td>    0.057</td> <td>    0.149</td>\n",
       "</tr>\n",
       "<tr>\n",
       "  <th>x13</th> <td>    0.1941</td> <td>    0.017</td> <td>   11.740</td> <td> 0.000</td> <td>    0.162</td> <td>    0.227</td>\n",
       "</tr>\n",
       "<tr>\n",
       "  <th>x14</th> <td>    0.3693</td> <td>    0.023</td> <td>   16.062</td> <td> 0.000</td> <td>    0.324</td> <td>    0.414</td>\n",
       "</tr>\n",
       "<tr>\n",
       "  <th>x15</th> <td>    0.0774</td> <td>    0.022</td> <td>    3.449</td> <td> 0.001</td> <td>    0.033</td> <td>    0.121</td>\n",
       "</tr>\n",
       "<tr>\n",
       "  <th>x16</th> <td>    0.0686</td> <td>    0.016</td> <td>    4.369</td> <td> 0.000</td> <td>    0.038</td> <td>    0.099</td>\n",
       "</tr>\n",
       "<tr>\n",
       "  <th>x17</th> <td>    0.0574</td> <td>    0.020</td> <td>    2.851</td> <td> 0.004</td> <td>    0.018</td> <td>    0.097</td>\n",
       "</tr>\n",
       "<tr>\n",
       "  <th>x18</th> <td>   -0.0225</td> <td>    0.061</td> <td>   -0.370</td> <td> 0.712</td> <td>   -0.142</td> <td>    0.097</td>\n",
       "</tr>\n",
       "<tr>\n",
       "  <th>x19</th> <td>    0.0321</td> <td>    0.015</td> <td>    2.099</td> <td> 0.036</td> <td>    0.002</td> <td>    0.062</td>\n",
       "</tr>\n",
       "<tr>\n",
       "  <th>x20</th> <td>    0.0505</td> <td>    0.018</td> <td>    2.747</td> <td> 0.006</td> <td>    0.014</td> <td>    0.086</td>\n",
       "</tr>\n",
       "<tr>\n",
       "  <th>x21</th> <td>    0.0617</td> <td>    0.019</td> <td>    3.307</td> <td> 0.001</td> <td>    0.025</td> <td>    0.098</td>\n",
       "</tr>\n",
       "<tr>\n",
       "  <th>x22</th> <td>    0.0529</td> <td>    0.018</td> <td>    2.858</td> <td> 0.004</td> <td>    0.017</td> <td>    0.089</td>\n",
       "</tr>\n",
       "<tr>\n",
       "  <th>x23</th> <td>    0.0688</td> <td>    0.014</td> <td>    5.015</td> <td> 0.000</td> <td>    0.042</td> <td>    0.096</td>\n",
       "</tr>\n",
       "<tr>\n",
       "  <th>x24</th> <td>    0.0561</td> <td>    0.012</td> <td>    4.716</td> <td> 0.000</td> <td>    0.033</td> <td>    0.079</td>\n",
       "</tr>\n",
       "<tr>\n",
       "  <th>x25</th> <td>    0.0530</td> <td>    0.017</td> <td>    3.064</td> <td> 0.002</td> <td>    0.019</td> <td>    0.087</td>\n",
       "</tr>\n",
       "<tr>\n",
       "  <th>x26</th> <td>    0.0504</td> <td>    0.013</td> <td>    3.908</td> <td> 0.000</td> <td>    0.025</td> <td>    0.076</td>\n",
       "</tr>\n",
       "<tr>\n",
       "  <th>x27</th> <td>    0.0363</td> <td>    0.012</td> <td>    3.072</td> <td> 0.002</td> <td>    0.013</td> <td>    0.059</td>\n",
       "</tr>\n",
       "<tr>\n",
       "  <th>x28</th> <td>    0.0286</td> <td>    0.017</td> <td>    1.695</td> <td> 0.090</td> <td>   -0.004</td> <td>    0.062</td>\n",
       "</tr>\n",
       "<tr>\n",
       "  <th>x29</th> <td>    0.0588</td> <td>    0.013</td> <td>    4.453</td> <td> 0.000</td> <td>    0.033</td> <td>    0.085</td>\n",
       "</tr>\n",
       "<tr>\n",
       "  <th>x30</th> <td>    0.0572</td> <td>    0.015</td> <td>    3.918</td> <td> 0.000</td> <td>    0.029</td> <td>    0.086</td>\n",
       "</tr>\n",
       "<tr>\n",
       "  <th>x31</th> <td>    0.0421</td> <td>    0.018</td> <td>    2.293</td> <td> 0.022</td> <td>    0.006</td> <td>    0.078</td>\n",
       "</tr>\n",
       "<tr>\n",
       "  <th>x32</th> <td>    0.0643</td> <td>    0.019</td> <td>    3.388</td> <td> 0.001</td> <td>    0.027</td> <td>    0.102</td>\n",
       "</tr>\n",
       "<tr>\n",
       "  <th>x33</th> <td>    0.0548</td> <td>    0.012</td> <td>    4.396</td> <td> 0.000</td> <td>    0.030</td> <td>    0.079</td>\n",
       "</tr>\n",
       "<tr>\n",
       "  <th>x34</th> <td>    0.0120</td> <td>    0.020</td> <td>    0.595</td> <td> 0.552</td> <td>   -0.028</td> <td>    0.052</td>\n",
       "</tr>\n",
       "<tr>\n",
       "  <th>x35</th> <td>    0.0589</td> <td>    0.019</td> <td>    3.025</td> <td> 0.002</td> <td>    0.021</td> <td>    0.097</td>\n",
       "</tr>\n",
       "<tr>\n",
       "  <th>x36</th> <td>    0.0628</td> <td>    0.025</td> <td>    2.512</td> <td> 0.012</td> <td>    0.014</td> <td>    0.112</td>\n",
       "</tr>\n",
       "<tr>\n",
       "  <th>x37</th> <td>    0.1054</td> <td>    0.018</td> <td>    5.844</td> <td> 0.000</td> <td>    0.070</td> <td>    0.141</td>\n",
       "</tr>\n",
       "<tr>\n",
       "  <th>x38</th> <td>    0.0166</td> <td>    0.018</td> <td>    0.917</td> <td> 0.359</td> <td>   -0.019</td> <td>    0.052</td>\n",
       "</tr>\n",
       "<tr>\n",
       "  <th>x39</th> <td>    0.0433</td> <td>    0.017</td> <td>    2.500</td> <td> 0.012</td> <td>    0.009</td> <td>    0.077</td>\n",
       "</tr>\n",
       "<tr>\n",
       "  <th>x40</th> <td>    0.0607</td> <td>    0.017</td> <td>    3.512</td> <td> 0.000</td> <td>    0.027</td> <td>    0.095</td>\n",
       "</tr>\n",
       "<tr>\n",
       "  <th>x41</th> <td>    0.0911</td> <td>    0.011</td> <td>    7.979</td> <td> 0.000</td> <td>    0.069</td> <td>    0.114</td>\n",
       "</tr>\n",
       "<tr>\n",
       "  <th>x42</th> <td>    0.0631</td> <td>    0.012</td> <td>    5.170</td> <td> 0.000</td> <td>    0.039</td> <td>    0.087</td>\n",
       "</tr>\n",
       "<tr>\n",
       "  <th>x43</th> <td>    0.0838</td> <td>    0.012</td> <td>    7.041</td> <td> 0.000</td> <td>    0.060</td> <td>    0.107</td>\n",
       "</tr>\n",
       "<tr>\n",
       "  <th>x44</th> <td>    0.0547</td> <td>    0.011</td> <td>    4.956</td> <td> 0.000</td> <td>    0.033</td> <td>    0.076</td>\n",
       "</tr>\n",
       "<tr>\n",
       "  <th>x45</th> <td>    0.0714</td> <td>    0.016</td> <td>    4.383</td> <td> 0.000</td> <td>    0.039</td> <td>    0.103</td>\n",
       "</tr>\n",
       "<tr>\n",
       "  <th>x46</th> <td>    0.0366</td> <td>    0.018</td> <td>    2.044</td> <td> 0.041</td> <td>    0.002</td> <td>    0.072</td>\n",
       "</tr>\n",
       "<tr>\n",
       "  <th>x47</th> <td>    0.0635</td> <td>    0.012</td> <td>    5.123</td> <td> 0.000</td> <td>    0.039</td> <td>    0.088</td>\n",
       "</tr>\n",
       "<tr>\n",
       "  <th>x48</th> <td>    0.0818</td> <td>    0.029</td> <td>    2.789</td> <td> 0.005</td> <td>    0.024</td> <td>    0.139</td>\n",
       "</tr>\n",
       "<tr>\n",
       "  <th>x49</th> <td>    0.0603</td> <td>    0.019</td> <td>    3.211</td> <td> 0.001</td> <td>    0.023</td> <td>    0.097</td>\n",
       "</tr>\n",
       "<tr>\n",
       "  <th>x50</th> <td>    0.0688</td> <td>    0.048</td> <td>    1.442</td> <td> 0.149</td> <td>   -0.025</td> <td>    0.162</td>\n",
       "</tr>\n",
       "<tr>\n",
       "  <th>x51</th> <td>    0.0773</td> <td>    0.017</td> <td>    4.524</td> <td> 0.000</td> <td>    0.044</td> <td>    0.111</td>\n",
       "</tr>\n",
       "<tr>\n",
       "  <th>x52</th> <td>    0.0436</td> <td>    0.019</td> <td>    2.330</td> <td> 0.020</td> <td>    0.007</td> <td>    0.080</td>\n",
       "</tr>\n",
       "<tr>\n",
       "  <th>x53</th> <td>    0.0992</td> <td>    0.014</td> <td>    6.986</td> <td> 0.000</td> <td>    0.071</td> <td>    0.127</td>\n",
       "</tr>\n",
       "<tr>\n",
       "  <th>x54</th> <td>    0.1151</td> <td>    0.011</td> <td>   10.077</td> <td> 0.000</td> <td>    0.093</td> <td>    0.138</td>\n",
       "</tr>\n",
       "<tr>\n",
       "  <th>x55</th> <td>    0.1089</td> <td>    0.012</td> <td>    8.866</td> <td> 0.000</td> <td>    0.085</td> <td>    0.133</td>\n",
       "</tr>\n",
       "<tr>\n",
       "  <th>x56</th> <td>    0.0945</td> <td>    0.011</td> <td>    8.588</td> <td> 0.000</td> <td>    0.073</td> <td>    0.116</td>\n",
       "</tr>\n",
       "<tr>\n",
       "  <th>x57</th> <td>    0.0862</td> <td>    0.012</td> <td>    7.492</td> <td> 0.000</td> <td>    0.064</td> <td>    0.109</td>\n",
       "</tr>\n",
       "<tr>\n",
       "  <th>x58</th> <td>    0.0834</td> <td>    0.012</td> <td>    6.979</td> <td> 0.000</td> <td>    0.060</td> <td>    0.107</td>\n",
       "</tr>\n",
       "<tr>\n",
       "  <th>x59</th> <td>    0.1097</td> <td>    0.013</td> <td>    8.623</td> <td> 0.000</td> <td>    0.085</td> <td>    0.135</td>\n",
       "</tr>\n",
       "<tr>\n",
       "  <th>x60</th> <td>    0.1293</td> <td>    0.011</td> <td>   11.639</td> <td> 0.000</td> <td>    0.108</td> <td>    0.151</td>\n",
       "</tr>\n",
       "<tr>\n",
       "  <th>x61</th> <td>    0.1159</td> <td>    0.012</td> <td>   10.041</td> <td> 0.000</td> <td>    0.093</td> <td>    0.139</td>\n",
       "</tr>\n",
       "<tr>\n",
       "  <th>x62</th> <td>    0.1166</td> <td>    0.011</td> <td>   10.501</td> <td> 0.000</td> <td>    0.095</td> <td>    0.138</td>\n",
       "</tr>\n",
       "<tr>\n",
       "  <th>x63</th> <td>    0.1101</td> <td>    0.011</td> <td>   10.221</td> <td> 0.000</td> <td>    0.089</td> <td>    0.131</td>\n",
       "</tr>\n",
       "<tr>\n",
       "  <th>x64</th> <td>    0.0922</td> <td>    0.011</td> <td>    8.065</td> <td> 0.000</td> <td>    0.070</td> <td>    0.115</td>\n",
       "</tr>\n",
       "<tr>\n",
       "  <th>x65</th> <td>    0.0944</td> <td>    0.014</td> <td>    6.933</td> <td> 0.000</td> <td>    0.068</td> <td>    0.121</td>\n",
       "</tr>\n",
       "<tr>\n",
       "  <th>x66</th> <td>    0.0964</td> <td>    0.011</td> <td>    8.695</td> <td> 0.000</td> <td>    0.075</td> <td>    0.118</td>\n",
       "</tr>\n",
       "<tr>\n",
       "  <th>x67</th> <td>    0.0753</td> <td>    0.015</td> <td>    4.994</td> <td> 0.000</td> <td>    0.046</td> <td>    0.105</td>\n",
       "</tr>\n",
       "<tr>\n",
       "  <th>x68</th> <td>    0.0387</td> <td>    0.019</td> <td>    2.077</td> <td> 0.038</td> <td>    0.002</td> <td>    0.075</td>\n",
       "</tr>\n",
       "<tr>\n",
       "  <th>x69</th> <td>    0.0261</td> <td>    0.019</td> <td>    1.354</td> <td> 0.176</td> <td>   -0.012</td> <td>    0.064</td>\n",
       "</tr>\n",
       "<tr>\n",
       "  <th>x70</th> <td>   -0.0136</td> <td>    0.019</td> <td>   -0.715</td> <td> 0.474</td> <td>   -0.051</td> <td>    0.024</td>\n",
       "</tr>\n",
       "<tr>\n",
       "  <th>x71</th> <td>    0.2654</td> <td>    0.015</td> <td>   17.139</td> <td> 0.000</td> <td>    0.235</td> <td>    0.296</td>\n",
       "</tr>\n",
       "<tr>\n",
       "  <th>x72</th> <td>    0.2602</td> <td>    0.015</td> <td>   16.788</td> <td> 0.000</td> <td>    0.230</td> <td>    0.291</td>\n",
       "</tr>\n",
       "<tr>\n",
       "  <th>x73</th> <td>    0.2590</td> <td>    0.015</td> <td>   16.714</td> <td> 0.000</td> <td>    0.229</td> <td>    0.289</td>\n",
       "</tr>\n",
       "<tr>\n",
       "  <th>x74</th> <td>    0.2340</td> <td>    0.016</td> <td>   15.082</td> <td> 0.000</td> <td>    0.204</td> <td>    0.264</td>\n",
       "</tr>\n",
       "<tr>\n",
       "  <th>x75</th> <td>    0.2572</td> <td>    0.027</td> <td>    9.359</td> <td> 0.000</td> <td>    0.203</td> <td>    0.311</td>\n",
       "</tr>\n",
       "<tr>\n",
       "  <th>x76</th> <td>    0.2413</td> <td>    0.070</td> <td>    3.431</td> <td> 0.001</td> <td>    0.103</td> <td>    0.379</td>\n",
       "</tr>\n",
       "<tr>\n",
       "  <th>x77</th> <td>    0.2510</td> <td>    0.161</td> <td>    1.557</td> <td> 0.120</td> <td>   -0.065</td> <td>    0.567</td>\n",
       "</tr>\n",
       "</table>"
      ],
      "text/plain": [
       "<class 'statsmodels.iolib.table.SimpleTable'>"
      ]
     },
     "execution_count": 309,
     "metadata": {},
     "output_type": "execute_result"
    }
   ],
   "source": [
    "est = smf.OLS(y,x,).fit()\n",
    "est_res = est.summary()\n",
    "est_res.tables[1]\n"
   ]
  },
  {
   "cell_type": "code",
   "execution_count": 307,
   "metadata": {},
   "outputs": [
    {
     "name": "stdout",
     "output_type": "stream",
     "text": [
      "RSS: 6450.493341352057\n",
      "R^2: 0.10197101130201314\n"
     ]
    }
   ],
   "source": [
    "rss = np.sum(est.resid ** 2)\n",
    "print(\"RSS:\", rss)\n",
    "print(\"R^2:\", est.rsquared)"
   ]
  },
  {
   "cell_type": "code",
   "execution_count": 4,
   "metadata": {},
   "outputs": [],
   "source": [
    "target = 'shot_made_flag'"
   ]
  },
  {
   "cell_type": "markdown",
   "metadata": {},
   "source": [
    "**Задания:**\n",
    "\n",
    "1. Провести анализ данных. Много хороших примеров анализа можно посмотреть здесь https://www.kaggle.com/c/kobe-bryant-shot-selection/kernels\n",
    "2. Подготовить фичи для обучения модели - нагенерить признаков, обработать пропущенные значения, проверить на возможные выбросы, обработать категориальные признаки и др.\n",
    "3. Обучить линейную модель, Lasso, Ridge на тех же признаках - построить сравнительную таблицу коэффициентов, сделать заключения о том, как меняется величина коэффициентов, какие зануляются. Посчитать RSS\n",
    "\n",
    "**Дополнительно**\n",
    "4. Сравнить результаты на тестовом наборе данных - сделать train_test_split в самом начале, подготовить переменные, сравнить результаты работы классификаторов (те же 3), метрика ROC AUC"
   ]
  }
 ],
 "metadata": {
  "kernelspec": {
   "display_name": "Python 3",
   "language": "python",
   "name": "python3"
  },
  "language_info": {
   "codemirror_mode": {
    "name": "ipython",
    "version": 3
   },
   "file_extension": ".py",
   "mimetype": "text/x-python",
   "name": "python",
   "nbconvert_exporter": "python",
   "pygments_lexer": "ipython3",
   "version": "3.7.1"
  }
 },
 "nbformat": 4,
 "nbformat_minor": 2
}
