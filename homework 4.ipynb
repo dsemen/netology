{
 "cells": [
  {
   "cell_type": "code",
   "execution_count": null,
   "metadata": {},
   "outputs": [],
   "source": [
    "\"\"\"Напишите функцию date_range, которая возвращает список дней между датами start_date и end_date. \n",
    "Даты должны вводиться в формате YYYY-MM-DD.\"\"\""
   ]
  },
  {
   "cell_type": "code",
   "execution_count": 7,
   "metadata": {},
   "outputs": [
    {
     "name": "stdout",
     "output_type": "stream",
     "text": [
      "Введите дату начала в формате ГГГГ-ММ-ДД 2018-05-06\n",
      "Введите конечную дату в формате ГГГГ-ММ-ДД 2018-05-16\n",
      "2018-05-06\n",
      "2018-05-07\n",
      "2018-05-08\n",
      "2018-05-09\n",
      "2018-05-10\n",
      "2018-05-11\n",
      "2018-05-12\n",
      "2018-05-13\n",
      "2018-05-14\n",
      "2018-05-15\n",
      "2018-05-16\n"
     ]
    }
   ],
   "source": [
    "from datetime import datetime\n",
    "from datetime import timedelta\n",
    "start_date=input(\"Введите дату начала в формате ГГГГ-ММ-ДД \")\n",
    "end_date=input(\"Введите конечную дату в формате ГГГГ-ММ-ДД \")\n",
    "start_date_dt = datetime.strptime(start_date, '%Y-%m-%d')\n",
    "end_date_dt = datetime.strptime(end_date, '%Y-%m-%d')\n",
    "while start_date_dt <= end_date_dt:\n",
    "    print(start_date_dt.strftime('%Y-%m-%d'))\n",
    "    start_date_dt+=timedelta(days=1)"
   ]
  },
  {
   "cell_type": "code",
   "execution_count": null,
   "metadata": {},
   "outputs": [],
   "source": [
    "\"\"\"Дополните функцию из первого задания проверкой на корректность дат. \n",
    "В случае неверного формата или если start_date > end_date должен возвращаться пустой список.\"\"\""
   ]
  },
  {
   "cell_type": "code",
   "execution_count": 12,
   "metadata": {},
   "outputs": [
    {
     "name": "stdout",
     "output_type": "stream",
     "text": [
      "Введите дату начала в формате ГГГГ-ММ-ДД 2018-05-06\n",
      "Введите конечную дату в формате ГГГГ-ММ-ДД 201856\n",
      "\n"
     ]
    }
   ],
   "source": [
    "from datetime import datetime\n",
    "from datetime import timedelta\n",
    "start_date=input(\"Введите дату начала в формате ГГГГ-ММ-ДД \")\n",
    "end_date=input(\"Введите конечную дату в формате ГГГГ-ММ-ДД \")\n",
    "try:\n",
    "    start_date_dt = datetime.strptime(start_date, '%Y-%m-%d')\n",
    "    end_date_dt = datetime.strptime(end_date, '%Y-%m-%d')\n",
    "    while start_date_dt <= end_date_dt:\n",
    "        print(start_date_dt.strftime('%Y-%m-%d'))\n",
    "        start_date_dt+=timedelta(days=1)        \n",
    "except ValueError:#если start_date > end_date то возвращается пустой список без try\\except\n",
    "    print()"
   ]
  },
  {
   "cell_type": "code",
   "execution_count": null,
   "metadata": {},
   "outputs": [],
   "source": [
    "\"\"\"Дан поток дат в формате YYYY-MM-DD, в которых встречаются некорректные значения:\n",
    "stream = ['2018-04-02', '2018-02-29', '2018-19-02']Напишите функцию, которая проверяет эти даты на \n",
    "корректность. Т. е. для каждой даты возвращает True (дата корректна) или False (некорректная дата).\n",
    "\"\"\""
   ]
  },
  {
   "cell_type": "code",
   "execution_count": 24,
   "metadata": {},
   "outputs": [
    {
     "name": "stdout",
     "output_type": "stream",
     "text": [
      "False\n",
      "True\n",
      "False\n"
     ]
    }
   ],
   "source": [
    "def check_date\n",
    "x = 0\n",
    "y=[]\n",
    "for x in range (3):\n",
    "    print (y[x]==1)"
   ]
  },
  {
   "cell_type": "code",
   "execution_count": null,
   "metadata": {},
   "outputs": [],
   "source": [
    "\"\"\"Напишите функцию, которая возвращает список дат с 1 по вчерашний день текущего месяца. \n",
    "Если дан 1 день месяца, то возвращается список дней прошлого месяца.\"\"\""
   ]
  },
  {
   "cell_type": "code",
   "execution_count": 10,
   "metadata": {},
   "outputs": [
    {
     "name": "stdout",
     "output_type": "stream",
     "text": [
      "2018-12-01\n",
      "2018-12-02\n",
      "2018-12-03\n",
      "2018-12-04\n",
      "2018-12-05\n",
      "2018-12-06\n",
      "2018-12-07\n",
      "2018-12-08\n",
      "2018-12-09\n",
      "2018-12-10\n",
      "2018-12-11\n",
      "2018-12-12\n",
      "2018-12-13\n"
     ]
    }
   ],
   "source": [
    "from datetime import datetime\n",
    "from datetime import timedelta\n",
    "import calendar\n",
    "td=datetime.date(datetime.today())\n",
    "fst_d=td.replace(day=1)\n",
    "lst_d=td-timedelta(days=1)\n",
    "while fst_d <= lst_d:        \n",
    "        print(fst_d.strftime('%Y-%m-%d'))\n",
    "        fst_d+=timedelta(days=1)\n",
    "if td.day==1:\n",
    "    i=td.replace(month=td.month-1)\n",
    "    while i <= lst_d:\n",
    "        print (i.strftime('%Y-%m-%d'))\n",
    "        i+=timedelta(days=1)"
   ]
  },
  {
   "cell_type": "code",
   "execution_count": null,
   "metadata": {},
   "outputs": [],
   "source": [
    "\"\"\"Напишите функцию, которая возвращает точную дату в формате YYYY-MM-DD по фразе:\n",
    "1. 'today' - сегодняшнюю дату\n",
    "2. 'last monday' -  прошлый понедельник\n",
    "3. 'last day' - Последний день текущего месяца\"\"\""
   ]
  },
  {
   "cell_type": "code",
   "execution_count": 114,
   "metadata": {},
   "outputs": [
    {
     "name": "stdout",
     "output_type": "stream",
     "text": [
      "last day\n",
      "2018-12-31\n"
     ]
    }
   ],
   "source": [
    "import calendar\n",
    "from datetime import datetime\n",
    "from datetime import timedelta\n",
    "td=datetime.date(datetime.today())\n",
    "lst_md=td-timedelta(days=(7+datetime.weekday(td)))\n",
    "lst_d=td.replace(day=31)\n",
    "inp=input()\n",
    "if inp == 'today':\n",
    "    print(td)\n",
    "if inp == 'last monday':\n",
    "    print(lst_md)\n",
    "if inp == 'last day':\n",
    "    print(lst_d)"
   ]
  },
  {
   "cell_type": "code",
   "execution_count": null,
   "metadata": {},
   "outputs": [],
   "source": [
    "\"\"\"Напишите функцию, которая разбивает на недели с понедельника по воскресенье \n",
    "интервал дат между start_date и end_date. Считайте, что входные данные всегда корректны.\n",
    "В ответ должны входить только полные недели.\"\"\""
   ]
  },
  {
   "cell_type": "code",
   "execution_count": null,
   "metadata": {},
   "outputs": [],
   "source": []
  }
 ],
 "metadata": {
  "kernelspec": {
   "display_name": "Python 3",
   "language": "python",
   "name": "python3"
  },
  "language_info": {
   "codemirror_mode": {
    "name": "ipython",
    "version": 3
   },
   "file_extension": ".py",
   "mimetype": "text/x-python",
   "name": "python",
   "nbconvert_exporter": "python",
   "pygments_lexer": "ipython3",
   "version": "3.7.0"
  }
 },
 "nbformat": 4,
 "nbformat_minor": 2
}
