{
 "cells": [
  {
   "cell_type": "markdown",
   "metadata": {},
   "source": [
    "# Домашняя работа №2"
   ]
  },
  {
   "cell_type": "code",
   "execution_count": 4,
   "metadata": {},
   "outputs": [],
   "source": [
    "import pandas as pd\n",
    "from scipy import stats\n",
    "import numpy as np\n",
    "\n",
    "import seaborn as sns\n",
    "from sklearn import datasets\n",
    "from matplotlib import pyplot as plt\n",
    "from statsmodels.distributions.empirical_distribution import ECDF"
   ]
  },
  {
   "cell_type": "markdown",
   "metadata": {},
   "source": [
    "## Генеральная совокупность и выборка"
   ]
  },
  {
   "cell_type": "markdown",
   "metadata": {},
   "source": [
    "- Чем отличается генеральная совокупность от выборки?"
   ]
  },
  {
   "cell_type": "code",
   "execution_count": null,
   "metadata": {},
   "outputs": [],
   "source": [
    "ГС - это совокупность ВСЕХ объектов (данных), относительно которых делается вывод, \n",
    "а выборка - это часть объектов (данных), которые выбрали из ГС. Выборка - это часть ГС."
   ]
  },
  {
   "cell_type": "markdown",
   "metadata": {},
   "source": [
    "- Если размер выборки больше 200, то такая выборка является репрезентативной?"
   ]
  },
  {
   "cell_type": "code",
   "execution_count": 4,
   "metadata": {},
   "outputs": [
    {
     "data": {
      "text/plain": [
       "'Возможно ДА, но зависит не от размера выборки, а от того включены ли туда все виды объектов  \\nГС и от размера самой ГС. Если ГС = миллиону, то конечно выборка 200 штук мала.'"
      ]
     },
     "execution_count": 4,
     "metadata": {},
     "output_type": "execute_result"
    }
   ],
   "source": [
    "\"\"\"Возможно ДА, но зависит не от размера выборки, а от того включены ли туда все виды объектов  \n",
    "ГС и от размера самой ГС. Если ГС = миллиону, то конечно выборка 200 штук мала.\"\"\""
   ]
  },
  {
   "cell_type": "markdown",
   "metadata": {},
   "source": [
    "- Измерили длину волос футболистов сборной Франции на ЧМ-2018. Что могло являться генеральной совокупностью? Приведите 3 примера."
   ]
  },
  {
   "cell_type": "code",
   "execution_count": null,
   "metadata": {},
   "outputs": [],
   "source": [
    "Длина волос футболистов на ЧМ-2018\n",
    "Длина волос футболистов из Франции\n",
    "Длина волос у спортсменов"
   ]
  },
  {
   "cell_type": "markdown",
   "metadata": {},
   "source": [
    "- Пусть генеральная совокупность --- вес детей, родившихся в Волгограде за последние 10 лет. Предложите 2 стратегии, как сгенерировать выборку."
   ]
  },
  {
   "cell_type": "code",
   "execution_count": null,
   "metadata": {},
   "outputs": [],
   "source": [
    "Взять всю статистику за последние 10 лет в 1 роддоме из Волгограда\n",
    "Взять всю статистику за первый, третий, шестой и десятый год\n",
    "Взять случайную выборку определённого количества детей в каждом роддоме"
   ]
  },
  {
   "cell_type": "markdown",
   "metadata": {},
   "source": [
    "## Параметры центра и разброса"
   ]
  },
  {
   "cell_type": "markdown",
   "metadata": {},
   "source": [
    "- Постройте распределение, у которого отсутствует мода.\n"
   ]
  },
  {
   "cell_type": "code",
   "execution_count": 4,
   "metadata": {},
   "outputs": [
    {
     "data": {
      "text/plain": [
       "[<matplotlib.lines.Line2D at 0x7fba30397ef0>]"
      ]
     },
     "execution_count": 4,
     "metadata": {},
     "output_type": "execute_result"
    },
    {
     "data": {
      "image/png": "[encoded data removed]",
      "text/plain": [
       "<Figure size 432x288 with 1 Axes>"
      ]
     },
     "metadata": {
      "needs_background": "light"
     },
     "output_type": "display_data"
    }
   ],
   "source": [
    "uniform_rv = stats.uniform(1, 4)\n",
    "uniform_rv.rvs(10)\n",
    "x = np.linspace(0, 6, 100)\n",
    "pdf = uniform_rv.pdf(x)\n",
    "plt.plot(x, pdf)"
   ]
  },
  {
   "cell_type": "markdown",
   "metadata": {},
   "source": [
    "- Какая из статистик (медиана, матожидание) будет наиболее неустойчивой при выбросах? Проверить на выборке из Гамма-распределения. "
   ]
  },
  {
   "cell_type": "code",
   "execution_count": 8,
   "metadata": {},
   "outputs": [
    {
     "data": {
      "text/plain": [
       "(3.4111290208062215, 4.212205463301467, 3.6691081806617385, 185.72404506597047)"
      ]
     },
     "execution_count": 8,
     "metadata": {},
     "output_type": "execute_result"
    }
   ],
   "source": [
    "gamma_rv = stats.gamma(3, 1)\n",
    "sample = gamma_rv.rvs(51)\n",
    "med = sorted(sample)[24]\n",
    "mean = sample.mean()\n",
    "\n",
    "#неустойчивое - матожидание\n",
    "overshoot = np.arange(1000,5000,1000)\n",
    "sample_with_overshoot = np.append(sample, overshoot)\n",
    "new_med = np.median(sample_with_overshoot)\n",
    "new_mean = sample_with_overshoot.mean()\n",
    "med,mean,new_med,new_mean"
   ]
  },
  {
   "cell_type": "markdown",
   "metadata": {},
   "source": [
    "- Как изменится матожидание, если к выборке добавить константу $C$? Умножить на $C$. \n",
    "\n",
    "Проверите на выборке из распределения Пуассона"
   ]
  },
  {
   "cell_type": "code",
   "execution_count": 9,
   "metadata": {},
   "outputs": [
    {
     "data": {
      "text/plain": [
       "(1.88, 2.38, 0.94)"
      ]
     },
     "execution_count": 9,
     "metadata": {},
     "output_type": "execute_result"
    }
   ],
   "source": [
    "pois_rv = stats.poisson(2)\n",
    "sample = pois_rv.rvs(100)\n",
    "C = 0.5\n",
    "#увеличиться на С// увеличиться в С раз\n",
    "mean = sample.mean()\n",
    "mean_with_c = (sample+C).mean()\n",
    "mean_mult_c = (sample*C).mean()\n",
    "mean,mean_with_c,mean_mult_c"
   ]
  },
  {
   "cell_type": "markdown",
   "metadata": {},
   "source": [
    "- Как изменится дисперсия при добавлении выбросов? Проверьте для распределения экспоненциального распределения"
   ]
  },
  {
   "cell_type": "code",
   "execution_count": 7,
   "metadata": {},
   "outputs": [
    {
     "data": {
      "text/plain": [
       "(1.4763740000083303, 19029.1070033817)"
      ]
     },
     "execution_count": 7,
     "metadata": {},
     "output_type": "execute_result"
    }
   ],
   "source": [
    "exp_rv = stats.expon(4)\n",
    "sample = exp_rv.rvs(50)\n",
    "var = sample.var()\n",
    "\n",
    "#при добавлении выбросов, рост дисперсии будет экспоненциальным\n",
    "overshoot = 1000\n",
    "sample_with_overshoot = np.append(sample, overshoot)\n",
    "new_var = sample_with_overshoot.var()\n",
    "var, new_var"
   ]
  },
  {
   "cell_type": "markdown",
   "metadata": {},
   "source": [
    "- Что шире: интерквантильный размах ($X_{0.75} - X_{0.25}$) или $(\\bar{X}-s, \\bar{X}+s)$ для $\\mathcal{N}(a, \\sigma^2)$. Посчитайте и сравните эти интервалы для распредения $\\mathcal{N}(3,1)$"
   ]
  },
  {
   "cell_type": "code",
   "execution_count": 14,
   "metadata": {},
   "outputs": [
    {
     "name": "stdout",
     "output_type": "stream",
     "text": [
      "1.3280665763925725 1.9979189998619669\n"
     ]
    },
    {
     "data": {
      "text/plain": [
       "'(X-s, X + s) шире'"
      ]
     },
     "execution_count": 14,
     "metadata": {},
     "output_type": "execute_result"
    }
   ],
   "source": [
    "norm_rv = stats.norm(3,1)\n",
    "sample = norm_rv.rvs(1000)\n",
    "\n",
    "interq=np.percentile(sample,75)-np.percentile(sample,25)\n",
    "avg=sample.mean()\n",
    "r=(avg+sample.var())-(avg-sample.var())\n",
    "print(interq,r)\n",
    "\"\"\"(X-s, X + s) шире\"\"\""
   ]
  },
  {
   "cell_type": "code",
   "execution_count": null,
   "metadata": {},
   "outputs": [],
   "source": []
  },
  {
   "cell_type": "markdown",
   "metadata": {},
   "source": [
    "## Основные статистики и ЦПТ"
   ]
  },
  {
   "cell_type": "markdown",
   "metadata": {},
   "source": [
    "- Что такое статистика? Посчитайте любую для бета-распределения (1,3)"
   ]
  },
  {
   "cell_type": "markdown",
   "metadata": {},
   "source": [
    "статистика - количественная характеристика исследуемых параметров, характеризующих распределение случайной величины, полученную на основе исследования выборочных значений. Проще говоря показатели, характеризующие выборку. "
   ]
  },
  {
   "cell_type": "code",
   "execution_count": 10,
   "metadata": {},
   "outputs": [
    {
     "data": {
      "text/plain": [
       "0.20478071075548285"
      ]
     },
     "execution_count": 10,
     "metadata": {},
     "output_type": "execute_result"
    }
   ],
   "source": [
    "beta_rv = stats.beta(1,3)\n",
    "sample = beta_rv.rvs(100)\n",
    "np.median(sample)"
   ]
  },
  {
   "cell_type": "markdown",
   "metadata": {},
   "source": [
    "- Какие статистики являются оценками матожидания, медианы и дисперсии? Посчитайте их для гамма-распределения с параметрами (2, 2)"
   ]
  },
  {
   "cell_type": "markdown",
   "metadata": {},
   "source": [
    "Оценка матожидания - выборочное среднее\n",
    "\n",
    "Оценка медианы - средний элемент выборки, отсортированной в порядке возрастания (если кол-во элементов нечетное), либо среднее арифметическое двух соседних средних элементов, если кол-ыо элементов в выборке четное\n",
    "\n",
    "Оценка дисперсии - выборочная дисперсия"
   ]
  },
  {
   "cell_type": "code",
   "execution_count": 11,
   "metadata": {},
   "outputs": [
    {
     "data": {
      "text/plain": [
       "(4.104842948691741, 1.9766805039205653, 3.8586240377917296)"
      ]
     },
     "execution_count": 11,
     "metadata": {},
     "output_type": "execute_result"
    }
   ],
   "source": [
    "gamma_rv = stats.gamma(2,2)\n",
    "sample_g = gamma_rv.rvs(100)\n",
    "mean = sample_g.mean()\n",
    "var = sample_g.var()\n",
    "med = np.median(sample_g)\n",
    "mean,var,med\n"
   ]
  },
  {
   "cell_type": "markdown",
   "metadata": {},
   "source": [
    "- Какое распределение имеет $\\bar{X}$ по ЦПТ? Если исходное распределение $\\mathcal{N}(5, 2)$. Сгенерировать выборки размером 50 из этого распределения и проверить. (построить распределение средних)"
   ]
  },
  {
   "cell_type": "markdown",
   "metadata": {},
   "source": [
    "В соответствии с ЦПТ Х стремится к нормальному распределению.\n",
    "Математическое ожидание будет стремиться к выборочному среднему.\n",
    "Дисперсия будет стремиться к выборочной дисперсии."
   ]
  },
  {
   "cell_type": "code",
   "execution_count": 15,
   "metadata": {},
   "outputs": [
    {
     "name": "stderr",
     "output_type": "stream",
     "text": [
      "/home/semen/anaconda3/lib/python3.7/site-packages/matplotlib/axes/_axes.py:6571: UserWarning: The 'normed' kwarg is deprecated, and has been replaced by the 'density' kwarg.\n",
      "  warnings.warn(\"The 'normed' kwarg is deprecated, and has been \"\n"
     ]
    },
    {
     "name": "stdout",
     "output_type": "stream",
     "text": [
      "ВЫборочное среднее равно: 4.999137192901065\n"
     ]
    },
    {
     "data": {
      "image/png": "[encoded data removed]",
      "text/plain": [
       "<Figure size 432x288 with 1 Axes>"
      ]
     },
     "metadata": {
      "needs_background": "light"
     },
     "output_type": "display_data"
    }
   ],
   "source": [
    "#your code here\n",
    "norm_rv = stats.norm(5,2)\n",
    "mean = []\n",
    "for i in range(10000):\n",
    "    sample = norm_rv.rvs(50)\n",
    "    mean.append(sample.mean())\n",
    "plt.hist(mean, 20, normed=True)\n",
    "print(\"ВЫборочное среднее равно: {}\".format(np.array(mean).mean()))"
   ]
  },
  {
   "cell_type": "markdown",
   "metadata": {},
   "source": [
    "- Сгенерируйте выборки так, чтобы ЦПТ не выполнялось (распределение средних не было похоже нормальное)"
   ]
  },
  {
   "cell_type": "code",
   "execution_count": 16,
   "metadata": {},
   "outputs": [
    {
     "data": {
      "image/png": "[encoded data removed]",
      "text/plain": [
       "<Figure size 432x288 with 1 Axes>"
      ]
     },
     "metadata": {
      "needs_background": "light"
     },
     "output_type": "display_data"
    }
   ],
   "source": [
    "norm_1 = stats.norm(5, 2)\n",
    "norm_2 = stats.norm(2, 1)\n",
    "means = []\n",
    "for i in range(15):\n",
    "    sample = norm_1.rvs(10)\n",
    "    means.append(sample.mean())\n",
    "\n",
    "plt.hist(means, density=True)\n",
    "plt.show()"
   ]
  },
  {
   "cell_type": "markdown",
   "metadata": {},
   "source": [
    "- Сделайте z-преобразование для данного распределения и посчитайте новое матожидание и дисперсию "
   ]
  },
  {
   "cell_type": "code",
   "execution_count": 17,
   "metadata": {},
   "outputs": [
    {
     "name": "stdout",
     "output_type": "stream",
     "text": [
      "Новое матожидание: -0.0, новая дисперсия: 0.9999999999999998\n"
     ]
    }
   ],
   "source": [
    "expon_rv = stats.expon(3)\n",
    "sample = expon_rv.rvs(100)\n",
    "mean = sample.mean()\n",
    "var = sample.var() ** .5\n",
    "new_rv = []\n",
    "[ new_rv.append((val - mean)/var) for val in sample ]\n",
    "new_rv = np.array(new_rv)\n",
    "new_mean = round(new_rv.mean(), 3)\n",
    "new_var = new_rv.var() ** .5\n",
    "print(f'Новое матожидание: {new_mean}, новая дисперсия: {new_var}')"
   ]
  },
  {
   "cell_type": "markdown",
   "metadata": {},
   "source": [
    "## Доверительные интервалы и гипотезы"
   ]
  },
  {
   "cell_type": "markdown",
   "metadata": {},
   "source": [
    "В данных задачах используйте встроенную функцию, позволяющую искать квантили случайной величины **your_rv**.ppf, а также https://gallery.shinyapps.io/dist_calc/ для визуальной картины"
   ]
  },
  {
   "cell_type": "markdown",
   "metadata": {},
   "source": [
    "- Постройте 90% доверительный интервал для среднего значения $\\mathcal{\\chi^2_{10}}$."
   ]
  },
  {
   "cell_type": "code",
   "execution_count": 29,
   "metadata": {},
   "outputs": [
    {
     "data": {
      "text/plain": [
       "15.987179172105263"
      ]
     },
     "execution_count": 29,
     "metadata": {},
     "output_type": "execute_result"
    }
   ],
   "source": [
    "chi_rv = stats.chi2 (10)\n",
    "DI_90 = chi_rv.ppf(q=0.90)\n",
    "DI_90"
   ]
  },
  {
   "cell_type": "markdown",
   "metadata": {},
   "source": [
    "- Постройте ДИ для распределения Стьюдента с df = 15 уровня доверия 90%  и 95%. Какой интервал шире?"
   ]
  },
  {
   "cell_type": "code",
   "execution_count": 31,
   "metadata": {},
   "outputs": [
    {
     "data": {
      "text/plain": [
       "(1.3406056078504547, 1.7530503556925547)"
      ]
     },
     "execution_count": 31,
     "metadata": {},
     "output_type": "execute_result"
    }
   ],
   "source": [
    "student_rv=stats.t(15)\n",
    "student_rv.ppf(0.9),student_rv.ppf(0.95)"
   ]
  },
  {
   "cell_type": "markdown",
   "metadata": {},
   "source": [
    "- Сгенерируйте 2 выборки с одинаковыми параметрами, отличающиеся в 2 раза по размеру. Постройте 2 90% ДИ. Чем они отличаются? Распределение $\\mathcal{N}(0,2)$ "
   ]
  },
  {
   "cell_type": "code",
   "execution_count": 24,
   "metadata": {},
   "outputs": [
    {
     "name": "stdout",
     "output_type": "stream",
     "text": [
      "Доверительный интервал для маленькой выборки -0.08629694075213529 0.11719660791736819\n",
      "Доверительный интервал для большой выборки -0.034757427651764525 0.11052068595537105\n",
      "Чем больше выборка, тем уже(достоверней) дов интервал 0.20349354866950348 0.14527811360713558\n"
     ]
    }
   ],
   "source": [
    "norm_rv = stats.norm(0, 2)\n",
    "n1 = 1000\n",
    "n2 = 2000\n",
    "vib1 = norm_rv.rvs(n1)\n",
    "vib2 = norm_rv.rvs(n2)\n",
    "vib1_mat = vib1.mean()\n",
    "vib1_var = vib1.var()\n",
    "vib1_sigma = vib1_var ** 0.5\n",
    "v11_90 = vib1_mat - vib1_sigma/(n1**0.5)*1.64\n",
    "v12_90 = vib1_mat + vib1_sigma/(n1**0.5)*1.64\n",
    "vib2_mat = vib2.mean()\n",
    "vib2_var = vib2.var()\n",
    "vib2_sigma = vib2_var ** 0.5\n",
    "v21_90 = vib2_mat - vib2_sigma/(n2**0.5)*1.64\n",
    "v22_90 = vib2_mat + vib2_sigma/(n2**0.5)*1.64\n",
    "\n",
    "print('Доверительный интервал для маленькой выборки', v11_90, v12_90)\n",
    "print('Доверительный интервал для большой выборки', v21_90, v22_90)\n",
    "print('Чем больше выборка, тем уже(достоверней) дов интервал', v12_90 - v11_90, v22_90-v21_90 )"
   ]
  },
  {
   "cell_type": "markdown",
   "metadata": {},
   "source": [
    "- Пусть $H_0: M=100$. Мы получили $p = 0,12$ и не смогли отклонить нулевую гипотезу. Однако позже выяснилось, что среднее в генеральной совокупности равняется 114. Ошибку какого рода мы допустили?"
   ]
  },
  {
   "cell_type": "code",
   "execution_count": null,
   "metadata": {},
   "outputs": [],
   "source": [
    "ошибка второго рода"
   ]
  },
  {
   "cell_type": "markdown",
   "metadata": {},
   "source": [
    "#### Какие рассуждения относительно p-value верные?\n",
    "\n",
    "- Елси p уровень значимости равен 0,003, то вероятность того, что верна нулевая гипотеза также равняется  0,003.\n",
    "-\n",
    "- Если бы в исследовании мы получили $p=0,9$, это означало бы, что верна нулевая гипотеза.\n",
    "- Чем меньше p уровень значимости, тем хуже гипотеза.\n"
   ]
  },
  {
   "cell_type": "markdown",
   "metadata": {},
   "source": [
    "1.Не верно, т.к. это вероятность отклонить нулевую гипотезу, когда на самом деле она верна. \n",
    "2.Неверное отверждение, мы лишь можем сказать, что Нет оснований отклонять основную гипотезу на данном этапе.\n",
    "3.Спорно, Чем меньше уровень значимости, тем меньше вероятность нашего наблюдения при условии истинности основной гипотезы\n"
   ]
  },
  {
   "cell_type": "markdown",
   "metadata": {},
   "source": [
    "- Какое $p$-value будете использовать, если отклонять $H_0$ рисковано: $0.05$ или $0.01$? Является ли 99% доверительный интервал хорошей оценкой в общем случае?"
   ]
  },
  {
   "cell_type": "markdown",
   "metadata": {},
   "source": [
    "Если, рисковано отклонять, то 0.01 \n",
    "в большинстве практических задач  99%вполне достаточно."
   ]
  },
  {
   "cell_type": "markdown",
   "metadata": {},
   "source": [
    "## Стьюдент и корреляция"
   ]
  },
  {
   "cell_type": "markdown",
   "metadata": {},
   "source": [
    "- Изобразите графики плотности распределения Стьюдента для нескольких значений df= (5,10, 20, 40) и $\\mathcal{N}(0,1)$. В чем отличия?"
   ]
  },
  {
   "cell_type": "code",
   "execution_count": 22,
   "metadata": {},
   "outputs": [
    {
     "name": "stdout",
     "output_type": "stream",
     "text": [
      "С увеличением кол-ва степеней свободы, распредедение стьюдента стремится к нормальному.  \n",
      " Чем меньше степеней свободы, тем хвосты выше (дисперсия больше)\n"
     ]
    },
    {
     "data": {
      "image/png": "[encoded data removed]",
      "text/plain": [
       "<Figure size 864x432 with 1 Axes>"
      ]
     },
     "metadata": {
      "needs_background": "light"
     },
     "output_type": "display_data"
    }
   ],
   "source": [
    "t_rv_5 = stats.t(5)\n",
    "t_rv_10 = stats.t(10)\n",
    "t_rv_20 = stats.t(20)\n",
    "t_rv_40 = stats.t(40)\n",
    "norm_rv = stats.norm(0, 1)\n",
    "x = np.linspace(-4, 4, 100)\n",
    "plt.figure(figsize=(12,6))\n",
    "pdf_5 = t_rv_5.pdf(x)\n",
    "pdf_10 = t_rv_10.pdf(x)\n",
    "pdf_20 = t_rv_20.pdf(x)\n",
    "pdf_40 = t_rv_40.pdf(x)\n",
    "pdf_norm = norm_rv.pdf(x)\n",
    "plt.plot(x, pdf_5)\n",
    "plt.plot(x, pdf_10)\n",
    "plt.plot(x, pdf_20)\n",
    "plt.plot(x, pdf_40)\n",
    "plt.plot(x, pdf_norm)\n",
    "plt.legend(['Student df=5', 'Student df=10', 'Student df=20', 'Student df=40'])\n",
    "print(\"С увеличением кол-ва степеней свободы, распредедение стьюдента стремится к нормальному.  \\n Чем меньше степеней свободы, тем хвосты выше (дисперсия больше)\")"
   ]
  },
  {
   "cell_type": "markdown",
   "metadata": {},
   "source": [
    "- Постройте две выборки, чтобы их корреляция была равна -1. Изобразите зависимость на графике."
   ]
  },
  {
   "cell_type": "code",
   "execution_count": 46,
   "metadata": {},
   "outputs": [
    {
     "data": {
      "text/plain": [
       "[<matplotlib.lines.Line2D at 0x7f496a381860>]"
      ]
     },
     "execution_count": 46,
     "metadata": {},
     "output_type": "execute_result"
    },
    {
     "data": {
      "image/png": "[encoded data removed]",
      "text/plain": [
       "<Figure size 432x288 with 1 Axes>"
      ]
     },
     "metadata": {
      "needs_background": "light"
     },
     "output_type": "display_data"
    }
   ],
   "source": [
    "a=np.arange(1,30,1)\n",
    "b=np.arange(30,1,-1) \n",
    "plt.plot(a, b)"
   ]
  },
  {
   "cell_type": "markdown",
   "metadata": {},
   "source": [
    "- Постройте две выборки, чтобы их корреляция была равна 0. Изобразите зависимость на графике."
   ]
  },
  {
   "cell_type": "code",
   "execution_count": 43,
   "metadata": {},
   "outputs": [
    {
     "name": "stdout",
     "output_type": "stream",
     "text": [
      "0.0\n"
     ]
    },
    {
     "data": {
      "image/png": "[encoded data removed]",
      "text/plain": [
       "<Figure size 432x288 with 1 Axes>"
      ]
     },
     "metadata": {
      "needs_background": "light"
     },
     "output_type": "display_data"
    }
   ],
   "source": [
    "import random\n",
    "xmean=5\n",
    "ymean=5\n",
    "x=[]\n",
    "y=[]\n",
    "for i in range(0,30):\n",
    "    rnd1=random.randint(0,9)\n",
    "    rnd2=random.randint(0,9)\n",
    "    x.append(xmean-rnd1)\n",
    "    y.append(ymean-rnd2)\n",
    "    x.append(xmean-rnd1)\n",
    "    y.append(ymean+rnd2)\n",
    "    x.append(xmean+rnd1)\n",
    "    y.append(ymean+rnd2)\n",
    "    x.append(xmean+rnd1)\n",
    "    y.append(ymean-rnd2)  \n",
    "plt.scatter(x,y)\n",
    "corr, p_value=stats.pearsonr(x,y)\n",
    "print(corr)"
   ]
  },
  {
   "cell_type": "markdown",
   "metadata": {},
   "source": [
    "- Сгенерируйте 2 выборки из $\\mathcal{N}(4,2)$, посчитайте их общий ранг и сумму рангов в каждой выборке."
   ]
  },
  {
   "cell_type": "code",
   "execution_count": 38,
   "metadata": {},
   "outputs": [
    {
     "name": "stdout",
     "output_type": "stream",
     "text": [
      "Ранг 1 10113 Ранг 2 9787\n"
     ]
    }
   ],
   "source": [
    "norm_rv = stats.norm(4,2)\n",
    "sample_1 = norm_rv.rvs(100)\n",
    "sample_2 = norm_rv.rvs(100)\n",
    "sample = np.concatenate((sample_1, sample_2))\n",
    "ordered_sample=sorted(sample)\n",
    "rank_1=0\n",
    "rank_2=0\n",
    "for i in range (0,len(ordered_sample)):\n",
    "    if ordered_sample[i] in sample_1:\n",
    "        rank_1+=i\n",
    "    else: \n",
    "        rank_2+=i\n",
    "print(\"Ранг 1 {} Ранг 2 {}\".format(rank_1,rank_2))"
   ]
  }
 ],
 "metadata": {
  "kernelspec": {
   "display_name": "Python 3",
   "language": "python",
   "name": "python3"
  },
  "language_info": {
   "codemirror_mode": {
    "name": "ipython",
    "version": 3
   },
   "file_extension": ".py",
   "mimetype": "text/x-python",
   "name": "python",
   "nbconvert_exporter": "python",
   "pygments_lexer": "ipython3",
   "version": "3.7.1"
  }
 },
 "nbformat": 4,
 "nbformat_minor": 2
}
