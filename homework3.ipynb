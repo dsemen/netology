{
 "cells": [
  {
   "cell_type": "code",
   "execution_count": 60,
   "metadata": {},
   "outputs": [],
   "source": [
    "\"\"\"Напишите функцию, которая возвращает сумму элементов на диагонали\"\"\"\n",
    "data = [\n",
    "    [13, 25, 23, 34],\n",
    "    [45, 32, 44, 47],\n",
    "    [12, 33, 23, 95],\n",
    "    [13, 53, 34, 35],\n",
    "]"
   ]
  },
  {
   "cell_type": "code",
   "execution_count": 89,
   "metadata": {},
   "outputs": [],
   "source": [
    "def diagonal(array):\n",
    "    z=[]\n",
    "    for x in array:\n",
    "        for y in x:\n",
    "            if array.index(x)==x.index(y):\n",
    "                z+=[y]\n",
    "    return sum(z)       "
   ]
  },
  {
   "cell_type": "code",
   "execution_count": 90,
   "metadata": {},
   "outputs": [
    {
     "data": {
      "text/plain": [
       "103"
      ]
     },
     "execution_count": 90,
     "metadata": {},
     "output_type": "execute_result"
    }
   ],
   "source": [
    "diagonal(data)"
   ]
  },
  {
   "cell_type": "code",
   "execution_count": 174,
   "metadata": {},
   "outputs": [],
   "source": [
    "\"\"\"Дан список чисел, часть из которых имеют строковый тип или содержат буквы. \n",
    "Напишите функцию, которая возвращает сумму квадратов элементов, которые могут быть числами.\"\"\"\n",
    "data2 = [1, '5', 'abc', 20, '2']"
   ]
  },
  {
   "cell_type": "code",
   "execution_count": 177,
   "metadata": {},
   "outputs": [],
   "source": [
    "def is_number(x):\n",
    "    try:\n",
    "        int(x)/int(x)\n",
    "        return int(x)**2\n",
    "    except ValueError:\n",
    "        return 0# функция проверяет числа"
   ]
  },
  {
   "cell_type": "code",
   "execution_count": 333,
   "metadata": {},
   "outputs": [
    {
     "data": {
      "text/plain": [
       "430"
      ]
     },
     "execution_count": 333,
     "metadata": {},
     "output_type": "execute_result"
    }
   ],
   "source": [
    "def sum_num(list):\n",
    "    return sum([is_number(x) for x in list])\n",
    "sum_num(data2)"
   ]
  },
  {
   "cell_type": "code",
   "execution_count": 181,
   "metadata": {
    "collapsed": true
   },
   "outputs": [
    {
     "data": {
      "text/plain": [
       "\"Напишите функцию, которая возвращает название валюты (поле 'Name') с максимальным значением курса с помощью сервиса https://www.cbr-xml-daily.ru/daily_json.js\""
      ]
     },
     "execution_count": 181,
     "metadata": {},
     "output_type": "execute_result"
    }
   ],
   "source": [
    "\"\"\"Напишите функцию, которая возвращает название валюты (поле 'Name') с максимальным значением курса \n",
    "с помощью сервиса https://www.cbr-xml-daily.ru/daily_json.js\"\"\""
   ]
  },
  {
   "cell_type": "code",
   "execution_count": 14,
   "metadata": {},
   "outputs": [
    {
     "name": "stdout",
     "output_type": "stream",
     "text": [
      "{'CNY': 96.4537}\n"
     ]
    }
   ],
   "source": [
    "import requests\n",
    "def currency_max():\n",
    "    lst = requests.get('https://www.cbr-xml-daily.ru/daily_json.js')\n",
    "    lst_items = lst.json()['Valute']\n",
    "    currency = ''\n",
    "    c_value = 0\n",
    "    for i in lst_items:\n",
    "        if lst_items[i]['Value'] > c_value:\n",
    "            c_value = lst_items[i]['Value']\n",
    "            currency = i\n",
    "    return {currency: c_value}\n",
    "print (currency_max())"
   ]
  },
  {
   "cell_type": "code",
   "execution_count": 289,
   "metadata": {
    "collapsed": true
   },
   "outputs": [
    {
     "data": {
      "text/plain": [
       "\"Последнее упражнение с занятия\\n1. Добавьте в класс еще один формат, который возвращает название валюты (например, 'Евро').\\n\\n2. Добавьте в класс параметр diff (со значениями True или False), который в случае значения True в методах eur и usd будет возвращать не курс валюты, а изменение по сравнению в прошлым значением.\""
      ]
     },
     "execution_count": 289,
     "metadata": {},
     "output_type": "execute_result"
    }
   ],
   "source": [
    "\"\"\"Последнее упражнение с занятия\n",
    "1. Добавьте в класс еще один формат, который возвращает название валюты (например, 'Евро').\n",
    "2. Добавьте в класс параметр diff (со значениями True или False), который в случае значения\n",
    "True в методах eur и usd будет возвращать не курс валюты, а изменение по сравнению в прошлым значением.\"\"\""
   ]
  },
  {
   "cell_type": "code",
   "execution_count": 15,
   "metadata": {},
   "outputs": [],
   "source": [
    "def eur(self):\n",
    "        return self.make_format('EUR')"
   ]
  },
  {
   "cell_type": "code",
   "execution_count": null,
   "metadata": {},
   "outputs": [],
   "source": [
    "def make_diff(self, cur, diff):\n",
    "        self.diff = diff        \n",
    "        response = self.exchange_rates()        \n",
    "        if cur in response:\n",
    "            if self.diff == 'True':\n",
    "                return response[cur]['Value'] - response[cur]['Previous']          \n",
    "        return 'Error'\n",
    "    Rate('full').make_diff('USD', 'True')"
   ]
  },
  {
   "cell_type": "code",
   "execution_count": null,
   "metadata": {},
   "outputs": [],
   "source": [
    "\"\"\"Напишите функцию, возвращающую сумму первых n чисел Фибоначчи\"\"\"\n"
   ]
  },
  {
   "cell_type": "code",
   "execution_count": 218,
   "metadata": {},
   "outputs": [],
   "source": [
    "def fib(n):\n",
    "    if n==1:\n",
    "        return 1\n",
    "    if n==2:\n",
    "        return 2\n",
    "    return fib(n-1) + fib(n-2)\n"
   ]
  },
  {
   "cell_type": "code",
   "execution_count": 323,
   "metadata": {},
   "outputs": [],
   "source": [
    "\"\"\"Напишите функцию, преобразующую произвольный список вида\n",
    "['2018-01-01', 'yandex', 'cpc', 100] в словарь {'2018-01-01': {'yandex': {'cpc': 100}}}\"\"\"\n",
    "data4 = ['2018-01-01', 'yandex', 'cpc', 100]"
   ]
  },
  {
   "cell_type": "code",
   "execution_count": 326,
   "metadata": {},
   "outputs": [
    {
     "data": {
      "text/plain": [
       "{'2018-01-01': {'yandex': {'cpc': 100}}}"
      ]
     },
     "execution_count": 326,
     "metadata": {},
     "output_type": "execute_result"
    }
   ],
   "source": [
    "def get_dict(list):\n",
    "    return {list[0]:{list[1]:{list[2]:list[3]}}}\n",
    "get_dict(data4) # получилось некрасиво, но решение есть"
   ]
  },
  {
   "cell_type": "code",
   "execution_count": 331,
   "metadata": {},
   "outputs": [],
   "source": [
    "def get_dict2(list):\n",
    "    return reduce(lambda x, y: {y:x}, reversed(list+[]))"
   ]
  },
  {
   "cell_type": "code",
   "execution_count": 332,
   "metadata": {},
   "outputs": [
    {
     "data": {
      "text/plain": [
       "{'2018-01-01': {'yandex': {'cpc': 100}}}"
      ]
     },
     "execution_count": 332,
     "metadata": {},
     "output_type": "execute_result"
    }
   ],
   "source": [
    "get_dict2 (data4)"
   ]
  },
  {
   "cell_type": "code",
   "execution_count": null,
   "metadata": {},
   "outputs": [],
   "source": []
  }
 ],
 "metadata": {
  "kernelspec": {
   "display_name": "Python 3",
   "language": "python",
   "name": "python3"
  },
  "language_info": {
   "codemirror_mode": {
    "name": "ipython",
    "version": 3
   },
   "file_extension": ".py",
   "mimetype": "text/x-python",
   "name": "python",
   "nbconvert_exporter": "python",
   "pygments_lexer": "ipython3",
   "version": "3.7.0"
  }
 },
 "nbformat": 4,
 "nbformat_minor": 2
}
