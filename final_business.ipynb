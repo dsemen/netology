{
 "cells": [
  {
   "cell_type": "code",
   "execution_count": 1,
   "metadata": {},
   "outputs": [],
   "source": [
    "import pandas as pd\n",
    "import numpy as np\n"
   ]
  },
  {
   "cell_type": "code",
   "execution_count": 2,
   "metadata": {},
   "outputs": [],
   "source": [
    "df = pd.read_excel(r'C:\\Users\\Dotsenko.Semen\\Downloads\\data.xlsx',sheet_name='retail',usecols=[i for i in range(0,8)])"
   ]
  },
  {
   "cell_type": "code",
   "execution_count": 3,
   "metadata": {},
   "outputs": [
    {
     "data": {
      "text/html": [
       "<div>\n",
       "<style scoped>\n",
       "    .dataframe tbody tr th:only-of-type {\n",
       "        vertical-align: middle;\n",
       "    }\n",
       "\n",
       "    .dataframe tbody tr th {\n",
       "        vertical-align: top;\n",
       "    }\n",
       "\n",
       "    .dataframe thead th {\n",
       "        text-align: right;\n",
       "    }\n",
       "</style>\n",
       "<table border=\"1\" class=\"dataframe\">\n",
       "  <thead>\n",
       "    <tr style=\"text-align: right;\">\n",
       "      <th></th>\n",
       "      <th>Quantity</th>\n",
       "      <th>UnitPrice</th>\n",
       "      <th>CustomerID</th>\n",
       "    </tr>\n",
       "  </thead>\n",
       "  <tbody>\n",
       "    <tr>\n",
       "      <th>count</th>\n",
       "      <td>54214.000000</td>\n",
       "      <td>54214.000000</td>\n",
       "      <td>40643.000000</td>\n",
       "    </tr>\n",
       "    <tr>\n",
       "      <th>mean</th>\n",
       "      <td>9.610802</td>\n",
       "      <td>4.307341</td>\n",
       "      <td>15283.422803</td>\n",
       "    </tr>\n",
       "    <tr>\n",
       "      <th>std</th>\n",
       "      <td>57.358422</td>\n",
       "      <td>47.834496</td>\n",
       "      <td>1707.982278</td>\n",
       "    </tr>\n",
       "    <tr>\n",
       "      <th>min</th>\n",
       "      <td>-9600.000000</td>\n",
       "      <td>0.000000</td>\n",
       "      <td>12347.000000</td>\n",
       "    </tr>\n",
       "    <tr>\n",
       "      <th>25%</th>\n",
       "      <td>1.000000</td>\n",
       "      <td>1.250000</td>\n",
       "      <td>13969.000000</td>\n",
       "    </tr>\n",
       "    <tr>\n",
       "      <th>50%</th>\n",
       "      <td>3.000000</td>\n",
       "      <td>2.080000</td>\n",
       "      <td>15152.000000</td>\n",
       "    </tr>\n",
       "    <tr>\n",
       "      <th>75%</th>\n",
       "      <td>10.000000</td>\n",
       "      <td>4.130000</td>\n",
       "      <td>16775.000000</td>\n",
       "    </tr>\n",
       "    <tr>\n",
       "      <th>max</th>\n",
       "      <td>2400.000000</td>\n",
       "      <td>6930.000000</td>\n",
       "      <td>18287.000000</td>\n",
       "    </tr>\n",
       "  </tbody>\n",
       "</table>\n",
       "</div>"
      ],
      "text/plain": [
       "           Quantity     UnitPrice    CustomerID\n",
       "count  54214.000000  54214.000000  40643.000000\n",
       "mean       9.610802      4.307341  15283.422803\n",
       "std       57.358422     47.834496   1707.982278\n",
       "min    -9600.000000      0.000000  12347.000000\n",
       "25%        1.000000      1.250000  13969.000000\n",
       "50%        3.000000      2.080000  15152.000000\n",
       "75%       10.000000      4.130000  16775.000000\n",
       "max     2400.000000   6930.000000  18287.000000"
      ]
     },
     "execution_count": 3,
     "metadata": {},
     "output_type": "execute_result"
    }
   ],
   "source": [
    "df.describe()"
   ]
  },
  {
   "cell_type": "code",
   "execution_count": 4,
   "metadata": {},
   "outputs": [
    {
     "name": "stdout",
     "output_type": "stream",
     "text": [
      "<class 'pandas.core.frame.DataFrame'>\n",
      "RangeIndex: 54214 entries, 0 to 54213\n",
      "Data columns (total 8 columns):\n",
      "InvoiceNo      54214 non-null object\n",
      "StockCode      54214 non-null object\n",
      "Description    54080 non-null object\n",
      "Quantity       54214 non-null int64\n",
      "InvoiceDate    54214 non-null datetime64[ns]\n",
      "UnitPrice      54214 non-null float64\n",
      "CustomerID     40643 non-null float64\n",
      "Country        54214 non-null object\n",
      "dtypes: datetime64[ns](1), float64(2), int64(1), object(4)\n",
      "memory usage: 3.3+ MB\n"
     ]
    }
   ],
   "source": [
    "df.info()"
   ]
  },
  {
   "cell_type": "code",
   "execution_count": 5,
   "metadata": {},
   "outputs": [
    {
     "data": {
      "text/html": [
       "<div>\n",
       "<style scoped>\n",
       "    .dataframe tbody tr th:only-of-type {\n",
       "        vertical-align: middle;\n",
       "    }\n",
       "\n",
       "    .dataframe tbody tr th {\n",
       "        vertical-align: top;\n",
       "    }\n",
       "\n",
       "    .dataframe thead th {\n",
       "        text-align: right;\n",
       "    }\n",
       "</style>\n",
       "<table border=\"1\" class=\"dataframe\">\n",
       "  <thead>\n",
       "    <tr style=\"text-align: right;\">\n",
       "      <th></th>\n",
       "      <th>InvoiceNo</th>\n",
       "      <th>StockCode</th>\n",
       "      <th>Description</th>\n",
       "      <th>Quantity</th>\n",
       "      <th>InvoiceDate</th>\n",
       "      <th>UnitPrice</th>\n",
       "      <th>CustomerID</th>\n",
       "      <th>Country</th>\n",
       "    </tr>\n",
       "  </thead>\n",
       "  <tbody>\n",
       "    <tr>\n",
       "      <th>54209</th>\n",
       "      <td>581585</td>\n",
       "      <td>84832</td>\n",
       "      <td>ZINC WILLIE WINKIE  CANDLE STICK</td>\n",
       "      <td>24</td>\n",
       "      <td>2011-12-09 12:31:00</td>\n",
       "      <td>0.85</td>\n",
       "      <td>15804.0</td>\n",
       "      <td>United Kingdom</td>\n",
       "    </tr>\n",
       "    <tr>\n",
       "      <th>54210</th>\n",
       "      <td>581585</td>\n",
       "      <td>23084</td>\n",
       "      <td>RABBIT NIGHT LIGHT</td>\n",
       "      <td>12</td>\n",
       "      <td>2011-12-09 12:31:00</td>\n",
       "      <td>2.08</td>\n",
       "      <td>15804.0</td>\n",
       "      <td>United Kingdom</td>\n",
       "    </tr>\n",
       "    <tr>\n",
       "      <th>54211</th>\n",
       "      <td>581585</td>\n",
       "      <td>84692</td>\n",
       "      <td>BOX OF 24 COCKTAIL PARASOLS</td>\n",
       "      <td>25</td>\n",
       "      <td>2011-12-09 12:31:00</td>\n",
       "      <td>0.42</td>\n",
       "      <td>15804.0</td>\n",
       "      <td>United Kingdom</td>\n",
       "    </tr>\n",
       "    <tr>\n",
       "      <th>54212</th>\n",
       "      <td>581587</td>\n",
       "      <td>22631</td>\n",
       "      <td>CIRCUS PARADE LUNCH BOX</td>\n",
       "      <td>12</td>\n",
       "      <td>2011-12-09 12:50:00</td>\n",
       "      <td>1.95</td>\n",
       "      <td>12680.0</td>\n",
       "      <td>France</td>\n",
       "    </tr>\n",
       "    <tr>\n",
       "      <th>54213</th>\n",
       "      <td>581587</td>\n",
       "      <td>23255</td>\n",
       "      <td>CHILDRENS CUTLERY CIRCUS PARADE</td>\n",
       "      <td>4</td>\n",
       "      <td>2011-12-09 12:50:00</td>\n",
       "      <td>4.15</td>\n",
       "      <td>12680.0</td>\n",
       "      <td>France</td>\n",
       "    </tr>\n",
       "  </tbody>\n",
       "</table>\n",
       "</div>"
      ],
      "text/plain": [
       "      InvoiceNo StockCode                       Description  Quantity  \\\n",
       "54209    581585     84832  ZINC WILLIE WINKIE  CANDLE STICK        24   \n",
       "54210    581585     23084                RABBIT NIGHT LIGHT        12   \n",
       "54211    581585     84692       BOX OF 24 COCKTAIL PARASOLS        25   \n",
       "54212    581587     22631          CIRCUS PARADE LUNCH BOX         12   \n",
       "54213    581587     23255   CHILDRENS CUTLERY CIRCUS PARADE         4   \n",
       "\n",
       "              InvoiceDate  UnitPrice  CustomerID         Country  \n",
       "54209 2011-12-09 12:31:00       0.85     15804.0  United Kingdom  \n",
       "54210 2011-12-09 12:31:00       2.08     15804.0  United Kingdom  \n",
       "54211 2011-12-09 12:31:00       0.42     15804.0  United Kingdom  \n",
       "54212 2011-12-09 12:50:00       1.95     12680.0          France  \n",
       "54213 2011-12-09 12:50:00       4.15     12680.0          France  "
      ]
     },
     "execution_count": 5,
     "metadata": {},
     "output_type": "execute_result"
    }
   ],
   "source": [
    "df.tail()"
   ]
  },
  {
   "cell_type": "code",
   "execution_count": 4,
   "metadata": {},
   "outputs": [],
   "source": [
    "# Удаляю подарки и списания. Подарков очень мало, чтобы они имели какое либо значение в этой выборке\n",
    "df = df[df['Quantity'] >= 1]\n",
    "df = df[df['UnitPrice'] > 0]"
   ]
  },
  {
   "cell_type": "code",
   "execution_count": 15,
   "metadata": {},
   "outputs": [
    {
     "data": {
      "text/html": [
       "<div>\n",
       "<style scoped>\n",
       "    .dataframe tbody tr th:only-of-type {\n",
       "        vertical-align: middle;\n",
       "    }\n",
       "\n",
       "    .dataframe tbody tr th {\n",
       "        vertical-align: top;\n",
       "    }\n",
       "\n",
       "    .dataframe thead th {\n",
       "        text-align: right;\n",
       "    }\n",
       "</style>\n",
       "<table border=\"1\" class=\"dataframe\">\n",
       "  <thead>\n",
       "    <tr style=\"text-align: right;\">\n",
       "      <th></th>\n",
       "      <th>Quantity</th>\n",
       "      <th>UnitPrice</th>\n",
       "      <th>CustomerID</th>\n",
       "    </tr>\n",
       "  </thead>\n",
       "  <tbody>\n",
       "    <tr>\n",
       "      <th>count</th>\n",
       "      <td>53029.000000</td>\n",
       "      <td>53029.000000</td>\n",
       "      <td>39718.000000</td>\n",
       "    </tr>\n",
       "    <tr>\n",
       "      <th>mean</th>\n",
       "      <td>10.421147</td>\n",
       "      <td>3.835168</td>\n",
       "      <td>15290.827937</td>\n",
       "    </tr>\n",
       "    <tr>\n",
       "      <th>std</th>\n",
       "      <td>37.629879</td>\n",
       "      <td>17.814690</td>\n",
       "      <td>1708.117360</td>\n",
       "    </tr>\n",
       "    <tr>\n",
       "      <th>min</th>\n",
       "      <td>1.000000</td>\n",
       "      <td>0.001000</td>\n",
       "      <td>12347.000000</td>\n",
       "    </tr>\n",
       "    <tr>\n",
       "      <th>25%</th>\n",
       "      <td>1.000000</td>\n",
       "      <td>1.250000</td>\n",
       "      <td>13971.000000</td>\n",
       "    </tr>\n",
       "    <tr>\n",
       "      <th>50%</th>\n",
       "      <td>3.000000</td>\n",
       "      <td>2.100000</td>\n",
       "      <td>15159.000000</td>\n",
       "    </tr>\n",
       "    <tr>\n",
       "      <th>75%</th>\n",
       "      <td>11.000000</td>\n",
       "      <td>4.130000</td>\n",
       "      <td>16782.000000</td>\n",
       "    </tr>\n",
       "    <tr>\n",
       "      <th>max</th>\n",
       "      <td>2400.000000</td>\n",
       "      <td>1687.170000</td>\n",
       "      <td>18287.000000</td>\n",
       "    </tr>\n",
       "  </tbody>\n",
       "</table>\n",
       "</div>"
      ],
      "text/plain": [
       "           Quantity     UnitPrice    CustomerID\n",
       "count  53029.000000  53029.000000  39718.000000\n",
       "mean      10.421147      3.835168  15290.827937\n",
       "std       37.629879     17.814690   1708.117360\n",
       "min        1.000000      0.001000  12347.000000\n",
       "25%        1.000000      1.250000  13971.000000\n",
       "50%        3.000000      2.100000  15159.000000\n",
       "75%       11.000000      4.130000  16782.000000\n",
       "max     2400.000000   1687.170000  18287.000000"
      ]
     },
     "execution_count": 15,
     "metadata": {},
     "output_type": "execute_result"
    }
   ],
   "source": [
    "df.describe()"
   ]
  },
  {
   "cell_type": "code",
   "execution_count": 226,
   "metadata": {},
   "outputs": [
    {
     "data": {
      "text/plain": [
       "3792"
      ]
     },
     "execution_count": 226,
     "metadata": {},
     "output_type": "execute_result"
    }
   ],
   "source": [
    "# Количество уникальных пользователей\n",
    "df['CustomerID'].nunique()"
   ]
  },
  {
   "cell_type": "code",
   "execution_count": 211,
   "metadata": {},
   "outputs": [
    {
     "name": "stdout",
     "output_type": "stream",
     "text": [
      "<class 'pandas.core.frame.DataFrame'>\n",
      "Int64Index: 53029 entries, 0 to 54213\n",
      "Data columns (total 11 columns):\n",
      "InvoiceNo      53029 non-null object\n",
      "StockCode      53029 non-null object\n",
      "Description    53029 non-null object\n",
      "Quantity       53029 non-null int64\n",
      "InvoiceDate    53029 non-null object\n",
      "UnitPrice      53029 non-null float64\n",
      "CustomerID     39718 non-null float64\n",
      "Country        53029 non-null object\n",
      "mnth_yr        53029 non-null period[M]\n",
      "weekday        53029 non-null object\n",
      "UnitSum        53029 non-null float64\n",
      "dtypes: float64(3), int64(1), object(6), period[M](1)\n",
      "memory usage: 7.4+ MB\n"
     ]
    }
   ],
   "source": [
    "df.info()"
   ]
  },
  {
   "cell_type": "code",
   "execution_count": 5,
   "metadata": {},
   "outputs": [],
   "source": [
    "# Добавлю колонку месяц-год и день недели для дальнейших расчетов,количество проданных артикулов\n",
    "df['InvoiceDate'] = df['InvoiceDate'].dt.normalize()\n",
    "df['mnth_yr'] = df['InvoiceDate'].dt.to_period('M')\n",
    "df['weekday'] = df['InvoiceDate'].dt.day_name()\n"
   ]
  },
  {
   "cell_type": "code",
   "execution_count": 234,
   "metadata": {},
   "outputs": [
    {
     "data": {
      "text/plain": [
       "array(['Wednesday', 'Thursday', 'Friday', 'Sunday', 'Monday', 'Tuesday'],\n",
       "      dtype=object)"
      ]
     },
     "execution_count": 234,
     "metadata": {},
     "output_type": "execute_result"
    }
   ],
   "source": [
    "# Странно, но одного дня в аналитике не хватает\n",
    "df['weekday'].unique()"
   ]
  },
  {
   "cell_type": "code",
   "execution_count": 6,
   "metadata": {},
   "outputs": [],
   "source": [
    "# Добавлю колонку с итогом за позицию в чеке\n",
    "df['UnitSum'] = df['Quantity']*df['UnitPrice']"
   ]
  },
  {
   "cell_type": "code",
   "execution_count": 35,
   "metadata": {},
   "outputs": [
    {
     "name": "stderr",
     "output_type": "stream",
     "text": [
      "C:\\Users\\Dotsenko.Semen\\AppData\\Local\\Continuum\\anaconda3\\lib\\site-packages\\ipykernel_launcher.py:5: SettingWithCopyWarning: \n",
      "A value is trying to be set on a copy of a slice from a DataFrame.\n",
      "Try using .loc[row_indexer,col_indexer] = value instead\n",
      "\n",
      "See the caveats in the documentation: http://pandas.pydata.org/pandas-docs/stable/indexing.html#indexing-view-versus-copy\n",
      "  \"\"\"\n"
     ]
    }
   ],
   "source": [
    "# Создаем таблицу с продажами по странам\n",
    "import matplotlib.pyplot as plt\n",
    "import pylab\n",
    "countries = df[['Country','UnitSum','Quantity','mnth_yr']]\n",
    "countries['UK'] = countries['Country'].apply(lambda x: 'UK' if x == 'United Kingdom' else 'Other country' )\n",
    "countries = countries.groupby(['UK','mnth_yr'], as_index=False).agg(\n",
    "    \n",
    "    {'UnitSum':pd.Series.sum,\n",
    "     'Quantity':pd.Series.sum\n",
    "    }\n",
    ").sort_values(by=['mnth_yr','UK'])\n"
   ]
  },
  {
   "cell_type": "code",
   "execution_count": 56,
   "metadata": {},
   "outputs": [],
   "source": [
    "import matplotlib.pyplot as plt\n",
    "\n",
    "countries_turnover = countries.pivot(index='mnth_yr',columns='UK',values='UnitSum')\n",
    "countries_turnover.reset_index(inplace=True)\n",
    "\n",
    "countries_sales = countries.pivot(index='mnth_yr',columns='UK',values='Quantity')\n",
    "countries_sales.reset_index(inplace=True)"
   ]
  },
  {
   "cell_type": "code",
   "execution_count": 104,
   "metadata": {},
   "outputs": [
    {
     "data": {
      "image/png": "[encoded data removed]",
      "text/plain": [
       "<Figure size 432x288 with 1 Axes>"
      ]
     },
     "metadata": {
      "needs_background": "light"
     },
     "output_type": "display_data"
    }
   ],
   "source": [
    "a = np.arange(1,13).tolist()\n",
    "month_list = [12]+a\n",
    "r = np.arange(13)\n",
    "names = month_list\n",
    "bar1 =  countries_sales['UK'].tolist()\n",
    "bar2 = countries_sales['Other country'].tolist()\n",
    "plt.bar(r, bar1,  edgecolor='white', width=1, label='UK')\n",
    "plt.bar(r, bar2, bottom=bar1, edgecolor='white', width=1,label='Other country')\n",
    "\n",
    "plt.xticks(r, names, fontweight='bold')\n",
    "plt.xlabel(\"Месяцы\")\n",
    "plt.legend()\n",
    "plt.title('Продажи в штуках')\n",
    "plt.show()\n"
   ]
  },
  {
   "cell_type": "code",
   "execution_count": 105,
   "metadata": {},
   "outputs": [
    {
     "data": {
      "image/png": "[encoded data removed]",
      "text/plain": [
       "<Figure size 432x288 with 1 Axes>"
      ]
     },
     "metadata": {
      "needs_background": "light"
     },
     "output_type": "display_data"
    }
   ],
   "source": [
    "a = np.arange(1,13).tolist()\n",
    "month_list = [12]+a\n",
    "r = np.arange(13)\n",
    "names = month_list\n",
    "bar1 =  countries_turnover['UK'].tolist()\n",
    "bar2 = countries_turnover['Other country'].tolist()\n",
    "plt.bar(r, bar1,  edgecolor='white', width=1, label='UK')\n",
    "plt.bar(r, bar2, bottom=bar1, edgecolor='white', width=1,label='Other country')\n",
    "\n",
    "plt.xticks(r, names, fontweight='bold')\n",
    "plt.xlabel(\"Месяцы\")\n",
    "plt.legend()\n",
    "plt.title('Выручка')\n",
    "plt.show()"
   ]
  },
  {
   "cell_type": "code",
   "execution_count": 215,
   "metadata": {},
   "outputs": [
    {
     "data": {
      "text/html": [
       "<div>\n",
       "<style scoped>\n",
       "    .dataframe tbody tr th:only-of-type {\n",
       "        vertical-align: middle;\n",
       "    }\n",
       "\n",
       "    .dataframe tbody tr th {\n",
       "        vertical-align: top;\n",
       "    }\n",
       "\n",
       "    .dataframe thead th {\n",
       "        text-align: right;\n",
       "    }\n",
       "</style>\n",
       "<table border=\"1\" class=\"dataframe\">\n",
       "  <thead>\n",
       "    <tr style=\"text-align: right;\">\n",
       "      <th></th>\n",
       "      <th>mnth_yr</th>\n",
       "      <th>InvoiceNo</th>\n",
       "      <th>CustomerID</th>\n",
       "      <th>StockCode</th>\n",
       "      <th>Quantity</th>\n",
       "      <th>UnitSum</th>\n",
       "    </tr>\n",
       "  </thead>\n",
       "  <tbody>\n",
       "    <tr>\n",
       "      <th>0</th>\n",
       "      <td>2010-12</td>\n",
       "      <td>1024</td>\n",
       "      <td>685.0</td>\n",
       "      <td>1502</td>\n",
       "      <td>34466</td>\n",
       "      <td>79513.230</td>\n",
       "    </tr>\n",
       "    <tr>\n",
       "      <th>1</th>\n",
       "      <td>2011-01</td>\n",
       "      <td>776</td>\n",
       "      <td>572.0</td>\n",
       "      <td>1428</td>\n",
       "      <td>32069</td>\n",
       "      <td>66024.230</td>\n",
       "    </tr>\n",
       "    <tr>\n",
       "      <th>2</th>\n",
       "      <td>2011-02</td>\n",
       "      <td>769</td>\n",
       "      <td>581.0</td>\n",
       "      <td>1202</td>\n",
       "      <td>30330</td>\n",
       "      <td>50651.980</td>\n",
       "    </tr>\n",
       "    <tr>\n",
       "      <th>3</th>\n",
       "      <td>2011-03</td>\n",
       "      <td>1015</td>\n",
       "      <td>748.0</td>\n",
       "      <td>1347</td>\n",
       "      <td>38172</td>\n",
       "      <td>77141.400</td>\n",
       "    </tr>\n",
       "    <tr>\n",
       "      <th>4</th>\n",
       "      <td>2011-04</td>\n",
       "      <td>867</td>\n",
       "      <td>672.0</td>\n",
       "      <td>1226</td>\n",
       "      <td>28831</td>\n",
       "      <td>51989.050</td>\n",
       "    </tr>\n",
       "    <tr>\n",
       "      <th>5</th>\n",
       "      <td>2011-05</td>\n",
       "      <td>1128</td>\n",
       "      <td>826.0</td>\n",
       "      <td>1264</td>\n",
       "      <td>37749</td>\n",
       "      <td>77554.720</td>\n",
       "    </tr>\n",
       "    <tr>\n",
       "      <th>6</th>\n",
       "      <td>2011-06</td>\n",
       "      <td>1051</td>\n",
       "      <td>762.0</td>\n",
       "      <td>1379</td>\n",
       "      <td>40519</td>\n",
       "      <td>77615.360</td>\n",
       "    </tr>\n",
       "    <tr>\n",
       "      <th>7</th>\n",
       "      <td>2011-07</td>\n",
       "      <td>1021</td>\n",
       "      <td>738.0</td>\n",
       "      <td>1484</td>\n",
       "      <td>40656</td>\n",
       "      <td>76444.330</td>\n",
       "    </tr>\n",
       "    <tr>\n",
       "      <th>8</th>\n",
       "      <td>2011-08</td>\n",
       "      <td>938</td>\n",
       "      <td>719.0</td>\n",
       "      <td>1395</td>\n",
       "      <td>44928</td>\n",
       "      <td>77937.610</td>\n",
       "    </tr>\n",
       "    <tr>\n",
       "      <th>9</th>\n",
       "      <td>2011-09</td>\n",
       "      <td>1349</td>\n",
       "      <td>1029.0</td>\n",
       "      <td>1620</td>\n",
       "      <td>57179</td>\n",
       "      <td>101598.511</td>\n",
       "    </tr>\n",
       "    <tr>\n",
       "      <th>10</th>\n",
       "      <td>2011-10</td>\n",
       "      <td>1451</td>\n",
       "      <td>1111.0</td>\n",
       "      <td>1719</td>\n",
       "      <td>60102</td>\n",
       "      <td>110349.450</td>\n",
       "    </tr>\n",
       "    <tr>\n",
       "      <th>11</th>\n",
       "      <td>2011-11</td>\n",
       "      <td>1984</td>\n",
       "      <td>1360.0</td>\n",
       "      <td>1935</td>\n",
       "      <td>81970</td>\n",
       "      <td>159681.920</td>\n",
       "    </tr>\n",
       "    <tr>\n",
       "      <th>12</th>\n",
       "      <td>2011-12</td>\n",
       "      <td>561</td>\n",
       "      <td>475.0</td>\n",
       "      <td>1210</td>\n",
       "      <td>25652</td>\n",
       "      <td>49666.200</td>\n",
       "    </tr>\n",
       "  </tbody>\n",
       "</table>\n",
       "</div>"
      ],
      "text/plain": [
       "    mnth_yr  InvoiceNo  CustomerID  StockCode  Quantity     UnitSum\n",
       "0   2010-12       1024       685.0       1502     34466   79513.230\n",
       "1   2011-01        776       572.0       1428     32069   66024.230\n",
       "2   2011-02        769       581.0       1202     30330   50651.980\n",
       "3   2011-03       1015       748.0       1347     38172   77141.400\n",
       "4   2011-04        867       672.0       1226     28831   51989.050\n",
       "5   2011-05       1128       826.0       1264     37749   77554.720\n",
       "6   2011-06       1051       762.0       1379     40519   77615.360\n",
       "7   2011-07       1021       738.0       1484     40656   76444.330\n",
       "8   2011-08        938       719.0       1395     44928   77937.610\n",
       "9   2011-09       1349      1029.0       1620     57179  101598.511\n",
       "10  2011-10       1451      1111.0       1719     60102  110349.450\n",
       "11  2011-11       1984      1360.0       1935     81970  159681.920\n",
       "12  2011-12        561       475.0       1210     25652   49666.200"
      ]
     },
     "execution_count": 215,
     "metadata": {},
     "output_type": "execute_result"
    }
   ],
   "source": [
    "# Количество чеков и активных покупателей,количество проданных артикулов,продажи в штуках и в деньгах помесячно\n",
    "\n",
    "df[['mnth_yr','InvoiceNo','CustomerID','StockCode','Quantity','UnitSum']].groupby('mnth_yr',as_index=False).agg(\n",
    "    {\n",
    "        'InvoiceNo':pd.Series.nunique, \n",
    "        'CustomerID':pd.Series.nunique,\n",
    "        'StockCode':pd.Series.nunique,\n",
    "        'Quantity':pd.Series.sum,\n",
    "        'UnitSum':pd.Series.sum\n",
    "    }\n",
    ")"
   ]
  },
  {
   "cell_type": "code",
   "execution_count": 199,
   "metadata": {},
   "outputs": [
    {
     "data": {
      "text/html": [
       "<div>\n",
       "<style scoped>\n",
       "    .dataframe tbody tr th:only-of-type {\n",
       "        vertical-align: middle;\n",
       "    }\n",
       "\n",
       "    .dataframe tbody tr th {\n",
       "        vertical-align: top;\n",
       "    }\n",
       "\n",
       "    .dataframe thead th {\n",
       "        text-align: right;\n",
       "    }\n",
       "</style>\n",
       "<table border=\"1\" class=\"dataframe\">\n",
       "  <thead>\n",
       "    <tr style=\"text-align: right;\">\n",
       "      <th></th>\n",
       "      <th>weekday</th>\n",
       "      <th>InvoiceNo</th>\n",
       "      <th>CustomerID</th>\n",
       "      <th>StockCode</th>\n",
       "      <th>Quantity</th>\n",
       "      <th>UnitSum</th>\n",
       "    </tr>\n",
       "  </thead>\n",
       "  <tbody>\n",
       "    <tr>\n",
       "      <th>0</th>\n",
       "      <td>Friday</td>\n",
       "      <td>2119</td>\n",
       "      <td>1221.0</td>\n",
       "      <td>2225</td>\n",
       "      <td>83989</td>\n",
       "      <td>165818.750</td>\n",
       "    </tr>\n",
       "    <tr>\n",
       "      <th>1</th>\n",
       "      <td>Monday</td>\n",
       "      <td>2209</td>\n",
       "      <td>1285.0</td>\n",
       "      <td>2421</td>\n",
       "      <td>87232</td>\n",
       "      <td>177969.531</td>\n",
       "    </tr>\n",
       "    <tr>\n",
       "      <th>2</th>\n",
       "      <td>Sunday</td>\n",
       "      <td>1693</td>\n",
       "      <td>1017.0</td>\n",
       "      <td>1989</td>\n",
       "      <td>47178</td>\n",
       "      <td>82242.700</td>\n",
       "    </tr>\n",
       "    <tr>\n",
       "      <th>3</th>\n",
       "      <td>Thursday</td>\n",
       "      <td>2924</td>\n",
       "      <td>1607.0</td>\n",
       "      <td>2391</td>\n",
       "      <td>124669</td>\n",
       "      <td>231764.300</td>\n",
       "    </tr>\n",
       "    <tr>\n",
       "      <th>4</th>\n",
       "      <td>Tuesday</td>\n",
       "      <td>2470</td>\n",
       "      <td>1353.0</td>\n",
       "      <td>2387</td>\n",
       "      <td>99263</td>\n",
       "      <td>201187.590</td>\n",
       "    </tr>\n",
       "    <tr>\n",
       "      <th>5</th>\n",
       "      <td>Wednesday</td>\n",
       "      <td>2519</td>\n",
       "      <td>1408.0</td>\n",
       "      <td>2389</td>\n",
       "      <td>110292</td>\n",
       "      <td>197185.120</td>\n",
       "    </tr>\n",
       "  </tbody>\n",
       "</table>\n",
       "</div>"
      ],
      "text/plain": [
       "     weekday  InvoiceNo  CustomerID  StockCode  Quantity     UnitSum\n",
       "0     Friday       2119      1221.0       2225     83989  165818.750\n",
       "1     Monday       2209      1285.0       2421     87232  177969.531\n",
       "2     Sunday       1693      1017.0       1989     47178   82242.700\n",
       "3   Thursday       2924      1607.0       2391    124669  231764.300\n",
       "4    Tuesday       2470      1353.0       2387     99263  201187.590\n",
       "5  Wednesday       2519      1408.0       2389    110292  197185.120"
      ]
     },
     "execution_count": 199,
     "metadata": {},
     "output_type": "execute_result"
    }
   ],
   "source": [
    "# Количество чеков и активных покупателей (MAU),количество проданных артикулов,продажи в штуках и в деньгах по дням недели\n",
    "\n",
    "weekday = df[['weekday','InvoiceNo','CustomerID','StockCode','Quantity','UnitSum']].groupby('weekday',as_index=False).agg(\n",
    "    {\n",
    "        'InvoiceNo':pd.Series.nunique, \n",
    "        'CustomerID':pd.Series.nunique,\n",
    "        'StockCode':pd.Series.nunique,\n",
    "        'Quantity':pd.Series.sum,\n",
    "        'UnitSum':pd.Series.sum\n",
    "    }\n",
    ")\n",
    "\n",
    "weekday"
   ]
  },
  {
   "cell_type": "code",
   "execution_count": null,
   "metadata": {},
   "outputs": [],
   "source": []
  },
  {
   "cell_type": "code",
   "execution_count": 77,
   "metadata": {},
   "outputs": [
    {
     "data": {
      "text/plain": [
       "1      1530\n",
       "2       733\n",
       "3       447\n",
       "4       316\n",
       "5       208\n",
       "6       124\n",
       "7        98\n",
       "8        60\n",
       "9        60\n",
       "10       39\n",
       "11       26\n",
       "13       21\n",
       "15       19\n",
       "12       19\n",
       "14       15\n",
       "17       12\n",
       "23        7\n",
       "16        7\n",
       "20        7\n",
       "18        6\n",
       "22        6\n",
       "19        5\n",
       "26        3\n",
       "21        3\n",
       "24        3\n",
       "28        3\n",
       "39        2\n",
       "165       1\n",
       "30        1\n",
       "32        1\n",
       "46        1\n",
       "62        1\n",
       "76        1\n",
       "117       1\n",
       "27        1\n",
       "29        1\n",
       "31        1\n",
       "41        1\n",
       "81        1\n",
       "126       1\n",
       "Name: InvoiceNo, dtype: int64"
      ]
     },
     "execution_count": 77,
     "metadata": {},
     "output_type": "execute_result"
    }
   ],
   "source": [
    "# Доля покупателей с повторными покупками\n",
    "purchase_number = df[['InvoiceNo','CustomerID']].groupby('CustomerID').agg({'InvoiceNo':pd.Series.nunique})\n",
    "purchase_number.InvoiceNo.value_counts()"
   ]
  },
  {
   "cell_type": "code",
   "execution_count": 221,
   "metadata": {},
   "outputs": [],
   "source": [
    "# Анализируем клиентов по когортам\n",
    "\n",
    "# Формируем таблицу orders с датой заказа, ID клиента и суммой чека\n",
    "\n",
    "orders = df[['UnitSum','InvoiceNo']]\n",
    "orders = orders.groupby('InvoiceNo', as_index=False).agg({'UnitSum':pd.Series.sum})\n",
    "orders = orders.merge(df[['InvoiceNo','CustomerID','InvoiceDate']], on='InvoiceNo',how='left').drop_duplicates('InvoiceNo')"
   ]
  },
  {
   "cell_type": "code",
   "execution_count": 220,
   "metadata": {},
   "outputs": [
    {
     "data": {
      "text/html": [
       "<div>\n",
       "<style scoped>\n",
       "    .dataframe tbody tr th:only-of-type {\n",
       "        vertical-align: middle;\n",
       "    }\n",
       "\n",
       "    .dataframe tbody tr th {\n",
       "        vertical-align: top;\n",
       "    }\n",
       "\n",
       "    .dataframe thead th {\n",
       "        text-align: right;\n",
       "    }\n",
       "</style>\n",
       "<table border=\"1\" class=\"dataframe\">\n",
       "  <thead>\n",
       "    <tr style=\"text-align: right;\">\n",
       "      <th></th>\n",
       "      <th>InvoiceNo</th>\n",
       "      <th>UnitSum</th>\n",
       "      <th>CustomerID</th>\n",
       "      <th>InvoiceDate</th>\n",
       "    </tr>\n",
       "  </thead>\n",
       "  <tbody>\n",
       "    <tr>\n",
       "      <th>53024</th>\n",
       "      <td>581585</td>\n",
       "      <td>60.54</td>\n",
       "      <td>15804.0</td>\n",
       "      <td>2011-12-09</td>\n",
       "    </tr>\n",
       "    <tr>\n",
       "      <th>53025</th>\n",
       "      <td>581585</td>\n",
       "      <td>60.54</td>\n",
       "      <td>15804.0</td>\n",
       "      <td>2011-12-09</td>\n",
       "    </tr>\n",
       "    <tr>\n",
       "      <th>53026</th>\n",
       "      <td>581585</td>\n",
       "      <td>60.54</td>\n",
       "      <td>15804.0</td>\n",
       "      <td>2011-12-09</td>\n",
       "    </tr>\n",
       "    <tr>\n",
       "      <th>53027</th>\n",
       "      <td>581587</td>\n",
       "      <td>40.00</td>\n",
       "      <td>12680.0</td>\n",
       "      <td>2011-12-09</td>\n",
       "    </tr>\n",
       "    <tr>\n",
       "      <th>53028</th>\n",
       "      <td>581587</td>\n",
       "      <td>40.00</td>\n",
       "      <td>12680.0</td>\n",
       "      <td>2011-12-09</td>\n",
       "    </tr>\n",
       "  </tbody>\n",
       "</table>\n",
       "</div>"
      ],
      "text/plain": [
       "      InvoiceNo  UnitSum  CustomerID InvoiceDate\n",
       "53024    581585    60.54     15804.0  2011-12-09\n",
       "53025    581585    60.54     15804.0  2011-12-09\n",
       "53026    581585    60.54     15804.0  2011-12-09\n",
       "53027    581587    40.00     12680.0  2011-12-09\n",
       "53028    581587    40.00     12680.0  2011-12-09"
      ]
     },
     "execution_count": 220,
     "metadata": {},
     "output_type": "execute_result"
    }
   ],
   "source": [
    "orders.tail()"
   ]
  },
  {
   "cell_type": "code",
   "execution_count": 145,
   "metadata": {},
   "outputs": [
    {
     "name": "stdout",
     "output_type": "stream",
     "text": [
      "<class 'pandas.core.frame.DataFrame'>\n",
      "Int64Index: 13934 entries, 0 to 53027\n",
      "Data columns (total 4 columns):\n",
      "InvoiceNo      13934 non-null object\n",
      "UnitSum        13934 non-null float64\n",
      "CustomerID     12953 non-null float64\n",
      "InvoiceDate    13934 non-null datetime64[ns]\n",
      "dtypes: datetime64[ns](1), float64(2), object(1)\n",
      "memory usage: 544.3+ KB\n"
     ]
    }
   ],
   "source": [
    "orders.info()"
   ]
  },
  {
   "cell_type": "code",
   "execution_count": 151,
   "metadata": {},
   "outputs": [
    {
     "data": {
      "text/html": [
       "<div>\n",
       "<style scoped>\n",
       "    .dataframe tbody tr th:only-of-type {\n",
       "        vertical-align: middle;\n",
       "    }\n",
       "\n",
       "    .dataframe tbody tr th {\n",
       "        vertical-align: top;\n",
       "    }\n",
       "\n",
       "    .dataframe thead th {\n",
       "        text-align: right;\n",
       "    }\n",
       "</style>\n",
       "<table border=\"1\" class=\"dataframe\">\n",
       "  <thead>\n",
       "    <tr style=\"text-align: right;\">\n",
       "      <th></th>\n",
       "      <th>CustomerID</th>\n",
       "      <th>First_receipt_date</th>\n",
       "    </tr>\n",
       "  </thead>\n",
       "  <tbody>\n",
       "    <tr>\n",
       "      <th>3787</th>\n",
       "      <td>18278.0</td>\n",
       "      <td>2011-09-27 11:58:00</td>\n",
       "    </tr>\n",
       "    <tr>\n",
       "      <th>3788</th>\n",
       "      <td>18281.0</td>\n",
       "      <td>2011-06-12 10:53:00</td>\n",
       "    </tr>\n",
       "    <tr>\n",
       "      <th>3789</th>\n",
       "      <td>18282.0</td>\n",
       "      <td>2011-08-05 13:35:00</td>\n",
       "    </tr>\n",
       "    <tr>\n",
       "      <th>3790</th>\n",
       "      <td>18283.0</td>\n",
       "      <td>2011-01-06 14:14:00</td>\n",
       "    </tr>\n",
       "    <tr>\n",
       "      <th>3791</th>\n",
       "      <td>18287.0</td>\n",
       "      <td>2011-05-22 10:39:00</td>\n",
       "    </tr>\n",
       "  </tbody>\n",
       "</table>\n",
       "</div>"
      ],
      "text/plain": [
       "      CustomerID  First_receipt_date\n",
       "3787     18278.0 2011-09-27 11:58:00\n",
       "3788     18281.0 2011-06-12 10:53:00\n",
       "3789     18282.0 2011-08-05 13:35:00\n",
       "3790     18283.0 2011-01-06 14:14:00\n",
       "3791     18287.0 2011-05-22 10:39:00"
      ]
     },
     "execution_count": 151,
     "metadata": {},
     "output_type": "execute_result"
    }
   ],
   "source": [
    "# Нам нужно получить таблицу Clients с датой прихода клиента\n",
    "clients = orders.groupby('CustomerID', as_index=False).agg({'InvoiceDate' : 'min' })\n",
    "clients.columns = ['CustomerID', 'First_receipt_date']\n",
    "clients.tail()"
   ]
  },
  {
   "cell_type": "code",
   "execution_count": 163,
   "metadata": {},
   "outputs": [
    {
     "data": {
      "text/html": [
       "<div>\n",
       "<style scoped>\n",
       "    .dataframe tbody tr th:only-of-type {\n",
       "        vertical-align: middle;\n",
       "    }\n",
       "\n",
       "    .dataframe tbody tr th {\n",
       "        vertical-align: top;\n",
       "    }\n",
       "\n",
       "    .dataframe thead th {\n",
       "        text-align: right;\n",
       "    }\n",
       "</style>\n",
       "<table border=\"1\" class=\"dataframe\">\n",
       "  <thead>\n",
       "    <tr style=\"text-align: right;\">\n",
       "      <th></th>\n",
       "      <th>CustomerID</th>\n",
       "      <th>UnitSum</th>\n",
       "      <th>InvoiceDate</th>\n",
       "      <th>First_receipt_date</th>\n",
       "    </tr>\n",
       "  </thead>\n",
       "  <tbody>\n",
       "    <tr>\n",
       "      <th>13929</th>\n",
       "      <td>17581.0</td>\n",
       "      <td>66.90</td>\n",
       "      <td>2011-12</td>\n",
       "      <td>2010-12</td>\n",
       "    </tr>\n",
       "    <tr>\n",
       "      <th>13930</th>\n",
       "      <td>12748.0</td>\n",
       "      <td>22.63</td>\n",
       "      <td>2011-12</td>\n",
       "      <td>2010-12</td>\n",
       "    </tr>\n",
       "    <tr>\n",
       "      <th>13931</th>\n",
       "      <td>17581.0</td>\n",
       "      <td>17.34</td>\n",
       "      <td>2011-12</td>\n",
       "      <td>2010-12</td>\n",
       "    </tr>\n",
       "    <tr>\n",
       "      <th>13932</th>\n",
       "      <td>15804.0</td>\n",
       "      <td>60.54</td>\n",
       "      <td>2011-12</td>\n",
       "      <td>2011-05</td>\n",
       "    </tr>\n",
       "    <tr>\n",
       "      <th>13933</th>\n",
       "      <td>12680.0</td>\n",
       "      <td>40.00</td>\n",
       "      <td>2011-12</td>\n",
       "      <td>2011-08</td>\n",
       "    </tr>\n",
       "  </tbody>\n",
       "</table>\n",
       "</div>"
      ],
      "text/plain": [
       "       CustomerID  UnitSum InvoiceDate First_receipt_date\n",
       "13929     17581.0    66.90     2011-12            2010-12\n",
       "13930     12748.0    22.63     2011-12            2010-12\n",
       "13931     17581.0    17.34     2011-12            2010-12\n",
       "13932     15804.0    60.54     2011-12            2011-05\n",
       "13933     12680.0    40.00     2011-12            2011-08"
      ]
     },
     "execution_count": 163,
     "metadata": {},
     "output_type": "execute_result"
    }
   ],
   "source": [
    "# Объединяем таблицы Orders и Clients и округляем даты\n",
    "Mix = pd.merge(orders[['CustomerID','UnitSum','InvoiceDate']], clients, how='left', on=['CustomerID'])\n",
    "Mix['InvoiceDate'] = Mix['InvoiceDate'].dt.to_period('M')\n",
    "Mix['First_receipt_date'] = Mix['First_receipt_date'].dt.to_period('M')\n",
    "Mix.tail()"
   ]
  },
  {
   "cell_type": "code",
   "execution_count": null,
   "metadata": {},
   "outputs": [],
   "source": []
  },
  {
   "cell_type": "code",
   "execution_count": 200,
   "metadata": {},
   "outputs": [
    {
     "name": "stderr",
     "output_type": "stream",
     "text": [
      "C:\\Users\\Dotsenko.Semen\\AppData\\Local\\Continuum\\anaconda3\\lib\\site-packages\\pandas\\core\\groupby\\generic.py:1315: FutureWarning: using a dict with renaming is deprecated and will be removed in a future version\n",
      "  return super(DataFrameGroupBy, self).aggregate(arg, *args, **kwargs)\n"
     ]
    },
    {
     "data": {
      "text/html": [
       "<div>\n",
       "<style scoped>\n",
       "    .dataframe tbody tr th:only-of-type {\n",
       "        vertical-align: middle;\n",
       "    }\n",
       "\n",
       "    .dataframe tbody tr th {\n",
       "        vertical-align: top;\n",
       "    }\n",
       "\n",
       "    .dataframe thead th {\n",
       "        text-align: right;\n",
       "    }\n",
       "</style>\n",
       "<table border=\"1\" class=\"dataframe\">\n",
       "  <thead>\n",
       "    <tr style=\"text-align: right;\">\n",
       "      <th></th>\n",
       "      <th>clientID</th>\n",
       "      <th>InvoiceDate</th>\n",
       "      <th>First_receipt_date</th>\n",
       "      <th>total</th>\n",
       "      <th>ordersCount</th>\n",
       "    </tr>\n",
       "  </thead>\n",
       "  <tbody>\n",
       "    <tr>\n",
       "      <th>10273</th>\n",
       "      <td>18283.0</td>\n",
       "      <td>2011-10</td>\n",
       "      <td>2011-01</td>\n",
       "      <td>16.87</td>\n",
       "      <td>1</td>\n",
       "    </tr>\n",
       "    <tr>\n",
       "      <th>10274</th>\n",
       "      <td>18283.0</td>\n",
       "      <td>2011-11</td>\n",
       "      <td>2011-01</td>\n",
       "      <td>83.82</td>\n",
       "      <td>3</td>\n",
       "    </tr>\n",
       "    <tr>\n",
       "      <th>10275</th>\n",
       "      <td>18283.0</td>\n",
       "      <td>2011-12</td>\n",
       "      <td>2011-01</td>\n",
       "      <td>7.02</td>\n",
       "      <td>1</td>\n",
       "    </tr>\n",
       "    <tr>\n",
       "      <th>10276</th>\n",
       "      <td>18287.0</td>\n",
       "      <td>2011-05</td>\n",
       "      <td>2011-05</td>\n",
       "      <td>115.20</td>\n",
       "      <td>1</td>\n",
       "    </tr>\n",
       "    <tr>\n",
       "      <th>10277</th>\n",
       "      <td>18287.0</td>\n",
       "      <td>2011-10</td>\n",
       "      <td>2011-05</td>\n",
       "      <td>43.68</td>\n",
       "      <td>1</td>\n",
       "    </tr>\n",
       "  </tbody>\n",
       "</table>\n",
       "</div>"
      ],
      "text/plain": [
       "       clientID InvoiceDate First_receipt_date   total  ordersCount\n",
       "10273   18283.0     2011-10            2011-01   16.87            1\n",
       "10274   18283.0     2011-11            2011-01   83.82            3\n",
       "10275   18283.0     2011-12            2011-01    7.02            1\n",
       "10276   18287.0     2011-05            2011-05  115.20            1\n",
       "10277   18287.0     2011-10            2011-05   43.68            1"
      ]
     },
     "execution_count": 200,
     "metadata": {},
     "output_type": "execute_result"
    }
   ],
   "source": [
    "# Находим число зказов и сумму по заказам, которые клиент сделал в этот временной промежуток\n",
    "Preresult = Mix.groupby(['CustomerID', 'InvoiceDate', 'First_receipt_date'], as_index=False)\n",
    "Preresult = Preresult.agg({ 'UnitSum': { 'total': 'sum', 'ordersCount': 'count' } })\n",
    "Preresult.columns = Preresult.columns.droplevel()\n",
    "Preresult.columns = ['clientID', 'InvoiceDate', 'First_receipt_date', 'total', 'ordersCount']\n",
    "Preresult.to_excel(r'C:\\Users\\Dotsenko.Semen\\Downloads\\for_data.xlsx')\n",
    "Preresult.tail()\n"
   ]
  },
  {
   "cell_type": "code",
   "execution_count": null,
   "metadata": {},
   "outputs": [],
   "source": [
    "# Топ проданных артикулов помесячно и всего\n"
   ]
  },
  {
   "cell_type": "code",
   "execution_count": null,
   "metadata": {},
   "outputs": [],
   "source": [
    "# Число позиций в чеке"
   ]
  },
  {
   "cell_type": "code",
   "execution_count": null,
   "metadata": {},
   "outputs": [],
   "source": [
    "# Средняя стоимость позиции в чеке"
   ]
  },
  {
   "cell_type": "code",
   "execution_count": null,
   "metadata": {},
   "outputs": [],
   "source": [
    "# Количество чеков помесячноё"
   ]
  }
 ],
 "metadata": {
  "kernelspec": {
   "display_name": "Python 3",
   "language": "python",
   "name": "python3"
  },
  "language_info": {
   "codemirror_mode": {
    "name": "ipython",
    "version": 3
   },
   "file_extension": ".py",
   "mimetype": "text/x-python",
   "name": "python",
   "nbconvert_exporter": "python",
   "pygments_lexer": "ipython3",
   "version": "3.7.0"
  }
 },
 "nbformat": 4,
 "nbformat_minor": 2
}
