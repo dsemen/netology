{
 "cells": [
  {
   "cell_type": "code",
   "execution_count": 2,
   "metadata": {},
   "outputs": [],
   "source": [
    "\"\"\"Дан список с визитами по городам и странам. Напишите код, который возвращает отфильтрованный \n",
    "список geo_logs, содержащий только визиты из России. Считайте, что список geo_logs\n",
    "легко помещается в оперативной памяти.\"\"\"\n",
    "geo_logs = [\n",
    "\n",
    "['visit1', ['Москва', 'Россия']],\n",
    "\n",
    "['visit2', ['Дели', 'Индия']],\n",
    "\n",
    "['visit3', ['Владимир', 'Россия']],\n",
    "\n",
    "['visit4', ['Лиссабон', 'Португалия']],\n",
    "\n",
    "['visit5', ['Париж', 'Франция']],\n",
    "\n",
    "['visit6', ['Лиссабон', 'Португалия']],\n",
    "\n",
    "['visit7', ['Тула', 'Россия']],\n",
    "\n",
    "['visit8', ['Тула', 'Россия']],\n",
    "\n",
    "['visit9', ['Курск', 'Россия']],\n",
    "\n",
    "['visit10', ['Архангельск', 'Россия']],\n",
    "\n",
    "]\n"
   ]
  },
  {
   "cell_type": "code",
   "execution_count": 70,
   "metadata": {},
   "outputs": [
    {
     "data": {
      "text/plain": [
       "[['visit1', ['Москва', 'Россия']],\n",
       " ['visit10', ['Архангельск', 'Россия']],\n",
       " ['visit3', ['Владимир', 'Россия']],\n",
       " ['visit7', ['Тула', 'Россия']],\n",
       " ['visit8', ['Тула', 'Россия']],\n",
       " ['visit9', ['Курск', 'Россия']]]"
      ]
     },
     "execution_count": 70,
     "metadata": {},
     "output_type": "execute_result"
    }
   ],
   "source": [
    "[list(l) for l in geo_logs if l[1][1]=='Россия']\n"
   ]
  },
  {
   "cell_type": "code",
   "execution_count": 79,
   "metadata": {},
   "outputs": [],
   "source": [
    "\"\"\"Выведите на экран все уникальные гео-ID из значений словаря ids. \n",
    "Т. е. список вида [213, 15, 54, 119, 98, 35]\"\"\"\n",
    "ids = {'user1': [213, 213, 213, 15, 213], 'user2': [54, 54, 119, 119, 119], 'user3': [213, 98, 98, 35]}\n"
   ]
  },
  {
   "cell_type": "code",
   "execution_count": 162,
   "metadata": {},
   "outputs": [
    {
     "data": {
      "text/plain": [
       "[98, 35, 15, 213, 54, 119]"
      ]
     },
     "execution_count": 162,
     "metadata": {},
     "output_type": "execute_result"
    }
   ],
   "source": [
    "from itertools import chain\n",
    "list(set(chain.from_iterable(ids.values())))\n",
    "     "
   ]
  },
  {
   "cell_type": "code",
   "execution_count": 2,
   "metadata": {},
   "outputs": [],
   "source": [
    "\"\"\"Список поисковых запросов. Получить распределение количества слов в них. \n",
    "Т. е. поисковых запросов из одного слова 5%, из двух - 7%, из трех - 3% итд.\"\"\"\n",
    "queries = [\n",
    "\n",
    "'смотреть сериалы онлайн',\n",
    "\n",
    "'новости спорта',\n",
    "\n",
    "'афиша кино',\n",
    "\n",
    "'курс доллара',\n",
    "\n",
    "'сериалы этим летом',\n",
    "\n",
    "'курс по питону',\n",
    "\n",
    "'сериалы про спорт',\n",
    "\n",
    "]"
   ]
  },
  {
   "cell_type": "code",
   "execution_count": 44,
   "metadata": {},
   "outputs": [
    {
     "name": "stdout",
     "output_type": "stream",
     "text": [
      "Поисковые запросы из 2 слов доля: 43%\n",
      "Поисковые запросы из 3 слов доля: 57%\n"
     ]
    }
   ],
   "source": [
    "x=[len(x.split())for x in queries]# создаем список вместо запросов количество слов в запросе\n",
    "num=sorted(x)\n",
    "max=num[-1]\n",
    "min=num[0]\n",
    "from collections import Counter\n",
    "c = Counter(num)# так мы можем посчитать сколько запросов на каждое количество слов\n",
    "# перечисляем доли запросов по количеству слов от самого короткого запроса до самого длиннного с шагом 1 слово\n",
    "while True:\n",
    "    print ('Поисковые запросы из {:.0f} слов доля: {:.0%}'.format(min,c[min]/len(queries)))\n",
    "    min+=1\n",
    "    if min > max:\n",
    "        break\n"
   ]
  },
  {
   "cell_type": "code",
   "execution_count": null,
   "metadata": {},
   "outputs": [],
   "source": []
  }
 ],
 "metadata": {
  "kernelspec": {
   "display_name": "Python 3",
   "language": "python",
   "name": "python3"
  },
  "language_info": {
   "codemirror_mode": {
    "name": "ipython",
    "version": 3
   },
   "file_extension": ".py",
   "mimetype": "text/x-python",
   "name": "python",
   "nbconvert_exporter": "python",
   "pygments_lexer": "ipython3",
   "version": "3.7.0"
  }
 },
 "nbformat": 4,
 "nbformat_minor": 2
}
