{
 "cells": [
  {
   "cell_type": "code",
   "execution_count": 1,
   "metadata": {},
   "outputs": [
    {
     "data": {
      "text/plain": [
       "True"
      ]
     },
     "execution_count": 1,
     "metadata": {},
     "output_type": "execute_result"
    }
   ],
   "source": [
    "\"\"\"Даны 2 строки long_phrase и short_phrase. \n",
    "Напишите код, который проверяет действительно ли длинная фраза long_phrase \n",
    "длиннее короткой short_phrase. \n",
    "И выводит True или False в зависимости от результата сравнения.\"\"\"\n",
    "\n",
    "long_phrase = 'Насколько проще было бы писать программы, если бы не заказчики'\n",
    "short_phrase = '640Кб должно хватить для любых задач. Билл Гейтс (по легенде)'\n",
    "long_phrase > short_phrase"
   ]
  },
  {
   "cell_type": "code",
   "execution_count": 14,
   "metadata": {},
   "outputs": [
    {
     "data": {
      "text/plain": [
       "True"
      ]
     },
     "execution_count": 14,
     "metadata": {},
     "output_type": "execute_result"
    }
   ],
   "source": [
    "\"\"\"Дана строка text. Определите какая из двух букв встречается в нем чаще \n",
    "- 'а' или 'и'.\"\"\"\n",
    "text = 'Если программист в 9-00 утра на работе, значит, он там и ночевал'\n",
    "text.count('а') > text.count('и')"
   ]
  },
  {
   "cell_type": "code",
   "execution_count": 16,
   "metadata": {},
   "outputs": [
    {
     "data": {
      "text/plain": [
       "'Объем файла равен 213.68'"
      ]
     },
     "execution_count": 16,
     "metadata": {},
     "output_type": "execute_result"
    }
   ],
   "source": [
    "\"\"\"Дано значение объема файла в байтах. Напишите перевод этого значения в мегабайты \n",
    "в формате:'Объем файла равен 213.68Mb'\"\"\"\n",
    "n=213680000\n",
    "mbyte=n/1000000\n",
    "'Объем файла равен {}'.format(mbyte)\n",
    "\n"
   ]
  },
  {
   "cell_type": "code",
   "execution_count": 27,
   "metadata": {},
   "outputs": [
    {
     "data": {
      "text/plain": [
       "'Синус 30 градусов = 0.5'"
      ]
     },
     "execution_count": 27,
     "metadata": {},
     "output_type": "execute_result"
    }
   ],
   "source": [
    "\"\"\"Выведите на экран значение синуса 30 градусов с помощью метода math.sin.\"\"\"\n",
    "import math\n",
    "'Синус 30 градусов = {:.1}'.format(math.sin(math.radians(30)))\n"
   ]
  },
  {
   "cell_type": "code",
   "execution_count": null,
   "metadata": {},
   "outputs": [],
   "source": [
    "\"\"\"В прошлом задании у вас скорее всего не получилось точного значения 0.5 \n",
    "из-за конечной точности вычисления синуса. Но почему некоторые простые операции \n",
    "также могут давать неточный результат? Попробуйте вывести на экран результат операции 0.1 + 0.2\"\"\""
   ]
  },
  {
   "cell_type": "code",
   "execution_count": 38,
   "metadata": {
    "scrolled": true
   },
   "outputs": [
    {
     "data": {
      "text/plain": [
       "0.30000000000000004"
      ]
     },
     "execution_count": 38,
     "metadata": {},
     "output_type": "execute_result"
    }
   ],
   "source": [
    "0.1+0.2\n",
    "# выдает ответ 0.30000000000000004 это происходит из за того что числа с плавающей десятичной точкой, только приближенно равны бинарным дробным числам. "
   ]
  },
  {
   "cell_type": "code",
   "execution_count": 41,
   "metadata": {},
   "outputs": [
    {
     "data": {
      "text/plain": [
       "-2"
      ]
     },
     "execution_count": 41,
     "metadata": {},
     "output_type": "execute_result"
    }
   ],
   "source": [
    "\"\"\"В переменных a и b записаны 2 различных числа. \n",
    "Вам необходимо написать код, который меняет значения a и b местами \n",
    "без использования третьей переменной.\"\"\"\n",
    "a=5\n",
    "b=7\n",
    "a, b = b, a # ответ только в этой строчке. Остальное писал только для проверки\n",
    "b-a"
   ]
  },
  {
   "cell_type": "code",
   "execution_count": 53,
   "metadata": {},
   "outputs": [
    {
     "data": {
      "text/plain": [
       "19"
      ]
     },
     "execution_count": 53,
     "metadata": {},
     "output_type": "execute_result"
    }
   ],
   "source": [
    "\"\"\"Дано число в двоичной системе счисления: num=10011. \n",
    "Напишите алгоритм перевода этого числа в привычную нам десятичную систему счисления.\n",
    "\"\"\"\n",
    "n=10011\n",
    "int(str(n),2)"
   ]
  },
  {
   "cell_type": "code",
   "execution_count": null,
   "metadata": {},
   "outputs": [],
   "source": []
  },
  {
   "cell_type": "code",
   "execution_count": null,
   "metadata": {},
   "outputs": [],
   "source": []
  },
  {
   "cell_type": "code",
   "execution_count": null,
   "metadata": {},
   "outputs": [],
   "source": []
  },
  {
   "cell_type": "code",
   "execution_count": null,
   "metadata": {},
   "outputs": [],
   "source": []
  },
  {
   "cell_type": "code",
   "execution_count": null,
   "metadata": {},
   "outputs": [],
   "source": []
  }
 ],
 "metadata": {
  "kernelspec": {
   "display_name": "Python 3",
   "language": "python",
   "name": "python3"
  },
  "language_info": {
   "codemirror_mode": {
    "name": "ipython",
    "version": 3
   },
   "file_extension": ".py",
   "mimetype": "text/x-python",
   "name": "python",
   "nbconvert_exporter": "python",
   "pygments_lexer": "ipython3",
   "version": "3.7.0"
  }
 },
 "nbformat": 4,
 "nbformat_minor": 2
}
